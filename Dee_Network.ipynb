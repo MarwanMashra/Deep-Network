{
 "cells": [
  {
   "cell_type": "markdown",
   "metadata": {},
   "source": [
    "# Deep Learning - Lab Exercise 2\n",
    "\n",
    "In the first lab exercise, we built a simple linear classifier.\n",
    "Although it can give reasonable results on the MNIST datasetÂ (~92.5% of accuracy), deeper neural networks can achieve more the 99% accuracy.\n",
    "However, it can quickly become really impracical to explicitly code forward and backward passes.\n",
    "Hence, it is useful to rely on an auto-diff library where we specify the forward pass once, and the backward pass is automatically deduced from the computational graph structure.\n",
    "\n",
    "In this lab exercise, we will build a small and simple auto-diff lib that mimics the autograd mechanism from Pytorch (of course, we will simplify a lot!)\n"
   ]
  },
  {
   "cell_type": "code",
   "execution_count": 231,
   "metadata": {},
   "outputs": [],
   "source": [
    "# import libs that we will use\n",
    "import os\n",
    "import numpy as np\n",
    "import matplotlib.pyplot as plt\n",
    "from matplotlib.ticker import PercentFormatter\n",
    "import matplotlib.patches as patches\n",
    "import math\n",
    "from scipy.stats import pearsonr\n",
    "\n",
    "# To load the data we will use the script of Gaetan Marceau Caron\n",
    "# You can download it from the course webiste and move it to the same directory that contains this ipynb file\n",
    "import dataset_loader\n",
    "\n",
    "%matplotlib inline"
   ]
  },
  {
   "cell_type": "markdown",
   "metadata": {},
   "source": [
    "# Data"
   ]
  },
  {
   "cell_type": "code",
   "execution_count": 2,
   "metadata": {},
   "outputs": [],
   "source": [
    "# Download mnist dataset \n",
    "if(\"mnist.pkl.gz\" not in os.listdir(\".\")):\n",
    "    # this link doesn't work any more,\n",
    "    # seach on google for the file \"mnist.pkl.gz\"\n",
    "    # and download it\n",
    "    !wget http://deeplearning.net/data/mnist/mnist.pkl.gz\n",
    "\n",
    "# if you have it somewhere else, you can comment the lines above\n",
    "# and overwrite the path below\n",
    "mnist_path = \"./mnist.pkl.gz\""
   ]
  },
  {
   "cell_type": "code",
   "execution_count": 3,
   "metadata": {},
   "outputs": [],
   "source": [
    "# load the 3 splits\n",
    "train_data, dev_data, test_data = dataset_loader.load_mnist(mnist_path)"
   ]
  },
  {
   "cell_type": "code",
   "execution_count": 4,
   "metadata": {},
   "outputs": [
    {
     "name": "stdout",
     "output_type": "stream",
     "text": [
      "label: 9\n"
     ]
    },
    {
     "data": {
      "text/plain": [
       "<matplotlib.image.AxesImage at 0x7f8988c1fa90>"
      ]
     },
     "execution_count": 4,
     "metadata": {},
     "output_type": "execute_result"
    },
    {
     "data": {
      "image/png": "[encoded data removed]",
      "text/plain": [
       "<Figure size 432x288 with 1 Axes>"
      ]
     },
     "metadata": {
      "needs_background": "light"
     },
     "output_type": "display_data"
    }
   ],
   "source": [
    "index = 900\n",
    "label = train_data[1][index]\n",
    "picture = train_data[0][index]\n",
    "\n",
    "print(\"label: %i\" % label)\n",
    "plt.imshow(picture.reshape(28,28), cmap='Greys')"
   ]
  },
  {
   "cell_type": "markdown",
   "metadata": {},
   "source": [
    "# Computation nodes\n",
    "\n",
    "Instead of directly manipulating numpy arrays, we will manipulate abstraction that contains:\n",
    "- a value (i.e. a numpy array)\n",
    "- a bool indicating if we wish to compute the gradient with respect to the value\n",
    "- the gradient with respect to the value\n",
    "- the operation to call during backpropagation\n",
    "\n",
    "There will be two kind of nodes:\n",
    "- Tensor: a generic computation node\n",
    "- Parameter: a computation node that is used to store parameters of the network. Parameters are always leaf nodes, i.e. they cannot be build from other computation nodes.\n",
    "\n",
    "Our implementation of the backward pass will be really simple and incorrect in the general case (i.e. won't work with computation graph with loops).\n",
    "We will just apply the derivative function for a given tensor and then call the ones of its antecedents, recursively.\n",
    "This simple algorithm is good enough for this exercise.\n",
    "\n",
    "Note that a real implementation of backprop will store temporary values during forward that can be used during backward to improve computation speed. We do not do that here."
   ]
  },
  {
   "cell_type": "code",
   "execution_count": 5,
   "metadata": {},
   "outputs": [],
   "source": [
    "class Tensor:\n",
    "    def __init__(self, data, require_grad=False):\n",
    "        # test type of data: should be np array\n",
    "        if isinstance(data, float):\n",
    "            data = np.array([data,])\n",
    "        if type(data) != np.ndarray:\n",
    "            raise RuntimeError(\"Input should be a numpy array\")\n",
    "\n",
    "        # store data for this tensor\n",
    "        self.data = data\n",
    "        self.require_grad = require_grad\n",
    "        \n",
    "        # this values should be set to enable autograd!\n",
    "        self.gradient = None\n",
    "        self.d = None\n",
    "        self.backptr = None\n",
    "        \n",
    "    def zero_grad(self):\n",
    "        \"\"\"\n",
    "        Set the gradient of thie tensor to 0\n",
    "        \"\"\"\n",
    "        if self.require_grad:\n",
    "            self.gradient = np.zeros_like(self.data)\n",
    "            \n",
    "    def accumulate_gradient(self, gradient):\n",
    "        \"\"\"\n",
    "        Accumulte gradient for this tensor\n",
    "        \"\"\"\n",
    "        if gradient.shape != self.data.shape:\n",
    "            raise RuntimeError(\"Invalid gradient dimension\")\n",
    "\n",
    "        if self.gradient is None:\n",
    "            self.gradient = np.copy(gradient)\n",
    "        else:\n",
    "            self.gradient += gradient\n",
    "            \n",
    "    def backward(self, g=None):\n",
    "        \"\"\"\n",
    "        The backward pass!\n",
    "        If g != None, then g is the gradient for the current node.\n",
    "        i.e. g will be != None only for the loss output.\n",
    "        \n",
    "        You should call the function stored in self.d with correct arguments,\n",
    "        and then recursively call the backward methods of tensors in the backptr list if:\n",
    "        1. they require a gradient\n",
    "        2. they are of type Tensor: check with isinstance(o, Tensor)\n",
    "        \"\"\"\n",
    "        if not self.require_grad:  # stop right now if this node does not require a gradient\n",
    "            return\n",
    "        \n",
    "        if g is not None:\n",
    "            if isinstance(g, float):\n",
    "                g = np.array([g])\n",
    "            if type(g) != np.ndarray:\n",
    "                raise RuntimeError(\"Gradient should be a numpy array\")\n",
    "            if g.shape != self.data.shape:\n",
    "                raise RuntimeError(\"Gradient of different size than the value!\")\n",
    "                \n",
    "            self.gradient = g\n",
    "\n",
    "        # run the backward operation of the tensor\n",
    "        self.d(self.backptr, self.gradient)\n",
    "        \n",
    "        # run the backward operation of each tensor in the list if (it's a tensor, not a Parameter, and requires to compute the gradient)\n",
    "        for ptr in self.backptr:\n",
    "            if hasattr(ptr,'require_grad') and ptr.require_grad and isinstance(ptr, Tensor) and not isinstance(ptr, Parameter):\n",
    "                ptr.backward()\n",
    "\n",
    "    \n",
    "class Parameter(Tensor):\n",
    "    \"\"\"\n",
    "    This class will be used to store parameters of the network only!\n",
    "    \"\"\"\n",
    "    def __init__(self, data, name=\"unamed\"):\n",
    "        super().__init__(data, require_grad=True)\n",
    "        self.name = name\n",
    "        \n",
    "    def backward(self):\n",
    "        raise RuntimeError(\"You cannot backprop from a Parameter node\")"
   ]
  },
  {
   "cell_type": "markdown",
   "metadata": {},
   "source": [
    "# Functions\n",
    "\n",
    "Functions manipulate tensors and build the required information for autograd.\n",
    "A function returns a Tensor that should have require_grad = True if at least of the arguments require a gradient."
   ]
  },
  {
   "cell_type": "code",
   "execution_count": 6,
   "metadata": {},
   "outputs": [],
   "source": [
    "def any_require_grad(l):\n",
    "    \"\"\"\n",
    "    Input:\n",
    "    - l: an iterable (e.g. a list)\n",
    "    Ouput:\n",
    "    - True if any tensor in the input requires a gradient\n",
    "    \"\"\"\n",
    "    return any(t.require_grad for t in l)"
   ]
  },
  {
   "cell_type": "code",
   "execution_count": 7,
   "metadata": {},
   "outputs": [],
   "source": [
    "# Here is an exemple with the ReLU\n",
    "def relu(x):\n",
    "    v = np.maximum(0, x.data)\n",
    "    \n",
    "    output = Tensor(v, require_grad=x.require_grad)\n",
    "    output.d = backward_relu\n",
    "    output.backptr = [x]\n",
    "    \n",
    "    return output\n",
    "\n",
    "def backward_relu(backptr, g):\n",
    "    x, = backptr\n",
    "    \n",
    "    # the gradient is accumulated in the arguments only if required\n",
    "    if x.require_grad:\n",
    "        x.accumulate_gradient(g * (x.data > 0))"
   ]
  },
  {
   "cell_type": "code",
   "execution_count": 279,
   "metadata": {},
   "outputs": [],
   "source": [
    "def tanh(x):\n",
    "    '''\n",
    "    The same logic as for relu, but with a different activation function, defined in v\n",
    "    '''\n",
    "    v = (np.exp(2*x.data)-1) / ( np.exp(2*x.data)+1) \n",
    "    \n",
    "    output = Tensor(v, require_grad=x.require_grad)\n",
    "    output.d = backward_tanh\n",
    "    output.backptr = [x]\n",
    "    \n",
    "    return output\n",
    "\n",
    "def backward_tanh(backptr, g):\n",
    "    '''\n",
    "    The same logic as for relu, but with a different activation function, defined in v\n",
    "    '''\n",
    "    x, = backptr\n",
    "    \n",
    "    # the gradient is accumulated in the arguments only if required\n",
    "    if x.require_grad:   \n",
    "        # grad_tanh = 1 - tanh**2\n",
    "        grad_tanh = 1 - ((np.exp(2*x.data)-1) / ( np.exp(2*x.data)+1) )**2\n",
    "        x.accumulate_gradient(g * grad_tanh)"
   ]
  },
  {
   "cell_type": "markdown",
   "metadata": {},
   "source": [
    "Next, we implement the affine transform operation.\n",
    "You can reuse the code from the first lab exercise, with one major difference: you have to compute the gradient with respect to x too!"
   ]
  },
  {
   "cell_type": "code",
   "execution_count": 9,
   "metadata": {},
   "outputs": [],
   "source": [
    "def affine_transform(W, b, x):\n",
    "    v = W.data @ x.data + b.data\n",
    "    \n",
    "    output = Tensor(v, require_grad=any_require_grad([W, b, x]))\n",
    "    output.d = backward_affine_transform\n",
    "    output.backptr = [W, b, x]\n",
    "    \n",
    "    return output\n",
    "\n",
    "def backward_affine_transform(backptr, g):\n",
    "    W, b, x, = backptr\n",
    "    \n",
    "    # the gradient is accumulated in the arguments only if required\n",
    "    if W.require_grad:\n",
    "        # we use expand_dims to be able to take the transpose of x\n",
    "        W.accumulate_gradient(np.expand_dims(g,axis=1) @  np.expand_dims(x.data,axis=1).T)\n",
    "    if b.require_grad:\n",
    "        # the grad here is g * 1 = g\n",
    "        b.accumulate_gradient(g)\n",
    "    if isinstance(x, Tensor) and x.require_grad:\n",
    "        # print(W.data.shape, b.data.shape, x.data.shape, g.shape, (g @ W.data).shape)\n",
    "        # (10, 100) (10,) (100,) (10,) (100,)\n",
    "        x.accumulate_gradient(g @ W.data)"
   ]
  },
  {
   "cell_type": "code",
   "execution_count": 10,
   "metadata": {},
   "outputs": [],
   "source": [
    "# we use an underscore because this function does not manipulate tensors:\n",
    "# it is exactly the same as in the previous exercise\n",
    "def _softmax(x):\n",
    "    x = np.array(x)    # ensure that x is a numpy array and not a list\n",
    "    exp_norm = x.max()        # b will be used to normalize\n",
    "    exp_sum = np.exp(x - exp_norm).sum()   # the sum of the exponential\n",
    "    return np.exp(x - exp_norm)/exp_sum\n",
    "\n",
    "def nll(x, gold):\n",
    "    # gold should be a Parameter (has an attr require_grad)\n",
    "    v = -np.log(_softmax(x.data)[gold])\n",
    "    \n",
    "    output = Tensor(v, require_grad=x.require_grad)\n",
    "    output.d = backward_nll\n",
    "    output.backptr = [x, gold]\n",
    "    \n",
    "    return output\n",
    "\n",
    "def backward_nll(backptr, g):\n",
    "    x, gold, = backptr\n",
    "    if x.require_grad:\n",
    "        # compute the grad of the first half\n",
    "        first_term = - (np.arange(x.data.shape[0]) == gold).astype(int)\n",
    "        # compute the grad of the second half\n",
    "        second_term = _softmax(x.data)\n",
    "        # compute the final grad\n",
    "        x.accumulate_gradient(g * (first_term + second_term))"
   ]
  },
  {
   "cell_type": "markdown",
   "metadata": {},
   "source": [
    "# Module\n",
    "\n",
    "Neural networks or parts of neural networks will be stored in Modules.\n",
    "They implement method to retrieve all parameters of the network and subnetwork."
   ]
  },
  {
   "cell_type": "code",
   "execution_count": 11,
   "metadata": {},
   "outputs": [],
   "source": [
    "class Module:\n",
    "    def __init__(self):\n",
    "        raise NotImplemented(\"\")\n",
    "    def parameters(self):\n",
    "        ret = []\n",
    "        for name in dir(self):\n",
    "            o = self.__getattribute__(name)\n",
    "            if type(o) is Parameter:\n",
    "                ret.append(o)\n",
    "            if isinstance(o, Module) or isinstance(o, ModuleList):\n",
    "                ret.extend(o.parameters())\n",
    "        return ret\n",
    "\n",
    "# if you want to store a list of Parameters or Module,\n",
    "# you must store them in a ModuleList instead of a python list,\n",
    "# in order to collect the parameters correctly\n",
    "class ModuleList(list):\n",
    "    def parameters(self):\n",
    "        ret = []\n",
    "        for m in self:\n",
    "            if type(m) is Parameter:\n",
    "                ret.append(m)\n",
    "            elif isinstance(m, Module) or isinstance(m, ModuleList):\n",
    "                ret.extend(m.parameters())\n",
    "        return ret"
   ]
  },
  {
   "cell_type": "markdown",
   "metadata": {},
   "source": [
    "# Initialization and optimization"
   ]
  },
  {
   "cell_type": "code",
   "execution_count": 12,
   "metadata": {},
   "outputs": [],
   "source": [
    "def zero_init(b):\n",
    "    b[:] = 0.\n",
    "\n",
    "def glorot_init(W):\n",
    "    # initialize parameters following xavier initialization\n",
    "    m, n = W.shape\n",
    "    u = np.sqrt(6)/np.sqrt(m+n)\n",
    "    W[:] = np.random.uniform(-u, u, W.shape)\n",
    "    \n",
    "def kaiming_init(W):\n",
    "    # initialize parameters following kaiming initialization\n",
    "    m, n = W.shape\n",
    "    W[:] = np.random.normal(0, 2/n , W.shape)"
   ]
  },
  {
   "cell_type": "code",
   "execution_count": 87,
   "metadata": {},
   "outputs": [],
   "source": [
    "def triggerLearningRateDecay(train_loss):\n",
    "    \"\"\" check if we need to reduce the learning rate\n",
    "\n",
    "    Args:\n",
    "        train_loss (list): list of training losses\n",
    "\n",
    "    Returns:\n",
    "        Bool: Whether or not to reduce the learning rate\n",
    "    \"\"\"\n",
    "    if len(train_loss) > 2:\n",
    "        lastChangeInLoss = train_loss[-2]-train_loss[-1]\n",
    "        if lastChangeInLoss < 0:\n",
    "            return True;\n",
    "    return False"
   ]
  },
  {
   "cell_type": "code",
   "execution_count": 158,
   "metadata": {},
   "outputs": [],
   "source": [
    "# simple gradient descent optimizer\n",
    "class SGD:\n",
    "    def __init__(self, params, lr=0.1, lrDecay = True):\n",
    "        self.params = params\n",
    "        self.lr = lr\n",
    "        self.lrDecay = lrDecay\n",
    "        \n",
    "    def step(self):\n",
    "        for p in self.params:\n",
    "            p.data[:] = p.data - self.lr * p.gradient\n",
    "        \n",
    "    def zero_grad(self):\n",
    "        for p in self.params:\n",
    "            p.zero_grad()\n",
    "            \n",
    "            \n",
    "class MomtenumSGD(SGD):\n",
    "    def __init__(self, params, lr=0.1, beta = 0.95, lrDecay = True):\n",
    "        super().__init__(params, lr = lr, lrDecay = lrDecay)\n",
    "        self.prevVelocityParams = []\n",
    "        self.beta = beta\n",
    "        for p in params:\n",
    "            self.prevVelocityParams.append(np.zeros_like(p.data))\n",
    "        \n",
    "    def step(self):\n",
    "        for pIndex in range(len(self.prevVelocityParams)):\n",
    "            p = self.params[pIndex]\n",
    "            veloP = self.prevVelocityParams[pIndex]\n",
    "            self.prevVelocityParams[pIndex] = self.beta*veloP + (1-self.beta)*p.gradient\n",
    "            p.data[:] = p.data - self.lr * self.prevVelocityParams[pIndex]\n",
    "        "
   ]
  },
  {
   "cell_type": "markdown",
   "metadata": {},
   "source": [
    "# Networks and training loop\n",
    "\n",
    "We first create a simple linear classifier, similar to the first lab exercise."
   ]
  },
  {
   "cell_type": "code",
   "execution_count": 74,
   "metadata": {},
   "outputs": [
    {
     "data": {
      "image/png": "[encoded data removed]",
      "text/plain": [
       "<Figure size 432x288 with 1 Axes>"
      ]
     },
     "metadata": {
      "needs_background": "light"
     },
     "output_type": "display_data"
    },
    {
     "data": {
      "image/png": "[encoded data removed]",
      "text/plain": [
       "<Figure size 432x288 with 1 Axes>"
      ]
     },
     "metadata": {
      "needs_background": "light"
     },
     "output_type": "display_data"
    }
   ],
   "source": [
    "plot_loss_and_accuracy(linear_history, linear_network)"
   ]
  },
  {
   "cell_type": "code",
   "execution_count": 104,
   "metadata": {},
   "outputs": [],
   "source": [
    "def plot_loss_and_accuracy(history, module):\n",
    "    for evalType, minOrMax in ((\"loss\", np.argmin),(\"acc\", np.argmax)):\n",
    "        plt.figure()\n",
    "        minY = 1\n",
    "        maxY = 0\n",
    "        \n",
    "        for dataType, color in ((\"train\",\"blue\"),(\"val\",\"orange\")):\n",
    "            \n",
    "            linHistoryKey = evalType + \"_\" + dataType\n",
    "            plt.plot(history[linHistoryKey],label=dataType + \" \" + evalType, c=color)\n",
    "            \n",
    "            bestIndex = minOrMax(history[linHistoryKey])\n",
    "            plt.scatter(bestIndex, history[linHistoryKey][bestIndex],c=\"red\")\n",
    "            \n",
    "            numMeasurements = len(history[linHistoryKey])\n",
    "            minY = min(minY, min(history[linHistoryKey]))\n",
    "            maxY = max(maxY, max(history[linHistoryKey]))\n",
    "        \n",
    "\n",
    "        patchHeight = maxY-minY\n",
    "        minY -= patchHeight*0.05\n",
    "        maxY += patchHeight*0.05\n",
    "        patchHeight = maxY-minY\n",
    "        measPerEpoch = numMeasurements/history[\"n_epochs\"]\n",
    "        for epoch in range(history[\"n_epochs\"]):\n",
    "            #xy, width, height\n",
    "            rect = patches.Rectangle((epoch*measPerEpoch, minY), measPerEpoch, patchHeight, linewidth=0.1, edgecolor='b', facecolor=(\"b\" if epoch % 2 == 0 else \"y\"),alpha=0.3)\n",
    "            plt.gca().add_patch(rect)\n",
    "        \n",
    "        plt.xticks(np.arange(history[\"n_epochs\"])*measPerEpoch+measPerEpoch/2,np.arange(history[\"n_epochs\"]))\n",
    "        plt.xlabel(\"Epoch\")\n",
    "        plt.legend()\n",
    "        if type(module) == DeepNetwork:\n",
    "            title = (\"Accuracy\" if evalType == \"acc\" else \"Loss\") + \" for \" + module.name + \" network with \" + str(module.n_layers) + \" hidden layers of dimension \" + str(module.hidden_dim)\n",
    "        else:\n",
    "            title = (\"Accuracy\" if evalType == \"acc\" else \"Loss\") + \" for \" + module.name + \" simple linear model (no hidden layers)\"\n",
    "        plt.title(title)  "
   ]
  },
  {
   "cell_type": "code",
   "execution_count": 97,
   "metadata": {},
   "outputs": [],
   "source": [
    "class LinearNetwork(Module):\n",
    "    def __init__(self, dim_input, dim_output, name = \"\"):\n",
    "        # build the parameters\n",
    "        self.W = Parameter(np.ndarray((dim_output, dim_input)), name=\"W\")\n",
    "        self.b = Parameter(np.ndarray((dim_output,)), name=\"b\")\n",
    "        self.name = name\n",
    "        self.init_parameters()\n",
    "    def init_parameters(self):\n",
    "        # init parameters of the network (i.e W and b) following xavier initialization\n",
    "        glorot_init(self.W.data)\n",
    "        zero_init(self.b.data)\n",
    "    def forward(self, x):\n",
    "        # the forward pass in the network\n",
    "        return affine_transform(self.W, self.b, x)"
   ]
  },
  {
   "cell_type": "markdown",
   "metadata": {},
   "source": [
    "We will train several neural networks.\n",
    "Therefore, we encapsulate the training loop in a function.\n",
    "\n",
    "**warning**: you have to call optimizer.zero_grad() before each backward pass to reinitialize the gradient of the parameters!"
   ]
  },
  {
   "cell_type": "code",
   "execution_count": 187,
   "metadata": {},
   "outputs": [],
   "source": [
    "from sklearn.utils import shuffle\n",
    "from tqdm.notebook import tqdm\n",
    "\n",
    "def evaluate(network, data):\n",
    "    \"\"\" computes the loss and accuracy of a given network on a given data\n",
    "\n",
    "    Args:\n",
    "        network (object): a linear or a deep network to evaluate\n",
    "        data (object): the dataset on which perform the evaluation\n",
    "\n",
    "    Returns:\n",
    "        (int, int): loss, accuracy\n",
    "    \"\"\"\n",
    "    loss_h = []\n",
    "    acc_h = []\n",
    "    for x, gold in zip(data[0], data[1]):\n",
    "\n",
    "        # transform x from a numpy vector to an object Parameter\n",
    "        x = Parameter(x, name='x')\n",
    "\n",
    "        # forward x to get the prediction\n",
    "        logits = network.forward(x)\n",
    "        y_pred = np.argmax(_softmax(logits.data))\n",
    "        loss = nll(logits, gold)\n",
    "\n",
    "        loss_h.append(loss.data)\n",
    "        acc_h.append(int(gold==y_pred))\n",
    "\n",
    "    return np.array(loss_h).mean(), np.array(acc_h).mean()\n",
    "\n",
    "\n",
    "def training_loop(network, optimizer, train_data, dev_data, n_epochs=10):\n",
    "\n",
    "    n_eval = 5 # number of evaluations on the dev set per epoch\n",
    "\n",
    "    # variable in which the history of the training will be stored\n",
    "    history = {\n",
    "        'loss_train': [],\n",
    "        'loss_val': [],\n",
    "        'acc_train': [],\n",
    "        'acc_val': [],\n",
    "        'acc_test':[],\n",
    "        'loss_test':[],\n",
    "        \"n_epochs\":n_epochs\n",
    "    }\n",
    "\n",
    "    # to remember the weights that gave the best score\n",
    "    W_best, b_best, loss_best, acc_best = network.W, network.b, float('inf'), float('-inf')\n",
    "\n",
    "    for epoch in tqdm(range(n_epochs)):\n",
    "        # shuffle the data at each iteration\n",
    "        X, y = shuffle(train_data[0], train_data[1])\n",
    "        loss_h = []\n",
    "        acc_h = []\n",
    "\n",
    "        # to know when to evaluate when to do the evaluation on the dev set\n",
    "        v = int(X.shape[0] / n_eval)\n",
    "\n",
    "        for i, (x, gold) in enumerate(zip(X, y)):\n",
    "\n",
    "            # transform x into a Parameter and forward it through the network\n",
    "            x = Parameter(x, name='x')\n",
    "            logits = network.forward(x)\n",
    "            loss = nll(logits, gold)\n",
    "\n",
    "            # put the gradient back to 0 before each update (step)\n",
    "            optimizer.zero_grad()\n",
    "            loss.backward(1.)   # incoming gradient for the loss function is 1\n",
    "            optimizer.step()\n",
    "\n",
    "\n",
    "            # save the history of the training\n",
    "            loss_h.append(loss.data)\n",
    "            y_pred = np.argmax(_softmax(logits.data))\n",
    "            acc_h.append(int(gold==y_pred))\n",
    "\n",
    "            # evaluation on the dev set\n",
    "            if not (i+1)%v:\n",
    "                \n",
    "                # save the history of the evaluation\n",
    "                history['loss_train'].append(np.array(loss_h).mean())\n",
    "                history['acc_train'].append(np.array(acc_h).mean())\n",
    "                loss_h = []\n",
    "                acc_h = []\n",
    "                \n",
    "                # do the evaluation\n",
    "                loss_val, acc_val = evaluate(network, dev_data)\n",
    "                print(\"current loss\",loss_val,\"and accuracy\",acc_val)\n",
    "                history['acc_val'].append(acc_val)\n",
    "                history['loss_val'].append(loss_val)\n",
    "                \n",
    "                loss_test, acc_test = evaluate(network, test_data)\n",
    "                print(\"current test loss\",loss_test,\"and accuracy\",acc_test)\n",
    "                history['acc_test'].append(acc_test)\n",
    "                history['loss_test'].append(loss_test)\n",
    "\n",
    "                # check if these parameters gave the best score yet\n",
    "                if acc_val > acc_best:\n",
    "                    W_best, b_best, loss_best, acc_best = network.W, network.b, loss_val, acc_val\n",
    "                    \n",
    "                # lower the learning if needed\n",
    "                if optimizer.lrDecay and triggerLearningRateDecay(history[\"loss_val\"]):\n",
    "                    print(\"triggering lr decay\")\n",
    "                    optimizer.lr *= 0.5\n",
    "                    \n",
    "        \n",
    "\n",
    "    return history\n",
    " "
   ]
  },
  {
   "cell_type": "code",
   "execution_count": 163,
   "metadata": {},
   "outputs": [
    {
     "name": "stdout",
     "output_type": "stream",
     "text": [
      "Evaluation on the test set: loss=0.311 accuracy=0.923\n"
     ]
    },
    {
     "data": {
      "image/png": "[encoded data removed]",
      "text/plain": [
       "<Figure size 432x288 with 1 Axes>"
      ]
     },
     "metadata": {
      "needs_background": "light"
     },
     "output_type": "display_data"
    },
    {
     "data": {
      "image/png": "[encoded data removed]",
      "text/plain": [
       "<Figure size 432x288 with 1 Axes>"
      ]
     },
     "metadata": {
      "needs_background": "light"
     },
     "output_type": "display_data"
    }
   ],
   "source": [
    "test_loss, test_acc = evaluate(lin_bla, test_data)\n",
    "print(f'Evaluation on the test set: loss={test_loss:.3f} accuracy={test_acc:.3f}')\n",
    "plot_loss_and_accuracy(lin_hist_bla, lin_bla)"
   ]
  },
  {
   "cell_type": "code",
   "execution_count": 101,
   "metadata": {},
   "outputs": [
    {
     "data": {
      "application/vnd.jupyter.widget-view+json": {
       "model_id": "06f10f2190304d7a8cb6d7ca1ec6e95e",
       "version_major": 2,
       "version_minor": 0
      },
      "text/plain": [
       "  0%|          | 0/5 [00:00<?, ?it/s]"
      ]
     },
     "metadata": {},
     "output_type": "display_data"
    }
   ],
   "source": [
    "dim_input = 28*28\n",
    "dim_output = 10\n",
    "\n",
    "linear_network_vanilla = LinearNetwork(dim_input, dim_output, name = \"vanilla\")\n",
    "optimizer_vanilla = SGD(linear_network_vanilla.parameters(), 0.01, lrDecay = False)\n",
    "linear_history_vanilla = training_loop(linear_network_vanilla, optimizer_vanilla, train_data, dev_data, n_epochs=5)\n",
    "\n",
    "linear_network_lr_decay = LinearNetwork(dim_input, dim_output, name = \"with learning rate decay\")\n",
    "optimizer_lr_decay = SGD(linear_network_lr_decay.parameters(), 0.01, lrDecay = True)\n",
    "linear_history_lr_decay = training_loop(linear_network_lr_decay, optimizer_lr_decay, train_data, dev_data, n_epochs=5)\n"
   ]
  },
  {
   "cell_type": "code",
   "execution_count": 102,
   "metadata": {},
   "outputs": [
    {
     "name": "stdout",
     "output_type": "stream",
     "text": [
      "Evaluation on the test set: loss=0.276 accuracy=0.921\n",
      "Evaluation on the test set: loss=0.277 accuracy=0.923\n"
     ]
    }
   ],
   "source": [
    "test_loss, test_acc = evaluate(linear_network_lr_decay, test_data)\n",
    "print(f'Evaluation on the test set: loss={test_loss:.3f} accuracy={test_acc:.3f}')\n",
    "test_loss, test_acc = evaluate(linear_network_vanilla, test_data)\n",
    "print(f'Evaluation on the test set: loss={test_loss:.3f} accuracy={test_acc:.3f}')"
   ]
  },
  {
   "cell_type": "code",
   "execution_count": 209,
   "metadata": {},
   "outputs": [
    {
     "data": {
      "text/plain": [
       "dict_keys(['using momentum SGD_lr:1.0', 'using momentum SGD_lr:0.1', 'using momentum SGD_lr:0.01', 'using momentum SGD_lr:0.001', 'using momentum SGD_lr:0.0001', 'using momentum SGD_lr:1e-05', 'using momentum SGD_lr:1e-06', 'using momentum SGD_lr:1e-07', 'vanilla_lr:1.0', 'vanilla_lr:0.1', 'vanilla_lr:0.01', 'vanilla_lr:0.001', 'vanilla_lr:0.0001', 'vanilla_lr:1e-05', 'vanilla_lr:1e-06', 'vanilla_lr:1e-07', 'using lr decay and momentum SGD_lr:1.0', 'using lr decay and momentum SGD_lr:0.1', 'using lr decay and momentum SGD_lr:0.01', 'using lr decay and momentum SGD_lr:0.001', 'using lr decay and momentum SGD_lr:0.0001', 'using lr decay and momentum SGD_lr:1e-05', 'using lr decay and momentum SGD_lr:1e-06', 'using lr decay and momentum SGD_lr:1e-07', 'using lr decay_lr:1.0', 'using lr decay_lr:0.1', 'using lr decay_lr:0.01', 'using lr decay_lr:0.001', 'using lr decay_lr:0.0001', 'using lr decay_lr:1e-05', 'using lr decay_lr:1e-06', 'using lr decay_lr:1e-07'])"
      ]
     },
     "execution_count": 209,
     "metadata": {},
     "output_type": "execute_result"
    }
   ],
   "source": [
    "linear_histories.keys()"
   ]
  },
  {
   "cell_type": "code",
   "execution_count": 293,
   "metadata": {},
   "outputs": [
    {
     "data": {
      "text/html": [
       "<div>\n",
       "<style scoped>\n",
       "    .dataframe tbody tr th:only-of-type {\n",
       "        vertical-align: middle;\n",
       "    }\n",
       "\n",
       "    .dataframe tbody tr th {\n",
       "        vertical-align: top;\n",
       "    }\n",
       "\n",
       "    .dataframe thead th {\n",
       "        text-align: right;\n",
       "    }\n",
       "</style>\n",
       "<table border=\"1\" class=\"dataframe\">\n",
       "  <thead>\n",
       "    <tr style=\"text-align: right;\">\n",
       "      <th></th>\n",
       "      <th>momentum</th>\n",
       "      <th>using_decay</th>\n",
       "      <th>neuronsPerLayer</th>\n",
       "      <th>test_acc</th>\n",
       "      <th>time_til_conv</th>\n",
       "      <th>relu</th>\n",
       "    </tr>\n",
       "  </thead>\n",
       "  <tbody>\n",
       "    <tr>\n",
       "      <th>0</th>\n",
       "      <td>1</td>\n",
       "      <td>1</td>\n",
       "      <td>5</td>\n",
       "      <td>0.8939</td>\n",
       "      <td>6</td>\n",
       "      <td>True</td>\n",
       "    </tr>\n",
       "    <tr>\n",
       "      <th>1</th>\n",
       "      <td>1</td>\n",
       "      <td>1</td>\n",
       "      <td>5</td>\n",
       "      <td>0.8699</td>\n",
       "      <td>12</td>\n",
       "      <td>False</td>\n",
       "    </tr>\n",
       "    <tr>\n",
       "      <th>2</th>\n",
       "      <td>1</td>\n",
       "      <td>1</td>\n",
       "      <td>50</td>\n",
       "      <td>0.9745</td>\n",
       "      <td>6</td>\n",
       "      <td>True</td>\n",
       "    </tr>\n",
       "    <tr>\n",
       "      <th>3</th>\n",
       "      <td>1</td>\n",
       "      <td>1</td>\n",
       "      <td>50</td>\n",
       "      <td>0.9702</td>\n",
       "      <td>5</td>\n",
       "      <td>False</td>\n",
       "    </tr>\n",
       "    <tr>\n",
       "      <th>4</th>\n",
       "      <td>1</td>\n",
       "      <td>1</td>\n",
       "      <td>100</td>\n",
       "      <td>0.9766</td>\n",
       "      <td>5</td>\n",
       "      <td>True</td>\n",
       "    </tr>\n",
       "    <tr>\n",
       "      <th>5</th>\n",
       "      <td>1</td>\n",
       "      <td>1</td>\n",
       "      <td>100</td>\n",
       "      <td>0.9752</td>\n",
       "      <td>8</td>\n",
       "      <td>False</td>\n",
       "    </tr>\n",
       "  </tbody>\n",
       "</table>\n",
       "</div>"
      ],
      "text/plain": [
       "   momentum  using_decay neuronsPerLayer  test_acc  time_til_conv   relu\n",
       "0         1            1               5    0.8939              6   True\n",
       "1         1            1               5    0.8699             12  False\n",
       "2         1            1              50    0.9745              6   True\n",
       "3         1            1              50    0.9702              5  False\n",
       "4         1            1             100    0.9766              5   True\n",
       "5         1            1             100    0.9752              8  False"
      ]
     },
     "execution_count": 293,
     "metadata": {},
     "output_type": "execute_result"
    }
   ],
   "source": [
    "#makeDF(deep_histories_neurons_per_layer)\n",
    "makeDFNeuronsPerLayer(deep_histories_neurons_per_layer)"
   ]
  },
  {
   "cell_type": "code",
   "execution_count": 292,
   "metadata": {},
   "outputs": [],
   "source": [
    "def makeDFNeuronsPerLayer(histories):\n",
    "    d = []\n",
    "    for k in histories.keys():\n",
    "        row = {}\n",
    "        if \"momentum\" in k:\n",
    "            row[\"momentum\"] = 1\n",
    "        else:\n",
    "            row[\"momentum\"] = 0\n",
    "        if \"decay\" in k:\n",
    "            row[\"using_decay\"] = 1\n",
    "        else:\n",
    "            row[\"using_decay\"] = 0\n",
    "        row[\"neuronsPerLayer\"] = k.split(\"_\")[1]\n",
    "        row[\"test_acc\"] = getTestAcc(histories[k])\n",
    "        row[\"time_til_conv\"] = time_til_conversion(histories[k])\n",
    "        row[\"relu\"] = \"relu\" in k\n",
    "        d.append(row)\n",
    "    \n",
    "    return pd.DataFrame(d)\n",
    "\n",
    "def makeDF(histories):\n",
    "    d = []\n",
    "    for k in histories.keys():\n",
    "        row = {}\n",
    "        if \"momentum\" in k:\n",
    "            row[\"momentum\"] = 1\n",
    "        else:\n",
    "            row[\"momentum\"] = 0\n",
    "        if \"decay\" in k:\n",
    "            row[\"using_decay\"] = 1\n",
    "        else:\n",
    "            row[\"using_decay\"] = 0\n",
    "        row[\"lr\"] = k.split(\":\")[1]\n",
    "        row[\"test_acc\"] = getTestAcc(histories[k])\n",
    "        row[\"time_til_conv\"] = time_til_conversion(histories[k])\n",
    "        d.append(row)\n",
    "    \n",
    "    return pd.DataFrame(d)"
   ]
  },
  {
   "cell_type": "code",
   "execution_count": 207,
   "metadata": {},
   "outputs": [
    {
     "name": "stdout",
     "output_type": "stream",
     "text": [
      "0.9237\n"
     ]
    },
    {
     "data": {
      "image/png": "[encoded data removed]",
      "text/plain": [
       "<Figure size 432x288 with 1 Axes>"
      ]
     },
     "metadata": {
      "needs_background": "light"
     },
     "output_type": "display_data"
    }
   ],
   "source": [
    "accuracy_histogram(linear_histories)"
   ]
  },
  {
   "cell_type": "code",
   "execution_count": 225,
   "metadata": {},
   "outputs": [],
   "source": [
    "def getTestAcc(hist):\n",
    "    maxVal = hist[0][\"acc_test\"][np.argmax(hist[0][\"acc_val\"])]\n",
    "    return maxVal\n",
    "def accuracy_histogram(histories):\n",
    "    maxVals = []\n",
    "    for k in histories.keys():\n",
    "        hist = histories[k]\n",
    "        maxVal = getTestAcc(hist)\n",
    "        maxVals.append(maxVal)\n",
    "    plt.hist(maxVals,weights=np.ones(len(maxVals)) / len(maxVals))\n",
    "    plt.gca().yaxis.set_major_formatter(PercentFormatter(1))\n",
    "    plt.title(\"Distribution of Test-set Accuracies for Simple Linear Model\")\n",
    "    "
   ]
  },
  {
   "cell_type": "code",
   "execution_count": 191,
   "metadata": {},
   "outputs": [],
   "source": [
    "def test_on_best_dev_epoch(histories):\n",
    "    for k in histories.keys():\n",
    "        hist = histories[k]\n",
    "        max_validation_index = np.argmax(hist[0][\"acc_val\"])\n",
    "        "
   ]
  },
  {
   "cell_type": "code",
   "execution_count": 266,
   "metadata": {},
   "outputs": [
    {
     "data": {
      "text/html": [
       "<div>\n",
       "<style scoped>\n",
       "    .dataframe tbody tr th:only-of-type {\n",
       "        vertical-align: middle;\n",
       "    }\n",
       "\n",
       "    .dataframe tbody tr th {\n",
       "        vertical-align: top;\n",
       "    }\n",
       "\n",
       "    .dataframe thead th {\n",
       "        text-align: right;\n",
       "    }\n",
       "</style>\n",
       "<table border=\"1\" class=\"dataframe\">\n",
       "  <thead>\n",
       "    <tr style=\"text-align: right;\">\n",
       "      <th></th>\n",
       "      <th>momentum</th>\n",
       "      <th>using_decay</th>\n",
       "      <th>lr</th>\n",
       "      <th>test_acc</th>\n",
       "      <th>time_til_conv</th>\n",
       "    </tr>\n",
       "  </thead>\n",
       "  <tbody>\n",
       "    <tr>\n",
       "      <th>0</th>\n",
       "      <td>1</td>\n",
       "      <td>0</td>\n",
       "      <td>1.0</td>\n",
       "      <td>0.9206</td>\n",
       "      <td>2</td>\n",
       "    </tr>\n",
       "    <tr>\n",
       "      <th>1</th>\n",
       "      <td>1</td>\n",
       "      <td>0</td>\n",
       "      <td>0.1</td>\n",
       "      <td>0.9229</td>\n",
       "      <td>4</td>\n",
       "    </tr>\n",
       "    <tr>\n",
       "      <th>2</th>\n",
       "      <td>1</td>\n",
       "      <td>0</td>\n",
       "      <td>0.01</td>\n",
       "      <td>0.9207</td>\n",
       "      <td>3</td>\n",
       "    </tr>\n",
       "    <tr>\n",
       "      <th>3</th>\n",
       "      <td>1</td>\n",
       "      <td>0</td>\n",
       "      <td>0.001</td>\n",
       "      <td>0.9218</td>\n",
       "      <td>4</td>\n",
       "    </tr>\n",
       "    <tr>\n",
       "      <th>4</th>\n",
       "      <td>1</td>\n",
       "      <td>0</td>\n",
       "      <td>0.0001</td>\n",
       "      <td>0.9176</td>\n",
       "      <td>2</td>\n",
       "    </tr>\n",
       "    <tr>\n",
       "      <th>5</th>\n",
       "      <td>1</td>\n",
       "      <td>0</td>\n",
       "      <td>1e-05</td>\n",
       "      <td>0.9217</td>\n",
       "      <td>4</td>\n",
       "    </tr>\n",
       "    <tr>\n",
       "      <th>6</th>\n",
       "      <td>1</td>\n",
       "      <td>0</td>\n",
       "      <td>1e-06</td>\n",
       "      <td>0.9215</td>\n",
       "      <td>5</td>\n",
       "    </tr>\n",
       "    <tr>\n",
       "      <th>7</th>\n",
       "      <td>1</td>\n",
       "      <td>0</td>\n",
       "      <td>1e-07</td>\n",
       "      <td>0.9199</td>\n",
       "      <td>5</td>\n",
       "    </tr>\n",
       "    <tr>\n",
       "      <th>8</th>\n",
       "      <td>0</td>\n",
       "      <td>0</td>\n",
       "      <td>1.0</td>\n",
       "      <td>0.9195</td>\n",
       "      <td>5</td>\n",
       "    </tr>\n",
       "    <tr>\n",
       "      <th>9</th>\n",
       "      <td>0</td>\n",
       "      <td>0</td>\n",
       "      <td>0.1</td>\n",
       "      <td>0.9192</td>\n",
       "      <td>5</td>\n",
       "    </tr>\n",
       "    <tr>\n",
       "      <th>10</th>\n",
       "      <td>0</td>\n",
       "      <td>0</td>\n",
       "      <td>0.01</td>\n",
       "      <td>0.9216</td>\n",
       "      <td>5</td>\n",
       "    </tr>\n",
       "    <tr>\n",
       "      <th>11</th>\n",
       "      <td>0</td>\n",
       "      <td>0</td>\n",
       "      <td>0.001</td>\n",
       "      <td>0.9227</td>\n",
       "      <td>8</td>\n",
       "    </tr>\n",
       "    <tr>\n",
       "      <th>12</th>\n",
       "      <td>0</td>\n",
       "      <td>0</td>\n",
       "      <td>0.0001</td>\n",
       "      <td>0.9217</td>\n",
       "      <td>3</td>\n",
       "    </tr>\n",
       "    <tr>\n",
       "      <th>13</th>\n",
       "      <td>0</td>\n",
       "      <td>0</td>\n",
       "      <td>1e-05</td>\n",
       "      <td>0.9211</td>\n",
       "      <td>4</td>\n",
       "    </tr>\n",
       "    <tr>\n",
       "      <th>14</th>\n",
       "      <td>0</td>\n",
       "      <td>0</td>\n",
       "      <td>1e-06</td>\n",
       "      <td>0.9233</td>\n",
       "      <td>6</td>\n",
       "    </tr>\n",
       "    <tr>\n",
       "      <th>15</th>\n",
       "      <td>0</td>\n",
       "      <td>0</td>\n",
       "      <td>1e-07</td>\n",
       "      <td>0.9205</td>\n",
       "      <td>3</td>\n",
       "    </tr>\n",
       "    <tr>\n",
       "      <th>16</th>\n",
       "      <td>1</td>\n",
       "      <td>1</td>\n",
       "      <td>1.0</td>\n",
       "      <td>0.9228</td>\n",
       "      <td>4</td>\n",
       "    </tr>\n",
       "    <tr>\n",
       "      <th>17</th>\n",
       "      <td>1</td>\n",
       "      <td>1</td>\n",
       "      <td>0.1</td>\n",
       "      <td>0.9230</td>\n",
       "      <td>5</td>\n",
       "    </tr>\n",
       "    <tr>\n",
       "      <th>18</th>\n",
       "      <td>1</td>\n",
       "      <td>1</td>\n",
       "      <td>0.01</td>\n",
       "      <td>0.9229</td>\n",
       "      <td>4</td>\n",
       "    </tr>\n",
       "    <tr>\n",
       "      <th>19</th>\n",
       "      <td>1</td>\n",
       "      <td>1</td>\n",
       "      <td>0.001</td>\n",
       "      <td>0.9230</td>\n",
       "      <td>4</td>\n",
       "    </tr>\n",
       "    <tr>\n",
       "      <th>20</th>\n",
       "      <td>1</td>\n",
       "      <td>1</td>\n",
       "      <td>0.0001</td>\n",
       "      <td>0.9221</td>\n",
       "      <td>4</td>\n",
       "    </tr>\n",
       "    <tr>\n",
       "      <th>21</th>\n",
       "      <td>1</td>\n",
       "      <td>1</td>\n",
       "      <td>1e-05</td>\n",
       "      <td>0.9215</td>\n",
       "      <td>3</td>\n",
       "    </tr>\n",
       "    <tr>\n",
       "      <th>22</th>\n",
       "      <td>1</td>\n",
       "      <td>1</td>\n",
       "      <td>1e-06</td>\n",
       "      <td>0.9215</td>\n",
       "      <td>4</td>\n",
       "    </tr>\n",
       "    <tr>\n",
       "      <th>23</th>\n",
       "      <td>1</td>\n",
       "      <td>1</td>\n",
       "      <td>1e-07</td>\n",
       "      <td>0.9226</td>\n",
       "      <td>5</td>\n",
       "    </tr>\n",
       "    <tr>\n",
       "      <th>24</th>\n",
       "      <td>0</td>\n",
       "      <td>1</td>\n",
       "      <td>1.0</td>\n",
       "      <td>0.9237</td>\n",
       "      <td>5</td>\n",
       "    </tr>\n",
       "    <tr>\n",
       "      <th>25</th>\n",
       "      <td>0</td>\n",
       "      <td>1</td>\n",
       "      <td>0.1</td>\n",
       "      <td>0.9229</td>\n",
       "      <td>6</td>\n",
       "    </tr>\n",
       "    <tr>\n",
       "      <th>26</th>\n",
       "      <td>0</td>\n",
       "      <td>1</td>\n",
       "      <td>0.01</td>\n",
       "      <td>0.9213</td>\n",
       "      <td>3</td>\n",
       "    </tr>\n",
       "    <tr>\n",
       "      <th>27</th>\n",
       "      <td>0</td>\n",
       "      <td>1</td>\n",
       "      <td>0.001</td>\n",
       "      <td>0.9220</td>\n",
       "      <td>5</td>\n",
       "    </tr>\n",
       "    <tr>\n",
       "      <th>28</th>\n",
       "      <td>0</td>\n",
       "      <td>1</td>\n",
       "      <td>0.0001</td>\n",
       "      <td>0.9224</td>\n",
       "      <td>3</td>\n",
       "    </tr>\n",
       "    <tr>\n",
       "      <th>29</th>\n",
       "      <td>0</td>\n",
       "      <td>1</td>\n",
       "      <td>1e-05</td>\n",
       "      <td>0.9227</td>\n",
       "      <td>5</td>\n",
       "    </tr>\n",
       "    <tr>\n",
       "      <th>30</th>\n",
       "      <td>0</td>\n",
       "      <td>1</td>\n",
       "      <td>1e-06</td>\n",
       "      <td>0.9235</td>\n",
       "      <td>4</td>\n",
       "    </tr>\n",
       "    <tr>\n",
       "      <th>31</th>\n",
       "      <td>0</td>\n",
       "      <td>1</td>\n",
       "      <td>1e-07</td>\n",
       "      <td>0.9227</td>\n",
       "      <td>4</td>\n",
       "    </tr>\n",
       "  </tbody>\n",
       "</table>\n",
       "</div>"
      ],
      "text/plain": [
       "    momentum  using_decay      lr  test_acc  time_til_conv\n",
       "0          1            0     1.0    0.9206              2\n",
       "1          1            0     0.1    0.9229              4\n",
       "2          1            0    0.01    0.9207              3\n",
       "3          1            0   0.001    0.9218              4\n",
       "4          1            0  0.0001    0.9176              2\n",
       "5          1            0   1e-05    0.9217              4\n",
       "6          1            0   1e-06    0.9215              5\n",
       "7          1            0   1e-07    0.9199              5\n",
       "8          0            0     1.0    0.9195              5\n",
       "9          0            0     0.1    0.9192              5\n",
       "10         0            0    0.01    0.9216              5\n",
       "11         0            0   0.001    0.9227              8\n",
       "12         0            0  0.0001    0.9217              3\n",
       "13         0            0   1e-05    0.9211              4\n",
       "14         0            0   1e-06    0.9233              6\n",
       "15         0            0   1e-07    0.9205              3\n",
       "16         1            1     1.0    0.9228              4\n",
       "17         1            1     0.1    0.9230              5\n",
       "18         1            1    0.01    0.9229              4\n",
       "19         1            1   0.001    0.9230              4\n",
       "20         1            1  0.0001    0.9221              4\n",
       "21         1            1   1e-05    0.9215              3\n",
       "22         1            1   1e-06    0.9215              4\n",
       "23         1            1   1e-07    0.9226              5\n",
       "24         0            1     1.0    0.9237              5\n",
       "25         0            1     0.1    0.9229              6\n",
       "26         0            1    0.01    0.9213              3\n",
       "27         0            1   0.001    0.9220              5\n",
       "28         0            1  0.0001    0.9224              3\n",
       "29         0            1   1e-05    0.9227              5\n",
       "30         0            1   1e-06    0.9235              4\n",
       "31         0            1   1e-07    0.9227              4"
      ]
     },
     "execution_count": 266,
     "metadata": {},
     "output_type": "execute_result"
    }
   ],
   "source": [
    "dfLinHist"
   ]
  },
  {
   "cell_type": "code",
   "execution_count": 285,
   "metadata": {},
   "outputs": [
    {
     "data": {
      "image/png": "[encoded data removed]",
      "text/plain": [
       "<Figure size 432x288 with 1 Axes>"
      ]
     },
     "metadata": {
      "needs_background": "light"
     },
     "output_type": "display_data"
    }
   ],
   "source": [
    "dfLinHist = makeDF(linear_histories)\n",
    "plotTimeTilConversion(dfLinHist)"
   ]
  },
  {
   "cell_type": "code",
   "execution_count": 275,
   "metadata": {},
   "outputs": [
    {
     "data": {
      "image/png": "[encoded data removed]",
      "text/plain": [
       "<Figure size 432x288 with 1 Axes>"
      ]
     },
     "metadata": {
      "needs_background": "light"
     },
     "output_type": "display_data"
    }
   ],
   "source": [
    "histTestAccByUsingDecayLR(dfLinHist)"
   ]
  },
  {
   "cell_type": "code",
   "execution_count": 274,
   "metadata": {},
   "outputs": [],
   "source": [
    "def histTestAccByUsingDecayLR(df):\n",
    "    df = df.sort_values(\"using_decay\")\n",
    "    plt.hist(df[df.using_decay==0].test_acc,alpha=0.5,label=\"No LR Decay\",weights=np.ones(len(df[df.using_decay==0].test_acc)) / len(df[df.using_decay==0].test_acc))\n",
    "    plt.hist(df[df.using_decay==1].test_acc,alpha=0.5,label=\"Using LR Decay \",weights=np.ones(len(df[df.using_decay==1].test_acc)) / len(df[df.using_decay==1].test_acc))\n",
    "    plt.gca().yaxis.set_major_formatter(PercentFormatter(1))\n",
    "    plt.legend()\n",
    "    plt.title(\"Using LR Decay Leads to Better Results\")\n",
    "\n",
    "def plotTimeTilConversion(df):\n",
    "    df = df.sort_values(\"time_til_conv\")\n",
    "    plt.hist(df[df.momentum==0].time_til_conv,alpha=0.5,label=\"Normal SGD\",weights=np.ones(len(df[df.momentum==0].time_til_conv)) / len(df[df.momentum==0].time_til_conv))\n",
    "    plt.hist(df[df.momentum==1].time_til_conv,alpha=0.5,label=\"Momentum SGD\",weights=np.ones(len(df[df.momentum==1].time_til_conv)) / len(df[df.momentum==1].time_til_conv))\n",
    "    plt.gca().yaxis.set_major_formatter(PercentFormatter(1))\n",
    "    pearsonr(dfLinHist.momentum, dfLinHist.time_til_conv)\n",
    "    plt.legend()\n",
    "    plt.title(\"Momentum SGD leads to faster convergence\")\n",
    "\n",
    "def time_til_conversion(hist):\n",
    "    acc_val = hist[0][\"acc_val\"]\n",
    "    best_acc_val = np.max(acc_val)\n",
    "    #number of iterations until within 1% of best validation accuracy\n",
    "    percDiffs = [100*(best_acc_val-x)/best_acc_val for x in acc_val]\n",
    "    percDiffsLessThanThresh = [x < 1 for x in percDiffs]\n",
    "    firstIterationWithinThreshold = np.arange(len(percDiffsLessThanThresh))[percDiffsLessThanThresh].min()\n",
    "    return firstIterationWithinThreshold"
   ]
  },
  {
   "cell_type": "code",
   "execution_count": 188,
   "metadata": {
    "scrolled": true
   },
   "outputs": [
    {
     "name": "stdout",
     "output_type": "stream",
     "text": [
      "training on using momentum SGD_lr:1.0\n"
     ]
    },
    {
     "data": {
      "application/vnd.jupyter.widget-view+json": {
       "model_id": "8cbec4483e764135945ce9f21edc4447",
       "version_major": 2,
       "version_minor": 0
      },
      "text/plain": [
       "  0%|          | 0/5 [00:00<?, ?it/s]"
      ]
     },
     "metadata": {},
     "output_type": "display_data"
    },
    {
     "name": "stdout",
     "output_type": "stream",
     "text": [
      "current loss 0.33607653635230655 and accuracy 0.907\n",
      "current test loss 0.34059022405568473 and accuracy 0.9086\n",
      "current loss 0.3195617983411622 and accuracy 0.9111\n",
      "current test loss 0.32662414262854245 and accuracy 0.9057\n",
      "current loss 0.2963942688080773 and accuracy 0.9162\n",
      "current test loss 0.31299543634911187 and accuracy 0.9124\n",
      "current loss 0.3042979428260253 and accuracy 0.9138\n",
      "current test loss 0.3177100696278057 and accuracy 0.9081\n",
      "current loss 0.29210396121017773 and accuracy 0.9164\n",
      "current test loss 0.29885586136540904 and accuracy 0.9154\n",
      "current loss 0.28495021906924245 and accuracy 0.92\n",
      "current test loss 0.2950181158059006 and accuracy 0.9171\n",
      "current loss 0.2950287429302945 and accuracy 0.9154\n",
      "current test loss 0.30232591410847315 and accuracy 0.9151\n",
      "current loss 0.3075051297385226 and accuracy 0.9122\n",
      "current test loss 0.328124995481182 and accuracy 0.9083\n",
      "current loss 0.2788231748848552 and accuracy 0.9222\n",
      "current test loss 0.29207156193868566 and accuracy 0.9168\n",
      "current loss 0.291968314004897 and accuracy 0.9178\n",
      "current test loss 0.2939191002313992 and accuracy 0.9165\n",
      "current loss 0.29106943312481254 and accuracy 0.9166\n",
      "current test loss 0.3030838112544518 and accuracy 0.9144\n",
      "current loss 0.28119678291575745 and accuracy 0.9223\n",
      "current test loss 0.2925213728613002 and accuracy 0.9185\n",
      "current loss 0.27931377777786925 and accuracy 0.9215\n",
      "current test loss 0.2831166698822591 and accuracy 0.9202\n",
      "current loss 0.28357167583491033 and accuracy 0.9205\n",
      "current test loss 0.29518183507333373 and accuracy 0.9174\n",
      "current loss 0.2795578930631198 and accuracy 0.9208\n",
      "current test loss 0.2891878243228145 and accuracy 0.9145\n",
      "current loss 0.29040143815263014 and accuracy 0.9184\n",
      "current test loss 0.3097511797917211 and accuracy 0.9099\n",
      "current loss 0.28332980492963117 and accuracy 0.9211\n",
      "current test loss 0.29512648788948853 and accuracy 0.9136\n",
      "current loss 0.28136442311408544 and accuracy 0.92\n",
      "current test loss 0.29147899196255583 and accuracy 0.9162\n",
      "current loss 0.2733126213167962 and accuracy 0.9231\n",
      "current test loss 0.28239440680634004 and accuracy 0.9206\n",
      "current loss 0.28307968443457765 and accuracy 0.9211\n",
      "current test loss 0.2908624719049865 and accuracy 0.9162\n",
      "current loss 0.28282480650227104 and accuracy 0.9215\n",
      "current test loss 0.2925348859273779 and accuracy 0.9199\n",
      "current loss 0.2834402304115332 and accuracy 0.9189\n",
      "current test loss 0.2943187621119112 and accuracy 0.9167\n",
      "current loss 0.2829451168554726 and accuracy 0.9216\n",
      "current test loss 0.305341844320252 and accuracy 0.9146\n",
      "current loss 0.2907368810569813 and accuracy 0.9185\n",
      "current test loss 0.30112861809572994 and accuracy 0.9123\n",
      "current loss 0.29253739212713853 and accuracy 0.9175\n",
      "current test loss 0.29755599169758706 and accuracy 0.9141\n",
      "training on using momentum SGD_lr:0.1\n"
     ]
    },
    {
     "data": {
      "application/vnd.jupyter.widget-view+json": {
       "model_id": "76dad360d6d14fa6bdd37f19a3d4773c",
       "version_major": 2,
       "version_minor": 0
      },
      "text/plain": [
       "  0%|          | 0/5 [00:00<?, ?it/s]"
      ]
     },
     "metadata": {},
     "output_type": "display_data"
    },
    {
     "name": "stdout",
     "output_type": "stream",
     "text": [
      "current loss 0.35806250668541856 and accuracy 0.8986\n",
      "current test loss 0.36344305722843934 and accuracy 0.8949\n",
      "current loss 0.30869504370101114 and accuracy 0.9122\n",
      "current test loss 0.3078336071280612 and accuracy 0.9129\n",
      "current loss 0.30420135021974143 and accuracy 0.9133\n",
      "current test loss 0.31233788353092334 and accuracy 0.909\n",
      "current loss 0.3014337975076242 and accuracy 0.9123\n",
      "current test loss 0.30713647747916195 and accuracy 0.9131\n",
      "current loss 0.29231922607292876 and accuracy 0.9173\n",
      "current test loss 0.29847845469913065 and accuracy 0.9136\n",
      "current loss 0.29202878395969745 and accuracy 0.9165\n",
      "current test loss 0.2925474484877719 and accuracy 0.9172\n",
      "current loss 0.28774047544939346 and accuracy 0.9185\n",
      "current test loss 0.2986507176709014 and accuracy 0.9147\n",
      "current loss 0.2968488295950917 and accuracy 0.9146\n",
      "current test loss 0.3067321139147126 and accuracy 0.9129\n",
      "current loss 0.2757977921687041 and accuracy 0.9231\n",
      "current test loss 0.2819566819905881 and accuracy 0.9199\n",
      "current loss 0.27769660084445213 and accuracy 0.9219\n",
      "current test loss 0.28956709652506807 and accuracy 0.9148\n",
      "current loss 0.2980792798856033 and accuracy 0.9124\n",
      "current test loss 0.30786194918440796 and accuracy 0.9112\n",
      "current loss 0.2793537019423915 and accuracy 0.9207\n",
      "current test loss 0.29639522370672655 and accuracy 0.9156\n",
      "current loss 0.28020744290312477 and accuracy 0.9218\n",
      "current test loss 0.2870084424609014 and accuracy 0.9189\n",
      "current loss 0.2813346748195001 and accuracy 0.9201\n",
      "current test loss 0.2884708432523729 and accuracy 0.9193\n",
      "current loss 0.2773991460947479 and accuracy 0.9247\n",
      "current test loss 0.28418515660769506 and accuracy 0.9239\n",
      "current loss 0.27841643388830584 and accuracy 0.922\n",
      "current test loss 0.28982692164587176 and accuracy 0.9184\n",
      "current loss 0.27727486488739267 and accuracy 0.9232\n",
      "current test loss 0.289587905003857 and accuracy 0.9219\n",
      "current loss 0.2748538866586044 and accuracy 0.9238\n",
      "current test loss 0.28843974421440804 and accuracy 0.9167\n",
      "current loss 0.27869441861107064 and accuracy 0.9229\n",
      "current test loss 0.2884344035621842 and accuracy 0.917\n",
      "current loss 0.2694971085884632 and accuracy 0.9261\n",
      "current test loss 0.28054563749897604 and accuracy 0.9229\n",
      "current loss 0.2769231262678017 and accuracy 0.9231\n",
      "current test loss 0.2869552673572524 and accuracy 0.919\n",
      "current loss 0.29102471247113915 and accuracy 0.919\n",
      "current test loss 0.30974762718061954 and accuracy 0.9093\n",
      "current loss 0.27688411668889 and accuracy 0.9246\n",
      "current test loss 0.29019885389610156 and accuracy 0.9174\n",
      "current loss 0.2843754991570329 and accuracy 0.9192\n",
      "current test loss 0.30091183758282325 and accuracy 0.9153\n",
      "current loss 0.27019043062445086 and accuracy 0.9249\n",
      "current test loss 0.2830110357557316 and accuracy 0.9213\n",
      "training on using momentum SGD_lr:0.01\n"
     ]
    },
    {
     "data": {
      "application/vnd.jupyter.widget-view+json": {
       "model_id": "d97b11e4da6440388f5ad44deaf39e4b",
       "version_major": 2,
       "version_minor": 0
      },
      "text/plain": [
       "  0%|          | 0/5 [00:00<?, ?it/s]"
      ]
     },
     "metadata": {},
     "output_type": "display_data"
    },
    {
     "name": "stdout",
     "output_type": "stream",
     "text": [
      "current loss 0.3833373802024281 and accuracy 0.8811\n",
      "current test loss 0.3837260950183264 and accuracy 0.8857\n",
      "current loss 0.3216620153024265 and accuracy 0.9096\n",
      "current test loss 0.3325932736141171 and accuracy 0.9038\n",
      "current loss 0.3247818820445285 and accuracy 0.9056\n",
      "current test loss 0.33340739016042187 and accuracy 0.9028\n",
      "current loss 0.2995107390959684 and accuracy 0.9173\n",
      "current test loss 0.3026657348707267 and accuracy 0.9139\n",
      "current loss 0.2905291971056228 and accuracy 0.9202\n",
      "current test loss 0.296528937259067 and accuracy 0.9193\n",
      "current loss 0.2835702131992564 and accuracy 0.9191\n",
      "current test loss 0.29659177722873586 and accuracy 0.9156\n",
      "current loss 0.28722049507322617 and accuracy 0.9182\n",
      "current test loss 0.2944562335315352 and accuracy 0.916\n",
      "current loss 0.28761330974617944 and accuracy 0.9176\n",
      "current test loss 0.2962931801462411 and accuracy 0.915\n",
      "current loss 0.2856946984617668 and accuracy 0.9211\n",
      "current test loss 0.2899433003989492 and accuracy 0.918\n",
      "current loss 0.27440606889266306 and accuracy 0.9242\n",
      "current test loss 0.28444506967989835 and accuracy 0.9214\n",
      "current loss 0.2803424681257042 and accuracy 0.9215\n",
      "current test loss 0.2878912002755944 and accuracy 0.9182\n",
      "current loss 0.2750945435266338 and accuracy 0.9229\n",
      "current test loss 0.2865902952944063 and accuracy 0.921\n",
      "current loss 0.277163347765376 and accuracy 0.9228\n",
      "current test loss 0.2896267790688299 and accuracy 0.9195\n",
      "current loss 0.28198440399374847 and accuracy 0.9227\n",
      "current test loss 0.29113836613374344 and accuracy 0.9198\n",
      "current loss 0.2846915003483712 and accuracy 0.9198\n",
      "current test loss 0.29031006816115507 and accuracy 0.9143\n",
      "current loss 0.27308952699575445 and accuracy 0.9248\n",
      "current test loss 0.2828006259744898 and accuracy 0.9207\n",
      "current loss 0.28412114531572236 and accuracy 0.9191\n",
      "current test loss 0.2935456049050471 and accuracy 0.9162\n",
      "current loss 0.27527234345207663 and accuracy 0.924\n",
      "current test loss 0.284820632231553 and accuracy 0.9195\n",
      "current loss 0.2716066401619952 and accuracy 0.924\n",
      "current test loss 0.27905715555049776 and accuracy 0.9207\n",
      "current loss 0.2736696097533658 and accuracy 0.9246\n",
      "current test loss 0.2838003819062572 and accuracy 0.9176\n",
      "current loss 0.27918650904034786 and accuracy 0.9237\n",
      "current test loss 0.2905914883782805 and accuracy 0.9177\n",
      "current loss 0.2776997812444736 and accuracy 0.9214\n",
      "current test loss 0.28408774912044465 and accuracy 0.9218\n",
      "current loss 0.27920330538661164 and accuracy 0.9227\n",
      "current test loss 0.288379666233131 and accuracy 0.9207\n",
      "current loss 0.29440498313925967 and accuracy 0.9169\n",
      "current test loss 0.3025901052747191 and accuracy 0.9132\n",
      "current loss 0.27773629611830936 and accuracy 0.9232\n",
      "current test loss 0.2861380399967116 and accuracy 0.9217\n",
      "training on using momentum SGD_lr:0.001\n"
     ]
    },
    {
     "data": {
      "application/vnd.jupyter.widget-view+json": {
       "model_id": "7fa2aa2273b046da83c8d82dc5238948",
       "version_major": 2,
       "version_minor": 0
      },
      "text/plain": [
       "  0%|          | 0/5 [00:00<?, ?it/s]"
      ]
     },
     "metadata": {},
     "output_type": "display_data"
    },
    {
     "name": "stdout",
     "output_type": "stream",
     "text": [
      "current loss 0.3655032213425559 and accuracy 0.8934\n",
      "current test loss 0.37833375441034955 and accuracy 0.8877\n",
      "current loss 0.32003272074825045 and accuracy 0.9109\n",
      "current test loss 0.33352795713086053 and accuracy 0.9063\n",
      "current loss 0.3191087219695056 and accuracy 0.9085\n",
      "current test loss 0.32501092423517763 and accuracy 0.908\n",
      "current loss 0.2990700697152888 and accuracy 0.9163\n",
      "current test loss 0.31440534113432583 and accuracy 0.9087\n",
      "current loss 0.28601489197412855 and accuracy 0.9193\n",
      "current test loss 0.2965231319580088 and accuracy 0.9165\n",
      "current loss 0.2879951659121993 and accuracy 0.9214\n",
      "current test loss 0.29477897829120636 and accuracy 0.9161\n",
      "current loss 0.28823085617563654 and accuracy 0.9205\n",
      "current test loss 0.29814616289816864 and accuracy 0.9164\n",
      "current loss 0.2809558610807644 and accuracy 0.9215\n",
      "current test loss 0.2903510579612183 and accuracy 0.9187\n",
      "current loss 0.29744490290410436 and accuracy 0.9147\n",
      "current test loss 0.31078997030473243 and accuracy 0.9112\n",
      "current loss 0.27937260006360837 and accuracy 0.9207\n",
      "current test loss 0.2957433733294535 and accuracy 0.9177\n",
      "current loss 0.2878575042588976 and accuracy 0.9179\n",
      "current test loss 0.3039774918011545 and accuracy 0.9144\n",
      "current loss 0.27971527598414375 and accuracy 0.921\n",
      "current test loss 0.29530749317703237 and accuracy 0.9157\n",
      "current loss 0.2774564843241628 and accuracy 0.9232\n",
      "current test loss 0.2924380463226352 and accuracy 0.9179\n",
      "current loss 0.27305703419747407 and accuracy 0.9258\n",
      "current test loss 0.2841400121915129 and accuracy 0.9218\n",
      "current loss 0.2901912678579652 and accuracy 0.92\n",
      "current test loss 0.3088532234452361 and accuracy 0.9127\n",
      "current loss 0.2727550888644875 and accuracy 0.9246\n",
      "current test loss 0.282405734109006 and accuracy 0.9217\n",
      "current loss 0.2863441475059529 and accuracy 0.9179\n",
      "current test loss 0.3016754618563514 and accuracy 0.9129\n",
      "current loss 0.2791563013084833 and accuracy 0.924\n",
      "current test loss 0.2913840939831443 and accuracy 0.9209\n",
      "current loss 0.2944320548035288 and accuracy 0.9153\n",
      "current test loss 0.30994791184470294 and accuracy 0.9124\n",
      "current loss 0.2689703800859925 and accuracy 0.9242\n",
      "current test loss 0.2820502473813491 and accuracy 0.9201\n",
      "current loss 0.30012861693555704 and accuracy 0.9122\n",
      "current test loss 0.3086718777803282 and accuracy 0.9114\n",
      "current loss 0.27541430471798034 and accuracy 0.9225\n",
      "current test loss 0.28778334433211517 and accuracy 0.918\n",
      "current loss 0.28073688895432536 and accuracy 0.9221\n",
      "current test loss 0.2881210415559437 and accuracy 0.9208\n",
      "current loss 0.2730434856271641 and accuracy 0.9243\n",
      "current test loss 0.28298385635491735 and accuracy 0.9198\n",
      "current loss 0.2881288059513327 and accuracy 0.9189\n",
      "current test loss 0.29595498400509307 and accuracy 0.9169\n",
      "training on using momentum SGD_lr:0.0001\n"
     ]
    },
    {
     "data": {
      "application/vnd.jupyter.widget-view+json": {
       "model_id": "71d1cad988ca4078b1b4bc8135740b03",
       "version_major": 2,
       "version_minor": 0
      },
      "text/plain": [
       "  0%|          | 0/5 [00:00<?, ?it/s]"
      ]
     },
     "metadata": {},
     "output_type": "display_data"
    },
    {
     "name": "stdout",
     "output_type": "stream",
     "text": [
      "current loss 0.3548324005196881 and accuracy 0.8979\n",
      "current test loss 0.35498617220392203 and accuracy 0.8976\n",
      "current loss 0.3154628991617331 and accuracy 0.9114\n",
      "current test loss 0.31930566194155857 and accuracy 0.9098\n",
      "current loss 0.2936024300120013 and accuracy 0.9183\n",
      "current test loss 0.30083894948051787 and accuracy 0.9155\n",
      "current loss 0.2951791972374424 and accuracy 0.9181\n",
      "current test loss 0.29788873561162577 and accuracy 0.9173\n",
      "current loss 0.2945023744730116 and accuracy 0.9154\n",
      "current test loss 0.30595911685475263 and accuracy 0.9124\n",
      "current loss 0.2934474073899377 and accuracy 0.9176\n",
      "current test loss 0.30421025212816055 and accuracy 0.912\n",
      "current loss 0.29079401555618717 and accuracy 0.9151\n",
      "current test loss 0.2969438767452685 and accuracy 0.9176\n",
      "current loss 0.2821644305267282 and accuracy 0.9211\n",
      "current test loss 0.2925713807961453 and accuracy 0.9193\n",
      "current loss 0.2855657622866016 and accuracy 0.9218\n",
      "current test loss 0.29569611774515603 and accuracy 0.9159\n",
      "current loss 0.2868454319731057 and accuracy 0.917\n",
      "current test loss 0.2969997274778658 and accuracy 0.9157\n",
      "current loss 0.2926185274215395 and accuracy 0.9167\n",
      "current test loss 0.3026153558112973 and accuracy 0.9152\n",
      "current loss 0.2794130001877657 and accuracy 0.9212\n",
      "current test loss 0.2890837696527213 and accuracy 0.9183\n",
      "current loss 0.2830861718395659 and accuracy 0.9219\n",
      "current test loss 0.29303636061162636 and accuracy 0.9162\n",
      "current loss 0.28063467485868104 and accuracy 0.922\n",
      "current test loss 0.2904735723240086 and accuracy 0.9164\n",
      "current loss 0.2842663497739222 and accuracy 0.9203\n",
      "current test loss 0.2962368633841275 and accuracy 0.9185\n",
      "current loss 0.2795929302304862 and accuracy 0.9218\n",
      "current test loss 0.29420451299133016 and accuracy 0.9188\n",
      "current loss 0.282147583092641 and accuracy 0.9204\n",
      "current test loss 0.28717204813619945 and accuracy 0.9198\n",
      "current loss 0.2797490376959928 and accuracy 0.9227\n",
      "current test loss 0.2925145461501703 and accuracy 0.9157\n",
      "current loss 0.273113409045915 and accuracy 0.9234\n",
      "current test loss 0.2828930774375692 and accuracy 0.9206\n",
      "current loss 0.2759682557318023 and accuracy 0.9249\n",
      "current test loss 0.29277082589190895 and accuracy 0.9176\n",
      "current loss 0.28203674581501287 and accuracy 0.9198\n",
      "current test loss 0.2972143035700496 and accuracy 0.9158\n",
      "current loss 0.2839162603082435 and accuracy 0.9195\n",
      "current test loss 0.2906186915397853 and accuracy 0.9172\n",
      "current loss 0.2900071429697243 and accuracy 0.9181\n",
      "current test loss 0.3043155338094817 and accuracy 0.9138\n",
      "current loss 0.276156399793028 and accuracy 0.923\n",
      "current test loss 0.28761454212970805 and accuracy 0.9197\n",
      "current loss 0.27710671447430113 and accuracy 0.9235\n",
      "current test loss 0.2949798463421646 and accuracy 0.9176\n",
      "training on using momentum SGD_lr:1e-05\n"
     ]
    },
    {
     "data": {
      "application/vnd.jupyter.widget-view+json": {
       "model_id": "e0ba1447d60d47f7920e8f6085bbeb2f",
       "version_major": 2,
       "version_minor": 0
      },
      "text/plain": [
       "  0%|          | 0/5 [00:00<?, ?it/s]"
      ]
     },
     "metadata": {},
     "output_type": "display_data"
    },
    {
     "name": "stdout",
     "output_type": "stream",
     "text": [
      "current loss 0.3415321342581141 and accuracy 0.9056\n",
      "current test loss 0.34505553367584624 and accuracy 0.9014\n",
      "current loss 0.3206432784323915 and accuracy 0.9074\n",
      "current test loss 0.3256372311884993 and accuracy 0.909\n",
      "current loss 0.3077372732306075 and accuracy 0.9123\n",
      "current test loss 0.3134104212621107 and accuracy 0.911\n",
      "current loss 0.3077503622881995 and accuracy 0.9121\n",
      "current test loss 0.3152534240091848 and accuracy 0.9096\n",
      "current loss 0.2906510900942395 and accuracy 0.9172\n",
      "current test loss 0.29737759803279384 and accuracy 0.9168\n",
      "current loss 0.2840434934811767 and accuracy 0.9194\n",
      "current test loss 0.2932047222604136 and accuracy 0.9171\n",
      "current loss 0.28797277362631996 and accuracy 0.9196\n",
      "current test loss 0.29813421710138377 and accuracy 0.9169\n",
      "current loss 0.2893216847832596 and accuracy 0.9191\n",
      "current test loss 0.30506111147196574 and accuracy 0.9152\n",
      "current loss 0.28512012884619353 and accuracy 0.9205\n",
      "current test loss 0.29369671779756756 and accuracy 0.917\n",
      "current loss 0.2815255031117736 and accuracy 0.9226\n",
      "current test loss 0.2956142411678934 and accuracy 0.9157\n",
      "current loss 0.2764438795830587 and accuracy 0.9218\n",
      "current test loss 0.2839337321368696 and accuracy 0.9193\n",
      "current loss 0.2884773929792483 and accuracy 0.919\n",
      "current test loss 0.29887478116894917 and accuracy 0.9172\n",
      "current loss 0.2851322328628774 and accuracy 0.9195\n",
      "current test loss 0.3030381715914805 and accuracy 0.9129\n",
      "current loss 0.2823225209778841 and accuracy 0.9215\n",
      "current test loss 0.28824190260787524 and accuracy 0.9199\n",
      "current loss 0.2752807976992403 and accuracy 0.9222\n",
      "current test loss 0.28434050692210877 and accuracy 0.919\n",
      "current loss 0.28080848204245057 and accuracy 0.9246\n",
      "current test loss 0.2874403108425232 and accuracy 0.9224\n",
      "current loss 0.27949770574717725 and accuracy 0.9251\n",
      "current test loss 0.29106389569539254 and accuracy 0.9198\n",
      "current loss 0.28239271531738486 and accuracy 0.9204\n",
      "current test loss 0.2897474410802553 and accuracy 0.9188\n",
      "current loss 0.2780704442678364 and accuracy 0.9216\n",
      "current test loss 0.2912906686958845 and accuracy 0.9202\n",
      "current loss 0.2774079553355175 and accuracy 0.9226\n",
      "current test loss 0.2844337911147063 and accuracy 0.922\n",
      "current loss 0.2760032311959157 and accuracy 0.9236\n",
      "current test loss 0.2856581614950506 and accuracy 0.9193\n",
      "current loss 0.28065426629529583 and accuracy 0.92\n",
      "current test loss 0.29715942841951976 and accuracy 0.9169\n",
      "current loss 0.27770063115757593 and accuracy 0.9225\n",
      "current test loss 0.28644707820337534 and accuracy 0.9207\n",
      "current loss 0.27243325642049526 and accuracy 0.9257\n",
      "current test loss 0.28238993571775406 and accuracy 0.9217\n",
      "current loss 0.27784164712538195 and accuracy 0.9216\n",
      "current test loss 0.2902941873866764 and accuracy 0.9174\n",
      "training on using momentum SGD_lr:1e-06\n"
     ]
    },
    {
     "data": {
      "application/vnd.jupyter.widget-view+json": {
       "model_id": "32efc0e117354581866fe42d3db16ed7",
       "version_major": 2,
       "version_minor": 0
      },
      "text/plain": [
       "  0%|          | 0/5 [00:00<?, ?it/s]"
      ]
     },
     "metadata": {},
     "output_type": "display_data"
    },
    {
     "name": "stdout",
     "output_type": "stream",
     "text": [
      "current loss 0.3497520936920697 and accuracy 0.8997\n",
      "current test loss 0.36146562948928124 and accuracy 0.8946\n",
      "current loss 0.31267032201829753 and accuracy 0.9102\n",
      "current test loss 0.3251560954507948 and accuracy 0.9053\n",
      "current loss 0.3064649298575747 and accuracy 0.9153\n",
      "current test loss 0.3145597640940467 and accuracy 0.9114\n",
      "current loss 0.30811899985984653 and accuracy 0.9118\n",
      "current test loss 0.31804736395406014 and accuracy 0.9111\n",
      "current loss 0.29871955866923644 and accuracy 0.9147\n",
      "current test loss 0.2976696427164005 and accuracy 0.915\n",
      "current loss 0.2939770917093788 and accuracy 0.9169\n",
      "current test loss 0.2981880778892476 and accuracy 0.9159\n",
      "current loss 0.3022910454385196 and accuracy 0.9137\n",
      "current test loss 0.31251015896954343 and accuracy 0.9105\n",
      "current loss 0.2845828274116026 and accuracy 0.9191\n",
      "current test loss 0.3015948103301913 and accuracy 0.9146\n",
      "current loss 0.2744295308569426 and accuracy 0.9231\n",
      "current test loss 0.2868026536809119 and accuracy 0.919\n",
      "current loss 0.2823643071946105 and accuracy 0.9208\n",
      "current test loss 0.2867605177046404 and accuracy 0.9218\n",
      "current loss 0.28345136499457724 and accuracy 0.9205\n",
      "current test loss 0.2882681299228653 and accuracy 0.9175\n",
      "current loss 0.285593597814609 and accuracy 0.9182\n",
      "current test loss 0.2977866791356815 and accuracy 0.9136\n",
      "current loss 0.28789154927276267 and accuracy 0.9166\n",
      "current test loss 0.30579771089117624 and accuracy 0.9105\n",
      "current loss 0.27557153060557416 and accuracy 0.924\n",
      "current test loss 0.2849622152671608 and accuracy 0.9212\n",
      "current loss 0.2746196065008771 and accuracy 0.9226\n",
      "current test loss 0.2826945479292023 and accuracy 0.9183\n",
      "current loss 0.29749952881879355 and accuracy 0.915\n",
      "current test loss 0.31157960944872837 and accuracy 0.9099\n",
      "current loss 0.27528248461458765 and accuracy 0.9243\n",
      "current test loss 0.28088095167387145 and accuracy 0.9209\n",
      "current loss 0.2898487602177512 and accuracy 0.921\n",
      "current test loss 0.300148080105096 and accuracy 0.9147\n",
      "current loss 0.2779258652422677 and accuracy 0.9237\n",
      "current test loss 0.29249124051877107 and accuracy 0.9161\n",
      "current loss 0.28522757127485016 and accuracy 0.9185\n",
      "current test loss 0.2950473278575856 and accuracy 0.9177\n",
      "current loss 0.2843928215773317 and accuracy 0.9194\n",
      "current test loss 0.2944128964307741 and accuracy 0.9203\n",
      "current loss 0.2751753737185248 and accuracy 0.925\n",
      "current test loss 0.2820436290880857 and accuracy 0.9215\n",
      "current loss 0.29662831029403525 and accuracy 0.9151\n",
      "current test loss 0.29860612379058504 and accuracy 0.9164\n",
      "current loss 0.2778636162431169 and accuracy 0.9223\n",
      "current test loss 0.2854276015608407 and accuracy 0.9169\n",
      "current loss 0.2754595441879231 and accuracy 0.9236\n",
      "current test loss 0.2909304854417925 and accuracy 0.9172\n",
      "training on using momentum SGD_lr:1e-07\n"
     ]
    },
    {
     "data": {
      "application/vnd.jupyter.widget-view+json": {
       "model_id": "6db9801464d6487a88ca5feb4daa2063",
       "version_major": 2,
       "version_minor": 0
      },
      "text/plain": [
       "  0%|          | 0/5 [00:00<?, ?it/s]"
      ]
     },
     "metadata": {},
     "output_type": "display_data"
    },
    {
     "name": "stdout",
     "output_type": "stream",
     "text": [
      "current loss 0.352588278932504 and accuracy 0.9016\n",
      "current test loss 0.36065086821467063 and accuracy 0.8996\n",
      "current loss 0.3295617999763866 and accuracy 0.9085\n",
      "current test loss 0.33554809879816977 and accuracy 0.9008\n",
      "current loss 0.3149962221425061 and accuracy 0.9118\n",
      "current test loss 0.31088660420206327 and accuracy 0.9125\n",
      "current loss 0.3037861424837615 and accuracy 0.9144\n",
      "current test loss 0.31866455307513536 and accuracy 0.9095\n",
      "current loss 0.32435974894127895 and accuracy 0.906\n",
      "current test loss 0.3346362658787808 and accuracy 0.9046\n",
      "current loss 0.29481245904817444 and accuracy 0.9177\n",
      "current test loss 0.30613780857233885 and accuracy 0.9148\n",
      "current loss 0.28343768530995267 and accuracy 0.923\n",
      "current test loss 0.29625683580586637 and accuracy 0.9174\n",
      "current loss 0.29895727692247104 and accuracy 0.914\n",
      "current test loss 0.31223721195714 and accuracy 0.9103\n",
      "current loss 0.28752772117913594 and accuracy 0.9185\n",
      "current test loss 0.2903158849148687 and accuracy 0.9178\n",
      "current loss 0.2881635545897501 and accuracy 0.9189\n",
      "current test loss 0.2943804010524957 and accuracy 0.9137\n",
      "current loss 0.28855668652704797 and accuracy 0.92\n",
      "current test loss 0.29249198846605734 and accuracy 0.9181\n",
      "current loss 0.2771791330760137 and accuracy 0.9235\n",
      "current test loss 0.2849264358641053 and accuracy 0.9205\n",
      "current loss 0.27814676270390554 and accuracy 0.9206\n",
      "current test loss 0.2822458577740789 and accuracy 0.9194\n",
      "current loss 0.28419585480882725 and accuracy 0.9198\n",
      "current test loss 0.29138294787824687 and accuracy 0.9184\n",
      "current loss 0.2921939827309131 and accuracy 0.9166\n",
      "current test loss 0.30045924537439195 and accuracy 0.9154\n",
      "current loss 0.27614215713705137 and accuracy 0.9248\n",
      "current test loss 0.28980131444299556 and accuracy 0.9191\n",
      "current loss 0.2781293263861444 and accuracy 0.9258\n",
      "current test loss 0.2888781355970697 and accuracy 0.9199\n",
      "current loss 0.2754634366071587 and accuracy 0.9231\n",
      "current test loss 0.2798610370078289 and accuracy 0.9208\n",
      "current loss 0.27871602094280107 and accuracy 0.9227\n",
      "current test loss 0.29348852312426293 and accuracy 0.9201\n",
      "current loss 0.2709655498785748 and accuracy 0.9248\n",
      "current test loss 0.28213005078416364 and accuracy 0.9193\n",
      "current loss 0.2722952173153806 and accuracy 0.924\n",
      "current test loss 0.28303730120307385 and accuracy 0.9177\n",
      "current loss 0.2855162932087951 and accuracy 0.9211\n",
      "current test loss 0.2872270792599841 and accuracy 0.918\n",
      "current loss 0.2715297747055171 and accuracy 0.9238\n",
      "current test loss 0.2831100214596494 and accuracy 0.9212\n",
      "current loss 0.2750371280710876 and accuracy 0.9253\n",
      "current test loss 0.2811272476882059 and accuracy 0.9216\n",
      "current loss 0.28502205516746437 and accuracy 0.918\n",
      "current test loss 0.29308855929330974 and accuracy 0.9167\n",
      "training on vanilla_lr:1.0\n"
     ]
    },
    {
     "data": {
      "application/vnd.jupyter.widget-view+json": {
       "model_id": "2275b2fc17924b5da5e2fe8afbe8961b",
       "version_major": 2,
       "version_minor": 0
      },
      "text/plain": [
       "  0%|          | 0/5 [00:00<?, ?it/s]"
      ]
     },
     "metadata": {},
     "output_type": "display_data"
    },
    {
     "name": "stdout",
     "output_type": "stream",
     "text": [
      "current loss 0.3617925687070349 and accuracy 0.8958\n",
      "current test loss 0.3703514552382172 and accuracy 0.8933\n",
      "current loss 0.3239123751497467 and accuracy 0.9063\n",
      "current test loss 0.33122777781269586 and accuracy 0.9049\n",
      "current loss 0.3201333407062918 and accuracy 0.9043\n",
      "current test loss 0.32796384102858733 and accuracy 0.9073\n",
      "current loss 0.3391919424353456 and accuracy 0.9024\n",
      "current test loss 0.33250312151135625 and accuracy 0.9028\n",
      "current loss 0.30023315052450605 and accuracy 0.9141\n",
      "current test loss 0.3127634136008972 and accuracy 0.9114\n",
      "current loss 0.29305359403082404 and accuracy 0.9187\n",
      "current test loss 0.29776035531501666 and accuracy 0.914\n",
      "current loss 0.290594432464698 and accuracy 0.918\n",
      "current test loss 0.2972784433226462 and accuracy 0.9171\n",
      "current loss 0.2859723883900037 and accuracy 0.9187\n",
      "current test loss 0.29430958512040384 and accuracy 0.9164\n",
      "current loss 0.27670031074990203 and accuracy 0.9228\n",
      "current test loss 0.28776525243057965 and accuracy 0.9178\n",
      "current loss 0.2797169786545899 and accuracy 0.923\n",
      "current test loss 0.2908871559781538 and accuracy 0.9181\n",
      "current loss 0.296777745528764 and accuracy 0.9145\n",
      "current test loss 0.29595111955847303 and accuracy 0.9139\n",
      "current loss 0.2819408098888705 and accuracy 0.9213\n",
      "current test loss 0.29362709337299586 and accuracy 0.9165\n",
      "current loss 0.2840344830768665 and accuracy 0.9174\n",
      "current test loss 0.29564134008256776 and accuracy 0.9137\n",
      "current loss 0.2722006332994004 and accuracy 0.9246\n",
      "current test loss 0.2840997414784405 and accuracy 0.9193\n",
      "current loss 0.2772425371123106 and accuracy 0.9232\n",
      "current test loss 0.29321860658323123 and accuracy 0.9196\n",
      "current loss 0.27484448172928894 and accuracy 0.9233\n",
      "current test loss 0.28853157119777695 and accuracy 0.9198\n",
      "current loss 0.27519928356830353 and accuracy 0.9211\n",
      "current test loss 0.28970672152757426 and accuracy 0.9175\n",
      "current loss 0.27379995946266444 and accuracy 0.9235\n",
      "current test loss 0.2829160542344012 and accuracy 0.9206\n",
      "current loss 0.2692005416093295 and accuracy 0.9249\n",
      "current test loss 0.27922451206982224 and accuracy 0.9212\n",
      "current loss 0.2872990257584062 and accuracy 0.9186\n",
      "current test loss 0.2958790770280878 and accuracy 0.913\n",
      "current loss 0.27731234472769634 and accuracy 0.9238\n",
      "current test loss 0.2822365769072148 and accuracy 0.92\n",
      "current loss 0.27098585522482593 and accuracy 0.926\n",
      "current test loss 0.28598102177118956 and accuracy 0.9195\n",
      "current loss 0.279991234906584 and accuracy 0.921\n",
      "current test loss 0.294911764707475 and accuracy 0.9159\n",
      "current loss 0.28225639349311066 and accuracy 0.9181\n",
      "current test loss 0.2922606469827637 and accuracy 0.9171\n",
      "current loss 0.2824765146111797 and accuracy 0.9203\n",
      "current test loss 0.2987372486274183 and accuracy 0.9127\n",
      "training on vanilla_lr:0.1\n"
     ]
    },
    {
     "data": {
      "application/vnd.jupyter.widget-view+json": {
       "model_id": "f36a46d5734946499d77a679c45c24fd",
       "version_major": 2,
       "version_minor": 0
      },
      "text/plain": [
       "  0%|          | 0/5 [00:00<?, ?it/s]"
      ]
     },
     "metadata": {},
     "output_type": "display_data"
    },
    {
     "name": "stdout",
     "output_type": "stream",
     "text": [
      "current loss 0.33198244691999595 and accuracy 0.9069\n",
      "current test loss 0.34924292403104257 and accuracy 0.8989\n",
      "current loss 0.332683023852677 and accuracy 0.9046\n",
      "current test loss 0.33550213060135864 and accuracy 0.9049\n",
      "current loss 0.2997119439337326 and accuracy 0.9159\n",
      "current test loss 0.31684115508041605 and accuracy 0.9085\n",
      "current loss 0.2981556187445189 and accuracy 0.9159\n",
      "current test loss 0.3049593378621098 and accuracy 0.9143\n",
      "current loss 0.3216322011375896 and accuracy 0.9053\n",
      "current test loss 0.33883153351639583 and accuracy 0.9004\n",
      "current loss 0.2863789562400348 and accuracy 0.9196\n",
      "current test loss 0.2913549351328569 and accuracy 0.9199\n",
      "current loss 0.2888162733782654 and accuracy 0.9179\n",
      "current test loss 0.30288689441255606 and accuracy 0.9157\n",
      "current loss 0.2806263212184597 and accuracy 0.919\n",
      "current test loss 0.2927795956275456 and accuracy 0.9151\n",
      "current loss 0.28470539655180155 and accuracy 0.9204\n",
      "current test loss 0.29556198184619065 and accuracy 0.9132\n",
      "current loss 0.27469228219578784 and accuracy 0.923\n",
      "current test loss 0.2855097829935994 and accuracy 0.9197\n",
      "current loss 0.27469567826140867 and accuracy 0.9217\n",
      "current test loss 0.28477915469654824 and accuracy 0.9195\n",
      "current loss 0.27875024994115466 and accuracy 0.9197\n",
      "current test loss 0.2891527077273446 and accuracy 0.9172\n",
      "current loss 0.2781615918486528 and accuracy 0.9235\n",
      "current test loss 0.28968155377950594 and accuracy 0.9162\n",
      "current loss 0.2802998511131018 and accuracy 0.9209\n",
      "current test loss 0.29261941408305187 and accuracy 0.9193\n",
      "current loss 0.27497457408089315 and accuracy 0.9254\n",
      "current test loss 0.28550486058840957 and accuracy 0.9214\n",
      "current loss 0.2838035208835801 and accuracy 0.9209\n",
      "current test loss 0.29468894386507055 and accuracy 0.918\n",
      "current loss 0.27293599836186533 and accuracy 0.9236\n",
      "current test loss 0.28623159283415583 and accuracy 0.9175\n",
      "current loss 0.27410305020645337 and accuracy 0.9215\n",
      "current test loss 0.2816027030379341 and accuracy 0.9197\n",
      "current loss 0.28252547790361365 and accuracy 0.9212\n",
      "current test loss 0.2912063163832864 and accuracy 0.9201\n",
      "current loss 0.2761512163631223 and accuracy 0.9261\n",
      "current test loss 0.2853123473938413 and accuracy 0.9192\n",
      "current loss 0.26963939516431684 and accuracy 0.9252\n",
      "current test loss 0.28376169851928096 and accuracy 0.9204\n",
      "current loss 0.2922160434578842 and accuracy 0.9156\n",
      "current test loss 0.3038922677555787 and accuracy 0.9153\n",
      "current loss 0.2720629234866479 and accuracy 0.9243\n",
      "current test loss 0.2816967581809039 and accuracy 0.9233\n",
      "current loss 0.27741400748775236 and accuracy 0.9231\n",
      "current test loss 0.2913281995043619 and accuracy 0.9177\n",
      "current loss 0.2829425495150233 and accuracy 0.9215\n",
      "current test loss 0.29592871134329773 and accuracy 0.9178\n",
      "training on vanilla_lr:0.01\n"
     ]
    },
    {
     "data": {
      "application/vnd.jupyter.widget-view+json": {
       "model_id": "e78cd9a581b146bca2dd49a77b7b31d7",
       "version_major": 2,
       "version_minor": 0
      },
      "text/plain": [
       "  0%|          | 0/5 [00:00<?, ?it/s]"
      ]
     },
     "metadata": {},
     "output_type": "display_data"
    },
    {
     "name": "stdout",
     "output_type": "stream",
     "text": [
      "current loss 0.3505272263817831 and accuracy 0.8996\n",
      "current test loss 0.3671878649948071 and accuracy 0.8955\n",
      "current loss 0.3133746242038792 and accuracy 0.9117\n",
      "current test loss 0.32340380739518865 and accuracy 0.9046\n",
      "current loss 0.32563613300751815 and accuracy 0.905\n",
      "current test loss 0.3327951377182337 and accuracy 0.9001\n",
      "current loss 0.3207105373494277 and accuracy 0.9087\n",
      "current test loss 0.3240769768693375 and accuracy 0.9069\n",
      "current loss 0.32183872786826984 and accuracy 0.9063\n",
      "current test loss 0.33032809521298456 and accuracy 0.9052\n",
      "current loss 0.2884257994553404 and accuracy 0.9185\n",
      "current test loss 0.29709266075219914 and accuracy 0.9169\n",
      "current loss 0.30099713708716297 and accuracy 0.9157\n",
      "current test loss 0.31499260817503555 and accuracy 0.9099\n",
      "current loss 0.28643536377137224 and accuracy 0.9193\n",
      "current test loss 0.2910446393012854 and accuracy 0.9182\n",
      "current loss 0.28081645941912525 and accuracy 0.9208\n",
      "current test loss 0.29055687081463 and accuracy 0.9147\n",
      "current loss 0.28370474558852227 and accuracy 0.9188\n",
      "current test loss 0.29491573303647217 and accuracy 0.9149\n",
      "current loss 0.27878447655107713 and accuracy 0.9234\n",
      "current test loss 0.2886073537817346 and accuracy 0.9193\n",
      "current loss 0.2796599962594202 and accuracy 0.9225\n",
      "current test loss 0.29435823572454994 and accuracy 0.9178\n",
      "current loss 0.2773436001083825 and accuracy 0.9232\n",
      "current test loss 0.2884889134682114 and accuracy 0.9189\n",
      "current loss 0.2795926958236765 and accuracy 0.9234\n",
      "current test loss 0.28759895626746884 and accuracy 0.9208\n",
      "current loss 0.27570822852270277 and accuracy 0.9227\n",
      "current test loss 0.2877664715378132 and accuracy 0.9172\n",
      "current loss 0.2720638295101968 and accuracy 0.925\n",
      "current test loss 0.27962354917024734 and accuracy 0.9223\n",
      "current loss 0.27715657878143973 and accuracy 0.9225\n",
      "current test loss 0.28437346175105216 and accuracy 0.921\n",
      "current loss 0.2728692830808925 and accuracy 0.9231\n",
      "current test loss 0.2800888188166245 and accuracy 0.9192\n",
      "current loss 0.2702009818906444 and accuracy 0.9237\n",
      "current test loss 0.2837645218757415 and accuracy 0.9218\n",
      "current loss 0.28092986170991663 and accuracy 0.9219\n",
      "current test loss 0.2959898998298494 and accuracy 0.915\n",
      "current loss 0.27396750626664435 and accuracy 0.9241\n",
      "current test loss 0.28429187889009555 and accuracy 0.9206\n",
      "current loss 0.2730712743952365 and accuracy 0.9245\n",
      "current test loss 0.28274170727506626 and accuracy 0.92\n",
      "current loss 0.28031569699320513 and accuracy 0.9204\n",
      "current test loss 0.287678666580352 and accuracy 0.9193\n",
      "current loss 0.27527677049673216 and accuracy 0.9234\n",
      "current test loss 0.29087259167018625 and accuracy 0.9183\n",
      "current loss 0.26904091147735737 and accuracy 0.9264\n",
      "current test loss 0.280744745076735 and accuracy 0.9216\n",
      "training on vanilla_lr:0.001\n"
     ]
    },
    {
     "data": {
      "application/vnd.jupyter.widget-view+json": {
       "model_id": "a03aeb8ae10047298aa694049591c9be",
       "version_major": 2,
       "version_minor": 0
      },
      "text/plain": [
       "  0%|          | 0/5 [00:00<?, ?it/s]"
      ]
     },
     "metadata": {},
     "output_type": "display_data"
    },
    {
     "name": "stdout",
     "output_type": "stream",
     "text": [
      "current loss 0.3442491322518791 and accuracy 0.9045\n",
      "current test loss 0.3527339499896934 and accuracy 0.8993\n",
      "current loss 0.3185326329861083 and accuracy 0.9077\n",
      "current test loss 0.3374330486635138 and accuracy 0.9011\n",
      "current loss 0.3017853158815718 and accuracy 0.9137\n",
      "current test loss 0.3111590059881523 and accuracy 0.9129\n",
      "current loss 0.3041948244460383 and accuracy 0.9153\n",
      "current test loss 0.31370407474575446 and accuracy 0.9121\n",
      "current loss 0.2841976786549457 and accuracy 0.9173\n",
      "current test loss 0.2972073721436067 and accuracy 0.916\n",
      "current loss 0.2944769896651589 and accuracy 0.9145\n",
      "current test loss 0.3060721360499008 and accuracy 0.9136\n",
      "current loss 0.2912592807346295 and accuracy 0.9166\n",
      "current test loss 0.30267692728822376 and accuracy 0.9148\n",
      "current loss 0.2961607510180063 and accuracy 0.9171\n",
      "current test loss 0.3022309509895258 and accuracy 0.9181\n",
      "current loss 0.27551364269204115 and accuracy 0.9206\n",
      "current test loss 0.289190450752584 and accuracy 0.9182\n",
      "current loss 0.2807978266946548 and accuracy 0.9205\n",
      "current test loss 0.2941467438687029 and accuracy 0.9185\n",
      "current loss 0.2787923121485623 and accuracy 0.9224\n",
      "current test loss 0.2898031312663601 and accuracy 0.9203\n",
      "current loss 0.276185210671958 and accuracy 0.922\n",
      "current test loss 0.2903645217280773 and accuracy 0.9176\n",
      "current loss 0.2767537388013294 and accuracy 0.9243\n",
      "current test loss 0.2904284616298818 and accuracy 0.9182\n",
      "current loss 0.27470359332758876 and accuracy 0.9246\n",
      "current test loss 0.2885178961741612 and accuracy 0.919\n",
      "current loss 0.26986500761219456 and accuracy 0.9256\n",
      "current test loss 0.2817117276950873 and accuracy 0.9231\n",
      "current loss 0.2850757838634297 and accuracy 0.9187\n",
      "current test loss 0.29554665430890825 and accuracy 0.9155\n",
      "current loss 0.29069329482759343 and accuracy 0.9171\n",
      "current test loss 0.2889658801990193 and accuracy 0.9149\n",
      "current loss 0.27856636905717813 and accuracy 0.9228\n",
      "current test loss 0.29688699186424167 and accuracy 0.919\n",
      "current loss 0.27044387652782614 and accuracy 0.9263\n",
      "current test loss 0.28882707204018 and accuracy 0.9194\n",
      "current loss 0.2807504726740925 and accuracy 0.9228\n",
      "current test loss 0.29360195812837653 and accuracy 0.9164\n",
      "current loss 0.2786710244864138 and accuracy 0.9232\n",
      "current test loss 0.28569743980703594 and accuracy 0.9182\n",
      "current loss 0.2775685415869522 and accuracy 0.9234\n",
      "current test loss 0.2903813608839241 and accuracy 0.9203\n",
      "current loss 0.27537680082044447 and accuracy 0.9213\n",
      "current test loss 0.2870995254421975 and accuracy 0.9188\n",
      "current loss 0.2736527734788332 and accuracy 0.9253\n",
      "current test loss 0.2847236295025055 and accuracy 0.9188\n",
      "current loss 0.27126601481123314 and accuracy 0.9271\n",
      "current test loss 0.28268845532114917 and accuracy 0.9227\n",
      "training on vanilla_lr:0.0001\n"
     ]
    },
    {
     "data": {
      "application/vnd.jupyter.widget-view+json": {
       "model_id": "e010be08db0e438fa1c1c4ffea76508c",
       "version_major": 2,
       "version_minor": 0
      },
      "text/plain": [
       "  0%|          | 0/5 [00:00<?, ?it/s]"
      ]
     },
     "metadata": {},
     "output_type": "display_data"
    },
    {
     "name": "stdout",
     "output_type": "stream",
     "text": [
      "current loss 0.3389425155458177 and accuracy 0.9063\n",
      "current test loss 0.3488523023696354 and accuracy 0.8988\n",
      "current loss 0.31374887686756214 and accuracy 0.9119\n",
      "current test loss 0.32188209211189217 and accuracy 0.9087\n",
      "current loss 0.31736136154184297 and accuracy 0.9114\n",
      "current test loss 0.3250071817058456 and accuracy 0.9076\n",
      "current loss 0.29401527395137284 and accuracy 0.9169\n",
      "current test loss 0.30144661814391754 and accuracy 0.9128\n",
      "current loss 0.2967633887650794 and accuracy 0.9159\n",
      "current test loss 0.30616708860682995 and accuracy 0.9127\n",
      "current loss 0.2937113444680504 and accuracy 0.9165\n",
      "current test loss 0.3030410407708375 and accuracy 0.9156\n",
      "current loss 0.2929217615427384 and accuracy 0.9152\n",
      "current test loss 0.2993043497650996 and accuracy 0.9169\n",
      "current loss 0.27410697159620717 and accuracy 0.9232\n",
      "current test loss 0.28562585176178784 and accuracy 0.9189\n",
      "current loss 0.2860334854156335 and accuracy 0.9183\n",
      "current test loss 0.2940892672274979 and accuracy 0.9115\n",
      "current loss 0.28264773499233886 and accuracy 0.9185\n",
      "current test loss 0.2898741528150229 and accuracy 0.9156\n",
      "current loss 0.2944223705163125 and accuracy 0.9165\n",
      "current test loss 0.30175838699467156 and accuracy 0.9145\n",
      "current loss 0.28367343620555563 and accuracy 0.9213\n",
      "current test loss 0.2954232805495385 and accuracy 0.9158\n",
      "current loss 0.2823370779403054 and accuracy 0.9221\n",
      "current test loss 0.2912923995773378 and accuracy 0.9185\n",
      "current loss 0.2804699433012678 and accuracy 0.9221\n",
      "current test loss 0.293620397291617 and accuracy 0.9193\n",
      "current loss 0.2829352210555264 and accuracy 0.9195\n",
      "current test loss 0.29685400994158406 and accuracy 0.9179\n",
      "current loss 0.2756938825869707 and accuracy 0.9218\n",
      "current test loss 0.29089486948384097 and accuracy 0.9171\n",
      "current loss 0.2738995690120442 and accuracy 0.9253\n",
      "current test loss 0.2815148041023987 and accuracy 0.9217\n",
      "current loss 0.28165148281389235 and accuracy 0.9238\n",
      "current test loss 0.28980350102844193 and accuracy 0.9194\n",
      "current loss 0.28383905849316526 and accuracy 0.922\n",
      "current test loss 0.2907382269553504 and accuracy 0.9171\n",
      "current loss 0.2835025336168641 and accuracy 0.921\n",
      "current test loss 0.29323419006278545 and accuracy 0.9178\n",
      "current loss 0.28350652750531097 and accuracy 0.9184\n",
      "current test loss 0.29002902080723864 and accuracy 0.9175\n",
      "current loss 0.28294983172640026 and accuracy 0.9233\n",
      "current test loss 0.2965798637998835 and accuracy 0.9197\n",
      "current loss 0.2770399202211739 and accuracy 0.9246\n",
      "current test loss 0.2853434349969765 and accuracy 0.9212\n",
      "current loss 0.27707599181178444 and accuracy 0.9235\n",
      "current test loss 0.2871031104619594 and accuracy 0.9179\n",
      "current loss 0.2827435359990457 and accuracy 0.9201\n",
      "current test loss 0.28958554979434825 and accuracy 0.9185\n",
      "training on vanilla_lr:1e-05\n"
     ]
    },
    {
     "data": {
      "application/vnd.jupyter.widget-view+json": {
       "model_id": "17e8b67655814e468860205f2a2c1748",
       "version_major": 2,
       "version_minor": 0
      },
      "text/plain": [
       "  0%|          | 0/5 [00:00<?, ?it/s]"
      ]
     },
     "metadata": {},
     "output_type": "display_data"
    },
    {
     "name": "stdout",
     "output_type": "stream",
     "text": [
      "current loss 0.3498225353402799 and accuracy 0.8993\n",
      "current test loss 0.3600675402805767 and accuracy 0.8967\n",
      "current loss 0.3195119816090664 and accuracy 0.91\n",
      "current test loss 0.32827295074585955 and accuracy 0.9068\n",
      "current loss 0.29820949081102754 and accuracy 0.9149\n",
      "current test loss 0.307571407595942 and accuracy 0.9131\n",
      "current loss 0.29732461515436254 and accuracy 0.9167\n",
      "current test loss 0.3088043703798634 and accuracy 0.9138\n",
      "current loss 0.295514640212251 and accuracy 0.9178\n",
      "current test loss 0.30217832049797233 and accuracy 0.9157\n",
      "current loss 0.2970096441540416 and accuracy 0.918\n",
      "current test loss 0.30079288993144776 and accuracy 0.9165\n",
      "current loss 0.2850636033353073 and accuracy 0.9198\n",
      "current test loss 0.2901004266827941 and accuracy 0.9163\n",
      "current loss 0.2899652017131648 and accuracy 0.9174\n",
      "current test loss 0.30129493445844985 and accuracy 0.9158\n",
      "current loss 0.29682332184304805 and accuracy 0.9154\n",
      "current test loss 0.31197000797479657 and accuracy 0.9101\n",
      "current loss 0.28864170247105164 and accuracy 0.9186\n",
      "current test loss 0.2989912715398946 and accuracy 0.9161\n",
      "current loss 0.28384446183094886 and accuracy 0.9188\n",
      "current test loss 0.29743386269237404 and accuracy 0.9159\n",
      "current loss 0.29944764669041696 and accuracy 0.9168\n",
      "current test loss 0.3185284096622401 and accuracy 0.9096\n",
      "current loss 0.2983507862875481 and accuracy 0.9155\n",
      "current test loss 0.30547587181816505 and accuracy 0.9141\n",
      "current loss 0.27543048325622954 and accuracy 0.9249\n",
      "current test loss 0.2905545396042513 and accuracy 0.9197\n",
      "current loss 0.2788828238395765 and accuracy 0.9187\n",
      "current test loss 0.2944474554346193 and accuracy 0.9142\n",
      "current loss 0.2782861646864547 and accuracy 0.9228\n",
      "current test loss 0.28831985422386297 and accuracy 0.9203\n",
      "current loss 0.2717880092569709 and accuracy 0.9252\n",
      "current test loss 0.2838248138322501 and accuracy 0.9196\n",
      "current loss 0.2705142293152523 and accuracy 0.9249\n",
      "current test loss 0.2849616927061216 and accuracy 0.9194\n",
      "current loss 0.2790249511839576 and accuracy 0.9229\n",
      "current test loss 0.2894863454979569 and accuracy 0.9173\n",
      "current loss 0.27304140857464143 and accuracy 0.9233\n",
      "current test loss 0.2877462789907186 and accuracy 0.9201\n",
      "current loss 0.27056626782679466 and accuracy 0.9234\n",
      "current test loss 0.2808962642646042 and accuracy 0.92\n",
      "current loss 0.28305506714545664 and accuracy 0.9202\n",
      "current test loss 0.2896793968274792 and accuracy 0.9154\n",
      "current loss 0.28942526156933657 and accuracy 0.9187\n",
      "current test loss 0.3020466958334927 and accuracy 0.9151\n",
      "current loss 0.2770046547970325 and accuracy 0.9232\n",
      "current test loss 0.29024032067319006 and accuracy 0.919\n",
      "current loss 0.26983599708300227 and accuracy 0.9264\n",
      "current test loss 0.2802273188642146 and accuracy 0.9211\n",
      "training on vanilla_lr:1e-06\n"
     ]
    },
    {
     "data": {
      "application/vnd.jupyter.widget-view+json": {
       "model_id": "264c79de2db34119a10cbaba4d9f8625",
       "version_major": 2,
       "version_minor": 0
      },
      "text/plain": [
       "  0%|          | 0/5 [00:00<?, ?it/s]"
      ]
     },
     "metadata": {},
     "output_type": "display_data"
    },
    {
     "name": "stdout",
     "output_type": "stream",
     "text": [
      "current loss 0.35023306858691355 and accuracy 0.9027\n",
      "current test loss 0.35781034278566914 and accuracy 0.8993\n",
      "current loss 0.309712878568024 and accuracy 0.9134\n",
      "current test loss 0.32805869252159675 and accuracy 0.9087\n",
      "current loss 0.30373822230176695 and accuracy 0.9139\n",
      "current test loss 0.3064539100949496 and accuracy 0.9131\n",
      "current loss 0.314775806430392 and accuracy 0.9076\n",
      "current test loss 0.3228744022866513 and accuracy 0.9052\n",
      "current loss 0.31063094247986917 and accuracy 0.9109\n",
      "current test loss 0.3214424103952579 and accuracy 0.9073\n",
      "current loss 0.2971189751510024 and accuracy 0.9166\n",
      "current test loss 0.3054698133954651 and accuracy 0.9152\n",
      "current loss 0.2825108517720905 and accuracy 0.9202\n",
      "current test loss 0.2931794112287709 and accuracy 0.9167\n",
      "current loss 0.28537700999476084 and accuracy 0.9189\n",
      "current test loss 0.29508779579590455 and accuracy 0.9159\n",
      "current loss 0.293708213530558 and accuracy 0.9181\n",
      "current test loss 0.30237524437292357 and accuracy 0.9146\n",
      "current loss 0.2809109516426506 and accuracy 0.923\n",
      "current test loss 0.2890089658685185 and accuracy 0.9174\n",
      "current loss 0.2736182630696962 and accuracy 0.9242\n",
      "current test loss 0.2836584067572434 and accuracy 0.9164\n",
      "current loss 0.2909353514917776 and accuracy 0.9181\n",
      "current test loss 0.2954996633913958 and accuracy 0.9164\n",
      "current loss 0.29047673169638794 and accuracy 0.9184\n",
      "current test loss 0.3017216755824422 and accuracy 0.9137\n",
      "current loss 0.2758526008560436 and accuracy 0.9253\n",
      "current test loss 0.28757621150930945 and accuracy 0.9208\n",
      "current loss 0.2873865948757459 and accuracy 0.918\n",
      "current test loss 0.30117622756822304 and accuracy 0.9138\n",
      "current loss 0.279432938884734 and accuracy 0.9235\n",
      "current test loss 0.2882050433591941 and accuracy 0.92\n",
      "current loss 0.2868468454099374 and accuracy 0.9209\n",
      "current test loss 0.30014886453687917 and accuracy 0.9171\n",
      "current loss 0.2859086517002734 and accuracy 0.9218\n",
      "current test loss 0.300506957006628 and accuracy 0.916\n",
      "current loss 0.27925675465027944 and accuracy 0.9217\n",
      "current test loss 0.2858188808852516 and accuracy 0.9204\n",
      "current loss 0.2955716535574185 and accuracy 0.9214\n",
      "current test loss 0.30641926476644826 and accuracy 0.9127\n",
      "current loss 0.2931217272615546 and accuracy 0.9184\n",
      "current test loss 0.2941895033242388 and accuracy 0.9175\n",
      "current loss 0.278811496175021 and accuracy 0.921\n",
      "current test loss 0.29000652424510237 and accuracy 0.9199\n",
      "current loss 0.2687858480690407 and accuracy 0.9265\n",
      "current test loss 0.28187629626066757 and accuracy 0.9233\n",
      "current loss 0.2706251186322944 and accuracy 0.925\n",
      "current test loss 0.2872649097494003 and accuracy 0.9199\n",
      "current loss 0.28317650791337917 and accuracy 0.9216\n",
      "current test loss 0.29756842914291154 and accuracy 0.9143\n",
      "training on vanilla_lr:1e-07\n"
     ]
    },
    {
     "data": {
      "application/vnd.jupyter.widget-view+json": {
       "model_id": "3d9ccbff58eb47eb949f062764de7da1",
       "version_major": 2,
       "version_minor": 0
      },
      "text/plain": [
       "  0%|          | 0/5 [00:00<?, ?it/s]"
      ]
     },
     "metadata": {},
     "output_type": "display_data"
    },
    {
     "name": "stdout",
     "output_type": "stream",
     "text": [
      "current loss 0.3485660895872906 and accuracy 0.9028\n",
      "current test loss 0.358755822357494 and accuracy 0.8986\n",
      "current loss 0.3152522200813063 and accuracy 0.9109\n",
      "current test loss 0.32816892576222884 and accuracy 0.9056\n",
      "current loss 0.30929537959509473 and accuracy 0.9113\n",
      "current test loss 0.3098902020428256 and accuracy 0.9108\n",
      "current loss 0.29358986452050545 and accuracy 0.9188\n",
      "current test loss 0.30100401400877436 and accuracy 0.9161\n",
      "current loss 0.28370236899077295 and accuracy 0.9205\n",
      "current test loss 0.29317132720830036 and accuracy 0.9181\n",
      "current loss 0.2874762660794544 and accuracy 0.9189\n",
      "current test loss 0.291212721319492 and accuracy 0.9182\n",
      "current loss 0.3075177620652069 and accuracy 0.9118\n",
      "current test loss 0.3112369648082721 and accuracy 0.9106\n",
      "current loss 0.28196714705972103 and accuracy 0.9227\n",
      "current test loss 0.29638049509942055 and accuracy 0.9183\n",
      "current loss 0.2790509733921885 and accuracy 0.9222\n",
      "current test loss 0.29161244838325434 and accuracy 0.9183\n",
      "current loss 0.28169911634047473 and accuracy 0.9203\n",
      "current test loss 0.2898568125050899 and accuracy 0.9185\n",
      "current loss 0.28210090428059914 and accuracy 0.9202\n",
      "current test loss 0.292549217862824 and accuracy 0.9187\n",
      "current loss 0.28113036179338324 and accuracy 0.9205\n",
      "current test loss 0.2913752178216144 and accuracy 0.9189\n",
      "current loss 0.275764676654307 and accuracy 0.922\n",
      "current test loss 0.284229066910752 and accuracy 0.9193\n",
      "current loss 0.2765701640271537 and accuracy 0.9234\n",
      "current test loss 0.28773010411884686 and accuracy 0.92\n",
      "current loss 0.27566700478492917 and accuracy 0.9229\n",
      "current test loss 0.28387165424612687 and accuracy 0.9214\n",
      "current loss 0.2765871207312124 and accuracy 0.9221\n",
      "current test loss 0.2867940324702684 and accuracy 0.9204\n",
      "current loss 0.2773058128520191 and accuracy 0.9243\n",
      "current test loss 0.2882262228717719 and accuracy 0.9203\n",
      "current loss 0.28039229460837034 and accuracy 0.9182\n",
      "current test loss 0.29435507344572753 and accuracy 0.9161\n",
      "current loss 0.2810388489419694 and accuracy 0.9219\n",
      "current test loss 0.2954400060455501 and accuracy 0.9152\n",
      "current loss 0.2715673009494332 and accuracy 0.9253\n",
      "current test loss 0.28072927721096086 and accuracy 0.9213\n",
      "current loss 0.27933111540767297 and accuracy 0.9218\n",
      "current test loss 0.28283614989948835 and accuracy 0.9203\n",
      "current loss 0.27474506101151563 and accuracy 0.9243\n",
      "current test loss 0.28899752301898 and accuracy 0.9185\n",
      "current loss 0.27765653377407573 and accuracy 0.9227\n",
      "current test loss 0.2912269164869708 and accuracy 0.9198\n",
      "current loss 0.2676357451511843 and accuracy 0.9272\n",
      "current test loss 0.2781285734400517 and accuracy 0.9205\n",
      "current loss 0.28879786676294106 and accuracy 0.9163\n",
      "current test loss 0.2942877211404656 and accuracy 0.9175\n",
      "training on using lr decay and momentum SGD_lr:1.0\n"
     ]
    },
    {
     "data": {
      "application/vnd.jupyter.widget-view+json": {
       "model_id": "42dba2e518a94d048e44a3d80e345466",
       "version_major": 2,
       "version_minor": 0
      },
      "text/plain": [
       "  0%|          | 0/5 [00:00<?, ?it/s]"
      ]
     },
     "metadata": {},
     "output_type": "display_data"
    },
    {
     "name": "stdout",
     "output_type": "stream",
     "text": [
      "current loss 0.38055379308283743 and accuracy 0.885\n",
      "current test loss 0.3840032972835442 and accuracy 0.8849\n",
      "current loss 0.3410638857646119 and accuracy 0.8972\n",
      "current test loss 0.35223024095153443 and accuracy 0.8918\n",
      "current loss 0.31449466816171423 and accuracy 0.9076\n",
      "current test loss 0.3177444490727081 and accuracy 0.9087\n",
      "current loss 0.3072157710945333 and accuracy 0.9122\n",
      "current test loss 0.3138446698823619 and accuracy 0.9094\n",
      "current loss 0.29515907444796496 and accuracy 0.9191\n",
      "current test loss 0.3078502143072126 and accuracy 0.9142\n",
      "current loss 0.29183155752160306 and accuracy 0.917\n",
      "current test loss 0.309767102283112 and accuracy 0.9138\n",
      "current loss 0.27910945800751713 and accuracy 0.9226\n",
      "current test loss 0.28935835078143207 and accuracy 0.918\n",
      "current loss 0.29159667018236596 and accuracy 0.9181\n",
      "current test loss 0.31101284437260573 and accuracy 0.9132\n",
      "triggering lr decay\n",
      "current loss 0.27222047017836226 and accuracy 0.9245\n",
      "current test loss 0.28090137331445947 and accuracy 0.9193\n",
      "current loss 0.2698230114536433 and accuracy 0.9248\n",
      "current test loss 0.28309765925457775 and accuracy 0.922\n",
      "current loss 0.27085328260123986 and accuracy 0.9242\n",
      "current test loss 0.28074702892512093 and accuracy 0.9222\n",
      "triggering lr decay\n",
      "current loss 0.26941165868950007 and accuracy 0.9254\n",
      "current test loss 0.27906032600514974 and accuracy 0.9208\n",
      "current loss 0.2672957590153625 and accuracy 0.9251\n",
      "current test loss 0.2773622094010206 and accuracy 0.9212\n",
      "current loss 0.2687569091681209 and accuracy 0.9252\n",
      "current test loss 0.27712209754939465 and accuracy 0.9214\n",
      "triggering lr decay\n",
      "current loss 0.2649875003128724 and accuracy 0.9262\n",
      "current test loss 0.2743095390360351 and accuracy 0.9223\n",
      "current loss 0.2649629663351432 and accuracy 0.9262\n",
      "current test loss 0.2746565705381399 and accuracy 0.9221\n",
      "current loss 0.2655940851271175 and accuracy 0.9241\n",
      "current test loss 0.27450041706316974 and accuracy 0.9223\n",
      "triggering lr decay\n",
      "current loss 0.26467558855505585 and accuracy 0.926\n",
      "current test loss 0.27469165656830785 and accuracy 0.9228\n",
      "current loss 0.2646804493235073 and accuracy 0.9265\n",
      "current test loss 0.27428801161322447 and accuracy 0.9228\n",
      "triggering lr decay\n",
      "current loss 0.26433439395247044 and accuracy 0.9264\n",
      "current test loss 0.27327803385664595 and accuracy 0.9223\n",
      "current loss 0.26493899073011107 and accuracy 0.9259\n",
      "current test loss 0.27347410163295005 and accuracy 0.922\n",
      "triggering lr decay\n",
      "current loss 0.26401994639191156 and accuracy 0.9256\n",
      "current test loss 0.2731564206020486 and accuracy 0.9232\n",
      "current loss 0.2640123333284967 and accuracy 0.9255\n",
      "current test loss 0.2731101606302956 and accuracy 0.9231\n",
      "current loss 0.26384632562343063 and accuracy 0.9255\n",
      "current test loss 0.27318678455534007 and accuracy 0.9228\n",
      "current loss 0.26392027694163994 and accuracy 0.9257\n",
      "current test loss 0.27340619925053034 and accuracy 0.9229\n",
      "triggering lr decay\n",
      "training on using lr decay and momentum SGD_lr:0.1\n"
     ]
    },
    {
     "data": {
      "application/vnd.jupyter.widget-view+json": {
       "model_id": "1ad565a9808243b9812f9bb001c84305",
       "version_major": 2,
       "version_minor": 0
      },
      "text/plain": [
       "  0%|          | 0/5 [00:00<?, ?it/s]"
      ]
     },
     "metadata": {},
     "output_type": "display_data"
    },
    {
     "name": "stdout",
     "output_type": "stream",
     "text": [
      "current loss 0.3537176072234336 and accuracy 0.8996\n",
      "current test loss 0.36333031399183163 and accuracy 0.8978\n",
      "current loss 0.3211712248817578 and accuracy 0.9089\n",
      "current test loss 0.32963763913551186 and accuracy 0.9058\n",
      "current loss 0.3092368086783692 and accuracy 0.9109\n",
      "current test loss 0.3142965695365923 and accuracy 0.9092\n",
      "current loss 0.3024336118074745 and accuracy 0.9134\n",
      "current test loss 0.30722074458925214 and accuracy 0.9118\n",
      "current loss 0.28694537792484326 and accuracy 0.9179\n",
      "current test loss 0.3036604747607374 and accuracy 0.912\n",
      "current loss 0.2938559362323958 and accuracy 0.9188\n",
      "current test loss 0.29850734978561844 and accuracy 0.9147\n",
      "triggering lr decay\n",
      "current loss 0.28152961496871826 and accuracy 0.9199\n",
      "current test loss 0.2855920998882316 and accuracy 0.919\n",
      "current loss 0.2815026648188431 and accuracy 0.921\n",
      "current test loss 0.28856556065403366 and accuracy 0.9172\n",
      "current loss 0.2796751325544822 and accuracy 0.9209\n",
      "current test loss 0.2902826126797767 and accuracy 0.9174\n",
      "current loss 0.2740061476625619 and accuracy 0.9238\n",
      "current test loss 0.28498899657217897 and accuracy 0.9235\n",
      "current loss 0.27755120913484205 and accuracy 0.9216\n",
      "current test loss 0.28466679035176146 and accuracy 0.9179\n",
      "triggering lr decay\n",
      "current loss 0.27354448195070685 and accuracy 0.9233\n",
      "current test loss 0.283538313161517 and accuracy 0.9191\n",
      "current loss 0.27219631275566214 and accuracy 0.9231\n",
      "current test loss 0.281288016499524 and accuracy 0.9182\n",
      "current loss 0.26845624755509767 and accuracy 0.9241\n",
      "current test loss 0.2776045607411933 and accuracy 0.9199\n",
      "current loss 0.2695917125631893 and accuracy 0.9246\n",
      "current test loss 0.278175813286678 and accuracy 0.9215\n",
      "triggering lr decay\n",
      "current loss 0.26849262641980354 and accuracy 0.9256\n",
      "current test loss 0.27733620085611704 and accuracy 0.9227\n",
      "current loss 0.2679417996898537 and accuracy 0.9248\n",
      "current test loss 0.276629096523938 and accuracy 0.923\n",
      "current loss 0.2684837892188559 and accuracy 0.9257\n",
      "current test loss 0.2760512299700184 and accuracy 0.9228\n",
      "triggering lr decay\n",
      "current loss 0.2658693197587013 and accuracy 0.9265\n",
      "current test loss 0.2740313165530461 and accuracy 0.9236\n",
      "current loss 0.265451945596584 and accuracy 0.9269\n",
      "current test loss 0.27418685212354715 and accuracy 0.9226\n",
      "current loss 0.2661314039256661 and accuracy 0.9263\n",
      "current test loss 0.27473611801428033 and accuracy 0.9247\n",
      "triggering lr decay\n",
      "current loss 0.26499317304690445 and accuracy 0.927\n",
      "current test loss 0.2743279226396477 and accuracy 0.9242\n",
      "current loss 0.264727535057686 and accuracy 0.9267\n",
      "current test loss 0.27385152798479384 and accuracy 0.9221\n",
      "current loss 0.26600904844111595 and accuracy 0.9259\n",
      "current test loss 0.27537955824556504 and accuracy 0.9217\n",
      "triggering lr decay\n",
      "current loss 0.264994523998353 and accuracy 0.9272\n",
      "current test loss 0.27390254765995786 and accuracy 0.923\n",
      "training on using lr decay and momentum SGD_lr:0.01\n"
     ]
    },
    {
     "data": {
      "application/vnd.jupyter.widget-view+json": {
       "model_id": "d2c3239412d1410992ba4c51bee0b1ec",
       "version_major": 2,
       "version_minor": 0
      },
      "text/plain": [
       "  0%|          | 0/5 [00:00<?, ?it/s]"
      ]
     },
     "metadata": {},
     "output_type": "display_data"
    },
    {
     "name": "stdout",
     "output_type": "stream",
     "text": [
      "current loss 0.3381424294056799 and accuracy 0.9036\n",
      "current test loss 0.3485012247849464 and accuracy 0.902\n",
      "current loss 0.3278060419370942 and accuracy 0.9065\n",
      "current test loss 0.3345511671297836 and accuracy 0.9053\n",
      "current loss 0.30845436678660954 and accuracy 0.9109\n",
      "current test loss 0.3146209141703589 and accuracy 0.9118\n",
      "current loss 0.33358503440040815 and accuracy 0.9036\n",
      "current test loss 0.3299712683245613 and accuracy 0.9056\n",
      "triggering lr decay\n",
      "current loss 0.28868652856884275 and accuracy 0.9195\n",
      "current test loss 0.29569456744767564 and accuracy 0.9189\n",
      "current loss 0.2880429847734548 and accuracy 0.9171\n",
      "current test loss 0.29149601661938995 and accuracy 0.9181\n",
      "current loss 0.28196466645518853 and accuracy 0.9206\n",
      "current test loss 0.2913877620308507 and accuracy 0.9197\n",
      "current loss 0.28246100077209385 and accuracy 0.9201\n",
      "current test loss 0.2901033451153715 and accuracy 0.9175\n",
      "triggering lr decay\n",
      "current loss 0.2721486582186375 and accuracy 0.9237\n",
      "current test loss 0.28021605361039514 and accuracy 0.92\n",
      "current loss 0.27469236281816567 and accuracy 0.9222\n",
      "current test loss 0.2819813685591918 and accuracy 0.9192\n",
      "triggering lr decay\n",
      "current loss 0.27436243922728426 and accuracy 0.9212\n",
      "current test loss 0.2844946220416462 and accuracy 0.9207\n",
      "current loss 0.27205893808403864 and accuracy 0.923\n",
      "current test loss 0.2794232201508307 and accuracy 0.9215\n",
      "current loss 0.2708177943220725 and accuracy 0.9252\n",
      "current test loss 0.2804645366007956 and accuracy 0.9229\n",
      "current loss 0.27202002376430784 and accuracy 0.9236\n",
      "current test loss 0.27955414570532594 and accuracy 0.9217\n",
      "triggering lr decay\n",
      "current loss 0.26962042689570354 and accuracy 0.9238\n",
      "current test loss 0.2777790858440746 and accuracy 0.9212\n",
      "current loss 0.2713444441088852 and accuracy 0.924\n",
      "current test loss 0.27996264990908665 and accuracy 0.9216\n",
      "triggering lr decay\n",
      "current loss 0.26990410526930425 and accuracy 0.9245\n",
      "current test loss 0.27853258757059046 and accuracy 0.9227\n",
      "current loss 0.2694056499103639 and accuracy 0.9244\n",
      "current test loss 0.277425877016762 and accuracy 0.9229\n",
      "current loss 0.27020814250509545 and accuracy 0.9242\n",
      "current test loss 0.2777361259981119 and accuracy 0.9231\n",
      "triggering lr decay\n",
      "current loss 0.26901515713677066 and accuracy 0.9246\n",
      "current test loss 0.27699453399635393 and accuracy 0.9222\n",
      "current loss 0.26908593996822194 and accuracy 0.9243\n",
      "current test loss 0.27730273029254743 and accuracy 0.9226\n",
      "triggering lr decay\n",
      "current loss 0.26909638505853006 and accuracy 0.9238\n",
      "current test loss 0.27712815463466633 and accuracy 0.9224\n",
      "triggering lr decay\n",
      "current loss 0.26897571464994396 and accuracy 0.9244\n",
      "current test loss 0.27714622426359115 and accuracy 0.9223\n",
      "current loss 0.2689939496360568 and accuracy 0.9248\n",
      "current test loss 0.2770028435118106 and accuracy 0.9219\n",
      "triggering lr decay\n",
      "current loss 0.26896824798283286 and accuracy 0.9243\n",
      "current test loss 0.27699974679444367 and accuracy 0.9219\n",
      "training on using lr decay and momentum SGD_lr:0.001\n"
     ]
    },
    {
     "data": {
      "application/vnd.jupyter.widget-view+json": {
       "model_id": "cb7cdb2eed8a41f3808a2347968d0a11",
       "version_major": 2,
       "version_minor": 0
      },
      "text/plain": [
       "  0%|          | 0/5 [00:00<?, ?it/s]"
      ]
     },
     "metadata": {},
     "output_type": "display_data"
    },
    {
     "name": "stdout",
     "output_type": "stream",
     "text": [
      "current loss 0.3494318322443051 and accuracy 0.901\n",
      "current test loss 0.36462642681622426 and accuracy 0.8954\n",
      "current loss 0.33631912749948856 and accuracy 0.9038\n",
      "current test loss 0.34475000261386096 and accuracy 0.9\n",
      "current loss 0.3106348347530269 and accuracy 0.9112\n",
      "current test loss 0.31868207408839483 and accuracy 0.9099\n",
      "current loss 0.30681212134570984 and accuracy 0.9134\n",
      "current test loss 0.3144732629018371 and accuracy 0.9108\n",
      "current loss 0.2879907347271907 and accuracy 0.9178\n",
      "current test loss 0.3012224956018794 and accuracy 0.9163\n",
      "current loss 0.2835311720926363 and accuracy 0.9188\n",
      "current test loss 0.29453728864168105 and accuracy 0.9166\n",
      "current loss 0.287652593059479 and accuracy 0.9185\n",
      "current test loss 0.2885014324804166 and accuracy 0.9178\n",
      "triggering lr decay\n",
      "current loss 0.2787442977320457 and accuracy 0.9204\n",
      "current test loss 0.2890314130966094 and accuracy 0.9203\n",
      "current loss 0.2740451532171196 and accuracy 0.9225\n",
      "current test loss 0.28153372477537386 and accuracy 0.9184\n",
      "current loss 0.2759362130311467 and accuracy 0.9204\n",
      "current test loss 0.28581152454462255 and accuracy 0.9177\n",
      "triggering lr decay\n",
      "current loss 0.2720741254696184 and accuracy 0.9222\n",
      "current test loss 0.283005665029762 and accuracy 0.9181\n",
      "current loss 0.26978819192660203 and accuracy 0.9251\n",
      "current test loss 0.2790791893642903 and accuracy 0.9195\n",
      "current loss 0.2708712974771569 and accuracy 0.9238\n",
      "current test loss 0.27797502831770327 and accuracy 0.9228\n",
      "triggering lr decay\n",
      "current loss 0.26785056855787004 and accuracy 0.9237\n",
      "current test loss 0.2755764429978909 and accuracy 0.9234\n",
      "current loss 0.2671862254657968 and accuracy 0.9236\n",
      "current test loss 0.2750828518793734 and accuracy 0.9218\n",
      "current loss 0.26549700942735033 and accuracy 0.9251\n",
      "current test loss 0.27585107204294085 and accuracy 0.9212\n",
      "current loss 0.26636364617346575 and accuracy 0.9249\n",
      "current test loss 0.275989483432373 and accuracy 0.9219\n",
      "triggering lr decay\n",
      "current loss 0.2655813025339127 and accuracy 0.9252\n",
      "current test loss 0.2745723591385284 and accuracy 0.923\n",
      "current loss 0.2665324409476852 and accuracy 0.9251\n",
      "current test loss 0.27539401839517813 and accuracy 0.9225\n",
      "triggering lr decay\n",
      "current loss 0.26576639067044017 and accuracy 0.9252\n",
      "current test loss 0.2743299109748529 and accuracy 0.9219\n",
      "current loss 0.26527973988251313 and accuracy 0.925\n",
      "current test loss 0.2747812546254453 and accuracy 0.9227\n",
      "current loss 0.2658353829441267 and accuracy 0.9238\n",
      "current test loss 0.27446612078919846 and accuracy 0.9231\n",
      "triggering lr decay\n",
      "current loss 0.26539918978020993 and accuracy 0.9254\n",
      "current test loss 0.27466355003934617 and accuracy 0.9224\n",
      "current loss 0.265210772770439 and accuracy 0.9256\n",
      "current test loss 0.27427299827031076 and accuracy 0.923\n",
      "current loss 0.265265205186142 and accuracy 0.9249\n",
      "current test loss 0.2742039682997827 and accuracy 0.9229\n",
      "triggering lr decay\n",
      "training on using lr decay and momentum SGD_lr:0.0001\n"
     ]
    },
    {
     "data": {
      "application/vnd.jupyter.widget-view+json": {
       "model_id": "e8990df824394e14b51016accb2a6f82",
       "version_major": 2,
       "version_minor": 0
      },
      "text/plain": [
       "  0%|          | 0/5 [00:00<?, ?it/s]"
      ]
     },
     "metadata": {},
     "output_type": "display_data"
    },
    {
     "name": "stdout",
     "output_type": "stream",
     "text": [
      "current loss 0.3472356799570956 and accuracy 0.8996\n",
      "current test loss 0.35513338121700433 and accuracy 0.8986\n",
      "current loss 0.31870773406260944 and accuracy 0.9108\n",
      "current test loss 0.3258219051389115 and accuracy 0.9061\n",
      "current loss 0.3015689462197246 and accuracy 0.9136\n",
      "current test loss 0.30472873381087595 and accuracy 0.914\n",
      "current loss 0.30422596641499255 and accuracy 0.9156\n",
      "current test loss 0.3139223448507813 and accuracy 0.9108\n",
      "triggering lr decay\n",
      "current loss 0.28485975381885725 and accuracy 0.9199\n",
      "current test loss 0.29188323779346687 and accuracy 0.9171\n",
      "current loss 0.2832584767350594 and accuracy 0.9213\n",
      "current test loss 0.2915790624843202 and accuracy 0.9166\n",
      "current loss 0.2845795479722791 and accuracy 0.9194\n",
      "current test loss 0.2919778061471232 and accuracy 0.9171\n",
      "triggering lr decay\n",
      "current loss 0.27915844596580275 and accuracy 0.9191\n",
      "current test loss 0.2858135201666164 and accuracy 0.918\n",
      "current loss 0.27798353657652836 and accuracy 0.9214\n",
      "current test loss 0.2882936266028153 and accuracy 0.9205\n",
      "current loss 0.27610692235931295 and accuracy 0.9208\n",
      "current test loss 0.28245638965219455 and accuracy 0.9201\n",
      "current loss 0.2738611712316668 and accuracy 0.9226\n",
      "current test loss 0.28476518897242403 and accuracy 0.9179\n",
      "current loss 0.27140546155281753 and accuracy 0.9243\n",
      "current test loss 0.27789155122142173 and accuracy 0.9222\n",
      "current loss 0.2755385441084258 and accuracy 0.9246\n",
      "current test loss 0.2825783715648678 and accuracy 0.9212\n",
      "triggering lr decay\n",
      "current loss 0.26989820424999933 and accuracy 0.9243\n",
      "current test loss 0.279023432969322 and accuracy 0.9223\n",
      "current loss 0.2695206286319008 and accuracy 0.9239\n",
      "current test loss 0.27775052104260806 and accuracy 0.9208\n",
      "current loss 0.2716526497863473 and accuracy 0.9249\n",
      "current test loss 0.2796880035496994 and accuracy 0.9226\n",
      "triggering lr decay\n",
      "current loss 0.269797643623713 and accuracy 0.925\n",
      "current test loss 0.27716890466794064 and accuracy 0.9223\n",
      "current loss 0.26882357069707885 and accuracy 0.9263\n",
      "current test loss 0.27710893907492345 and accuracy 0.9221\n",
      "current loss 0.2699041575699715 and accuracy 0.9243\n",
      "current test loss 0.2772615977060904 and accuracy 0.9213\n",
      "triggering lr decay\n",
      "current loss 0.26848250861406425 and accuracy 0.9247\n",
      "current test loss 0.2767820657233293 and accuracy 0.9207\n",
      "current loss 0.26860495049830513 and accuracy 0.9252\n",
      "current test loss 0.2767881527597894 and accuracy 0.921\n",
      "triggering lr decay\n",
      "current loss 0.2684428615410661 and accuracy 0.9246\n",
      "current test loss 0.27615132350011146 and accuracy 0.9215\n",
      "current loss 0.2683468629736546 and accuracy 0.9249\n",
      "current test loss 0.2761956052532052 and accuracy 0.9218\n",
      "current loss 0.26843035762632494 and accuracy 0.9253\n",
      "current test loss 0.27595757922610903 and accuracy 0.9217\n",
      "triggering lr decay\n",
      "current loss 0.2681535406550951 and accuracy 0.9255\n",
      "current test loss 0.2762411895926435 and accuracy 0.9219\n",
      "training on using lr decay and momentum SGD_lr:1e-05\n"
     ]
    },
    {
     "data": {
      "application/vnd.jupyter.widget-view+json": {
       "model_id": "7f6e994e22de40eca753ae76770db2c0",
       "version_major": 2,
       "version_minor": 0
      },
      "text/plain": [
       "  0%|          | 0/5 [00:00<?, ?it/s]"
      ]
     },
     "metadata": {},
     "output_type": "display_data"
    },
    {
     "name": "stdout",
     "output_type": "stream",
     "text": [
      "current loss 0.36084395408925257 and accuracy 0.8941\n",
      "current test loss 0.3717094635172818 and accuracy 0.8898\n",
      "current loss 0.31349106797270415 and accuracy 0.9121\n",
      "current test loss 0.3221645943864359 and accuracy 0.9083\n",
      "current loss 0.3200271277859959 and accuracy 0.908\n",
      "current test loss 0.324167258008508 and accuracy 0.9065\n",
      "triggering lr decay\n",
      "current loss 0.2940513526132256 and accuracy 0.9174\n",
      "current test loss 0.2974023990205894 and accuracy 0.9158\n",
      "current loss 0.28933555263204114 and accuracy 0.9162\n",
      "current test loss 0.2955260908852285 and accuracy 0.9152\n",
      "current loss 0.29712070509965477 and accuracy 0.9154\n",
      "current test loss 0.30460253890099537 and accuracy 0.9103\n",
      "triggering lr decay\n",
      "current loss 0.28268327640176744 and accuracy 0.9193\n",
      "current test loss 0.2886561727904671 and accuracy 0.9202\n",
      "current loss 0.2782258484423109 and accuracy 0.9214\n",
      "current test loss 0.2876037156583605 and accuracy 0.9192\n",
      "current loss 0.2783764307801891 and accuracy 0.922\n",
      "current test loss 0.2861127826685467 and accuracy 0.9209\n",
      "triggering lr decay\n",
      "current loss 0.2755209964600084 and accuracy 0.9226\n",
      "current test loss 0.2833501866176914 and accuracy 0.9195\n",
      "current loss 0.27458231025739094 and accuracy 0.9228\n",
      "current test loss 0.28227785551980195 and accuracy 0.9218\n",
      "current loss 0.2754094264016024 and accuracy 0.9227\n",
      "current test loss 0.28268441321289783 and accuracy 0.9197\n",
      "triggering lr decay\n",
      "current loss 0.2734385649554935 and accuracy 0.9233\n",
      "current test loss 0.28143711399086996 and accuracy 0.9221\n",
      "current loss 0.27295075420805404 and accuracy 0.9254\n",
      "current test loss 0.2811128130592732 and accuracy 0.9215\n",
      "current loss 0.27338213799569633 and accuracy 0.9234\n",
      "current test loss 0.2798541303990066 and accuracy 0.9221\n",
      "triggering lr decay\n",
      "current loss 0.27236440217223107 and accuracy 0.9238\n",
      "current test loss 0.27950785276470436 and accuracy 0.9212\n",
      "current loss 0.2728666249975391 and accuracy 0.9238\n",
      "current test loss 0.28065251933334356 and accuracy 0.9209\n",
      "triggering lr decay\n",
      "current loss 0.27227900644649167 and accuracy 0.9238\n",
      "current test loss 0.27964124243624655 and accuracy 0.9213\n",
      "current loss 0.27238815500334 and accuracy 0.9238\n",
      "current test loss 0.279836760125216 and accuracy 0.9206\n",
      "triggering lr decay\n",
      "current loss 0.272227099481451 and accuracy 0.9239\n",
      "current test loss 0.279765581648334 and accuracy 0.9213\n",
      "current loss 0.2722150821830456 and accuracy 0.9239\n",
      "current test loss 0.279706234165336 and accuracy 0.9214\n",
      "current loss 0.27226134624608156 and accuracy 0.9241\n",
      "current test loss 0.2796899579641116 and accuracy 0.9212\n",
      "triggering lr decay\n",
      "current loss 0.2722192494114225 and accuracy 0.9241\n",
      "current test loss 0.2797299213462224 and accuracy 0.9209\n",
      "current loss 0.27221203194586435 and accuracy 0.9237\n",
      "current test loss 0.27960442827882726 and accuracy 0.9208\n",
      "current loss 0.27212491980440046 and accuracy 0.9239\n",
      "current test loss 0.2795779274287051 and accuracy 0.9211\n",
      "training on using lr decay and momentum SGD_lr:1e-06\n"
     ]
    },
    {
     "data": {
      "application/vnd.jupyter.widget-view+json": {
       "model_id": "6766117e8ea54f16acc0f02c85330a15",
       "version_major": 2,
       "version_minor": 0
      },
      "text/plain": [
       "  0%|          | 0/5 [00:00<?, ?it/s]"
      ]
     },
     "metadata": {},
     "output_type": "display_data"
    },
    {
     "name": "stdout",
     "output_type": "stream",
     "text": [
      "current loss 0.3666198838821434 and accuracy 0.8944\n",
      "current test loss 0.36891889757591184 and accuracy 0.895\n",
      "current loss 0.30931739081219467 and accuracy 0.9133\n",
      "current test loss 0.3184159357122046 and accuracy 0.9076\n",
      "current loss 0.3046367177112511 and accuracy 0.9109\n",
      "current test loss 0.31431301287963137 and accuracy 0.9102\n",
      "current loss 0.3101319326949623 and accuracy 0.9088\n",
      "current test loss 0.31216365102495214 and accuracy 0.9131\n",
      "triggering lr decay\n",
      "current loss 0.28858227778181866 and accuracy 0.9187\n",
      "current test loss 0.29883854519786063 and accuracy 0.9129\n",
      "current loss 0.2863560068030578 and accuracy 0.9204\n",
      "current test loss 0.2974597209344139 and accuracy 0.9163\n",
      "current loss 0.2810958900514102 and accuracy 0.9208\n",
      "current test loss 0.29311747347798733 and accuracy 0.9188\n",
      "current loss 0.2820610067656391 and accuracy 0.9188\n",
      "current test loss 0.28852229871971896 and accuracy 0.9176\n",
      "triggering lr decay\n",
      "current loss 0.2756059195482504 and accuracy 0.9225\n",
      "current test loss 0.2833314482850799 and accuracy 0.9208\n",
      "current loss 0.2735731885817059 and accuracy 0.9234\n",
      "current test loss 0.28090977880609364 and accuracy 0.9209\n",
      "current loss 0.27247591120203113 and accuracy 0.9244\n",
      "current test loss 0.2812953431179825 and accuracy 0.9216\n",
      "current loss 0.2748262378359932 and accuracy 0.9238\n",
      "current test loss 0.282347084812881 and accuracy 0.9209\n",
      "triggering lr decay\n",
      "current loss 0.2707060381240928 and accuracy 0.9248\n",
      "current test loss 0.2762054635658639 and accuracy 0.9221\n",
      "current loss 0.2707770837165244 and accuracy 0.9227\n",
      "current test loss 0.2781980136590929 and accuracy 0.9211\n",
      "triggering lr decay\n",
      "current loss 0.26903877702942686 and accuracy 0.9251\n",
      "current test loss 0.27757923185684974 and accuracy 0.922\n",
      "current loss 0.26930754009557595 and accuracy 0.9243\n",
      "current test loss 0.2779935921979487 and accuracy 0.921\n",
      "triggering lr decay\n",
      "current loss 0.2688309938959645 and accuracy 0.9258\n",
      "current test loss 0.2766682383529083 and accuracy 0.9215\n",
      "current loss 0.26866692966306577 and accuracy 0.9257\n",
      "current test loss 0.2766102841725985 and accuracy 0.9213\n",
      "current loss 0.2686400749582297 and accuracy 0.9249\n",
      "current test loss 0.2770647373435271 and accuracy 0.9215\n",
      "current loss 0.2693501855112655 and accuracy 0.9245\n",
      "current test loss 0.2762845183621904 and accuracy 0.9216\n",
      "triggering lr decay\n",
      "current loss 0.2689867811350111 and accuracy 0.9246\n",
      "current test loss 0.27617449454975856 and accuracy 0.9221\n",
      "current loss 0.2687350925635941 and accuracy 0.9254\n",
      "current test loss 0.2761984675619728 and accuracy 0.9226\n",
      "current loss 0.2686071430634115 and accuracy 0.9255\n",
      "current test loss 0.2765659478096569 and accuracy 0.9223\n",
      "current loss 0.2684148277789257 and accuracy 0.9254\n",
      "current test loss 0.27660426797259613 and accuracy 0.9215\n",
      "current loss 0.268424684737369 and accuracy 0.9257\n",
      "current test loss 0.27593434792800386 and accuracy 0.9219\n",
      "triggering lr decay\n",
      "training on using lr decay and momentum SGD_lr:1e-07\n"
     ]
    },
    {
     "data": {
      "application/vnd.jupyter.widget-view+json": {
       "model_id": "788b2304479949ce89f6e33c0374531a",
       "version_major": 2,
       "version_minor": 0
      },
      "text/plain": [
       "  0%|          | 0/5 [00:00<?, ?it/s]"
      ]
     },
     "metadata": {},
     "output_type": "display_data"
    },
    {
     "name": "stdout",
     "output_type": "stream",
     "text": [
      "current loss 0.3478630050948521 and accuracy 0.9011\n",
      "current test loss 0.3518961205317504 and accuracy 0.9035\n",
      "current loss 0.31514895510581 and accuracy 0.9106\n",
      "current test loss 0.31596659065323374 and accuracy 0.9103\n",
      "current loss 0.31463211261518426 and accuracy 0.908\n",
      "current test loss 0.3247272519582125 and accuracy 0.9076\n",
      "current loss 0.2986032065520631 and accuracy 0.9161\n",
      "current test loss 0.3097258725891304 and accuracy 0.9109\n",
      "current loss 0.29983800539107314 and accuracy 0.9133\n",
      "current test loss 0.31073757775822103 and accuracy 0.909\n",
      "triggering lr decay\n",
      "current loss 0.28204609365583866 and accuracy 0.9203\n",
      "current test loss 0.292216236205795 and accuracy 0.9174\n",
      "current loss 0.2774999181847448 and accuracy 0.9232\n",
      "current test loss 0.28315802090241576 and accuracy 0.9191\n",
      "current loss 0.27604405740835175 and accuracy 0.9215\n",
      "current test loss 0.2835829636265162 and accuracy 0.9209\n",
      "current loss 0.2791762366543678 and accuracy 0.9213\n",
      "current test loss 0.28713020291810365 and accuracy 0.9172\n",
      "triggering lr decay\n",
      "current loss 0.2719709416083452 and accuracy 0.9243\n",
      "current test loss 0.279678139816126 and accuracy 0.92\n",
      "current loss 0.2703267591169201 and accuracy 0.9242\n",
      "current test loss 0.27804956086367444 and accuracy 0.9229\n",
      "current loss 0.2714145835944319 and accuracy 0.9247\n",
      "current test loss 0.27949882282844446 and accuracy 0.922\n",
      "triggering lr decay\n",
      "current loss 0.26871464478398094 and accuracy 0.9255\n",
      "current test loss 0.27919081256997136 and accuracy 0.9208\n",
      "current loss 0.268640731489558 and accuracy 0.925\n",
      "current test loss 0.27924210650561515 and accuracy 0.9203\n",
      "current loss 0.26748942560881267 and accuracy 0.9251\n",
      "current test loss 0.27626334930692603 and accuracy 0.9228\n",
      "current loss 0.2668554348884354 and accuracy 0.9255\n",
      "current test loss 0.2776545903508252 and accuracy 0.9218\n",
      "current loss 0.26790921145662244 and accuracy 0.9241\n",
      "current test loss 0.2772291624453508 and accuracy 0.9204\n",
      "triggering lr decay\n",
      "current loss 0.2666392073401047 and accuracy 0.9258\n",
      "current test loss 0.2761810546020066 and accuracy 0.9226\n",
      "current loss 0.26718049750730777 and accuracy 0.9264\n",
      "current test loss 0.27636672922257954 and accuracy 0.9226\n",
      "triggering lr decay\n",
      "current loss 0.26658911275339403 and accuracy 0.9262\n",
      "current test loss 0.275823020490141 and accuracy 0.9222\n",
      "current loss 0.26624567317262515 and accuracy 0.9256\n",
      "current test loss 0.2755108989970301 and accuracy 0.922\n",
      "current loss 0.2662171168518369 and accuracy 0.926\n",
      "current test loss 0.2754906425856195 and accuracy 0.9219\n",
      "current loss 0.2659753313243585 and accuracy 0.9263\n",
      "current test loss 0.27553810479252616 and accuracy 0.9217\n",
      "current loss 0.266131681407953 and accuracy 0.9261\n",
      "current test loss 0.2755050515414865 and accuracy 0.9219\n",
      "triggering lr decay\n",
      "current loss 0.2658775327348907 and accuracy 0.926\n",
      "current test loss 0.27534827893034053 and accuracy 0.9221\n",
      "training on using lr decay_lr:1.0\n"
     ]
    },
    {
     "data": {
      "application/vnd.jupyter.widget-view+json": {
       "model_id": "0c4a7914921a4a17a0162d2ec625309e",
       "version_major": 2,
       "version_minor": 0
      },
      "text/plain": [
       "  0%|          | 0/5 [00:00<?, ?it/s]"
      ]
     },
     "metadata": {},
     "output_type": "display_data"
    },
    {
     "name": "stdout",
     "output_type": "stream",
     "text": [
      "current loss 0.36990889519195497 and accuracy 0.8921\n",
      "current test loss 0.386060495562539 and accuracy 0.8881\n",
      "current loss 0.3202712224440632 and accuracy 0.9115\n",
      "current test loss 0.3355651999615898 and accuracy 0.9038\n",
      "current loss 0.30458370610069907 and accuracy 0.9138\n",
      "current test loss 0.3133109528152495 and accuracy 0.9122\n",
      "current loss 0.30297368529901514 and accuracy 0.915\n",
      "current test loss 0.3102425338138714 and accuracy 0.9111\n",
      "current loss 0.28872706762240274 and accuracy 0.9178\n",
      "current test loss 0.2974897912497392 and accuracy 0.9127\n",
      "current loss 0.28371378284803106 and accuracy 0.9193\n",
      "current test loss 0.2878039022248554 and accuracy 0.9194\n",
      "current loss 0.2952677885485596 and accuracy 0.9183\n",
      "current test loss 0.29950224349770277 and accuracy 0.9142\n",
      "triggering lr decay\n",
      "current loss 0.2809534408903367 and accuracy 0.9205\n",
      "current test loss 0.28946430730305084 and accuracy 0.9179\n",
      "current loss 0.27894547657428936 and accuracy 0.921\n",
      "current test loss 0.29057940488692335 and accuracy 0.9187\n",
      "current loss 0.27514309818376104 and accuracy 0.9223\n",
      "current test loss 0.28262273910562424 and accuracy 0.9189\n",
      "current loss 0.27365965432201417 and accuracy 0.9237\n",
      "current test loss 0.28027209116738866 and accuracy 0.92\n",
      "current loss 0.27293100352038074 and accuracy 0.9227\n",
      "current test loss 0.281171087714176 and accuracy 0.9201\n",
      "current loss 0.27224490730247575 and accuracy 0.9243\n",
      "current test loss 0.2799575221075441 and accuracy 0.9221\n",
      "current loss 0.27274092252834553 and accuracy 0.9239\n",
      "current test loss 0.2863232678633263 and accuracy 0.9185\n",
      "triggering lr decay\n",
      "current loss 0.26793685371542963 and accuracy 0.9253\n",
      "current test loss 0.2767289696040374 and accuracy 0.9234\n",
      "current loss 0.2679531480951647 and accuracy 0.925\n",
      "current test loss 0.2761835154525764 and accuracy 0.9202\n",
      "triggering lr decay\n",
      "current loss 0.26572460662930564 and accuracy 0.9249\n",
      "current test loss 0.2737815345727735 and accuracy 0.9217\n",
      "current loss 0.2645750334967363 and accuracy 0.9262\n",
      "current test loss 0.27498051512787924 and accuracy 0.9221\n",
      "current loss 0.26344974953541034 and accuracy 0.9264\n",
      "current test loss 0.27386199822589713 and accuracy 0.9226\n",
      "current loss 0.2642090406384966 and accuracy 0.927\n",
      "current test loss 0.27292885687044904 and accuracy 0.9234\n",
      "triggering lr decay\n",
      "current loss 0.26467630497595784 and accuracy 0.9258\n",
      "current test loss 0.2740475844705568 and accuracy 0.922\n",
      "triggering lr decay\n",
      "current loss 0.2634843255465299 and accuracy 0.9271\n",
      "current test loss 0.27245707821512505 and accuracy 0.9236\n",
      "current loss 0.2632761163890411 and accuracy 0.9267\n",
      "current test loss 0.27255982430721837 and accuracy 0.9233\n",
      "current loss 0.26319141927299194 and accuracy 0.9266\n",
      "current test loss 0.2725752042465702 and accuracy 0.924\n",
      "current loss 0.26329464989301465 and accuracy 0.9273\n",
      "current test loss 0.27224788493046076 and accuracy 0.9237\n",
      "triggering lr decay\n",
      "training on using lr decay_lr:0.1\n"
     ]
    },
    {
     "data": {
      "application/vnd.jupyter.widget-view+json": {
       "model_id": "3ff56fee6187454dadd67cb9c77fd477",
       "version_major": 2,
       "version_minor": 0
      },
      "text/plain": [
       "  0%|          | 0/5 [00:00<?, ?it/s]"
      ]
     },
     "metadata": {},
     "output_type": "display_data"
    },
    {
     "name": "stdout",
     "output_type": "stream",
     "text": [
      "current loss 0.35277240102480834 and accuracy 0.9014\n",
      "current test loss 0.35788656015887865 and accuracy 0.8997\n",
      "current loss 0.31994134657779416 and accuracy 0.9077\n",
      "current test loss 0.3260113354567472 and accuracy 0.9071\n",
      "current loss 0.30563803009625273 and accuracy 0.9149\n",
      "current test loss 0.3138017836517098 and accuracy 0.9118\n",
      "current loss 0.30539248814935793 and accuracy 0.9141\n",
      "current test loss 0.3051693660843124 and accuracy 0.913\n",
      "current loss 0.2923894505011905 and accuracy 0.9171\n",
      "current test loss 0.3004266028034669 and accuracy 0.9158\n",
      "current loss 0.29361324184212706 and accuracy 0.917\n",
      "current test loss 0.2968784545483029 and accuracy 0.9181\n",
      "triggering lr decay\n",
      "current loss 0.2788670205792526 and accuracy 0.9246\n",
      "current test loss 0.28761188341986915 and accuracy 0.9199\n",
      "current loss 0.28500269417438956 and accuracy 0.9205\n",
      "current test loss 0.29391683053520673 and accuracy 0.9152\n",
      "triggering lr decay\n",
      "current loss 0.27475616984703555 and accuracy 0.923\n",
      "current test loss 0.28280267863690506 and accuracy 0.9217\n",
      "current loss 0.2762461065051265 and accuracy 0.9233\n",
      "current test loss 0.2849797117370858 and accuracy 0.9192\n",
      "triggering lr decay\n",
      "current loss 0.2711866939697214 and accuracy 0.9246\n",
      "current test loss 0.27970666156759966 and accuracy 0.9219\n",
      "current loss 0.2699770110231931 and accuracy 0.9243\n",
      "current test loss 0.2779912638662773 and accuracy 0.9223\n",
      "current loss 0.2700190277764505 and accuracy 0.9261\n",
      "current test loss 0.2777109000662708 and accuracy 0.9223\n",
      "triggering lr decay\n",
      "current loss 0.2704423375067688 and accuracy 0.9261\n",
      "current test loss 0.2778945406458468 and accuracy 0.923\n",
      "triggering lr decay\n",
      "current loss 0.26929351185812084 and accuracy 0.9269\n",
      "current test loss 0.2763084399799866 and accuracy 0.9229\n",
      "current loss 0.26899615050400194 and accuracy 0.9254\n",
      "current test loss 0.2767815521572223 and accuracy 0.9232\n",
      "current loss 0.2686285353901717 and accuracy 0.925\n",
      "current test loss 0.2764204293812737 and accuracy 0.9222\n",
      "current loss 0.2685803154913722 and accuracy 0.9261\n",
      "current test loss 0.2765753965429399 and accuracy 0.9231\n",
      "current loss 0.2685590181005512 and accuracy 0.9263\n",
      "current test loss 0.27673878660704515 and accuracy 0.9226\n",
      "current loss 0.2684677130255544 and accuracy 0.9263\n",
      "current test loss 0.27599977348538834 and accuracy 0.9226\n",
      "current loss 0.268637419434943 and accuracy 0.9256\n",
      "current test loss 0.2764591485836068 and accuracy 0.9226\n",
      "triggering lr decay\n",
      "current loss 0.268544174182884 and accuracy 0.9256\n",
      "current test loss 0.27669175643285004 and accuracy 0.9229\n",
      "current loss 0.26822743400359145 and accuracy 0.9256\n",
      "current test loss 0.2757729692725309 and accuracy 0.9227\n",
      "current loss 0.2682591757876982 and accuracy 0.9255\n",
      "current test loss 0.27585910694399274 and accuracy 0.9217\n",
      "triggering lr decay\n",
      "current loss 0.2681254171859922 and accuracy 0.926\n",
      "current test loss 0.2758723937336756 and accuracy 0.9218\n",
      "training on using lr decay_lr:0.01\n"
     ]
    },
    {
     "data": {
      "application/vnd.jupyter.widget-view+json": {
       "model_id": "ee615ecdb390479aae608a69351c8941",
       "version_major": 2,
       "version_minor": 0
      },
      "text/plain": [
       "  0%|          | 0/5 [00:00<?, ?it/s]"
      ]
     },
     "metadata": {},
     "output_type": "display_data"
    },
    {
     "name": "stdout",
     "output_type": "stream",
     "text": [
      "current loss 0.3590677747473258 and accuracy 0.8973\n",
      "current test loss 0.36790780438540394 and accuracy 0.8967\n",
      "current loss 0.33174844461598396 and accuracy 0.9063\n",
      "current test loss 0.328596244980715 and accuracy 0.9041\n",
      "current loss 0.3052620968760867 and accuracy 0.9114\n",
      "current test loss 0.3159534953836193 and accuracy 0.9084\n",
      "current loss 0.2917467642196478 and accuracy 0.9182\n",
      "current test loss 0.29606367445396203 and accuracy 0.9142\n",
      "current loss 0.29657880323970814 and accuracy 0.916\n",
      "current test loss 0.3090082676000509 and accuracy 0.9107\n",
      "triggering lr decay\n",
      "current loss 0.28233329360827314 and accuracy 0.9209\n",
      "current test loss 0.2899748685247261 and accuracy 0.9169\n",
      "current loss 0.2871637992728524 and accuracy 0.9177\n",
      "current test loss 0.2921144956549575 and accuracy 0.9164\n",
      "triggering lr decay\n",
      "current loss 0.27448293690115516 and accuracy 0.923\n",
      "current test loss 0.2820138275319554 and accuracy 0.9181\n",
      "current loss 0.2745150242879279 and accuracy 0.9226\n",
      "current test loss 0.2815670570286084 and accuracy 0.9216\n",
      "triggering lr decay\n",
      "current loss 0.2707769220251439 and accuracy 0.9235\n",
      "current test loss 0.27875676102437985 and accuracy 0.9209\n",
      "current loss 0.2709003276759969 and accuracy 0.9231\n",
      "current test loss 0.2786747578079291 and accuracy 0.9209\n",
      "triggering lr decay\n",
      "current loss 0.270286204716522 and accuracy 0.9247\n",
      "current test loss 0.27779709642318523 and accuracy 0.9213\n",
      "current loss 0.2704456968214181 and accuracy 0.9229\n",
      "current test loss 0.27815397991669294 and accuracy 0.9214\n",
      "triggering lr decay\n",
      "current loss 0.26990728286178406 and accuracy 0.9242\n",
      "current test loss 0.2777861225341363 and accuracy 0.9221\n",
      "current loss 0.26990681720028575 and accuracy 0.9238\n",
      "current test loss 0.27765979746717323 and accuracy 0.9213\n",
      "current loss 0.2695515004938164 and accuracy 0.9241\n",
      "current test loss 0.277121631914321 and accuracy 0.9213\n",
      "current loss 0.26979520608868846 and accuracy 0.924\n",
      "current test loss 0.2769318311396496 and accuracy 0.922\n",
      "triggering lr decay\n",
      "current loss 0.26950470957710443 and accuracy 0.9241\n",
      "current test loss 0.27717626434944576 and accuracy 0.9215\n",
      "current loss 0.26961991790323747 and accuracy 0.9243\n",
      "current test loss 0.277692331716732 and accuracy 0.9208\n",
      "triggering lr decay\n",
      "current loss 0.2693909454899247 and accuracy 0.9242\n",
      "current test loss 0.2771682719914275 and accuracy 0.9214\n",
      "current loss 0.2693489961762619 and accuracy 0.9246\n",
      "current test loss 0.277158832262535 and accuracy 0.9219\n",
      "current loss 0.2692511724420761 and accuracy 0.9241\n",
      "current test loss 0.27717303376784314 and accuracy 0.9214\n",
      "current loss 0.26931889497225764 and accuracy 0.9241\n",
      "current test loss 0.2770677826236343 and accuracy 0.9217\n",
      "triggering lr decay\n",
      "current loss 0.26936958414217915 and accuracy 0.9243\n",
      "current test loss 0.27707486546292237 and accuracy 0.9215\n",
      "triggering lr decay\n",
      "current loss 0.2693133002215018 and accuracy 0.9244\n",
      "current test loss 0.27703184783048457 and accuracy 0.9216\n",
      "training on using lr decay_lr:0.001\n"
     ]
    },
    {
     "data": {
      "application/vnd.jupyter.widget-view+json": {
       "model_id": "00c7bd57046b4c7c83d6b4ed9bdd573c",
       "version_major": 2,
       "version_minor": 0
      },
      "text/plain": [
       "  0%|          | 0/5 [00:00<?, ?it/s]"
      ]
     },
     "metadata": {},
     "output_type": "display_data"
    },
    {
     "name": "stdout",
     "output_type": "stream",
     "text": [
      "current loss 0.33827690207150923 and accuracy 0.9049\n",
      "current test loss 0.3480112707405251 and accuracy 0.9027\n",
      "current loss 0.3306466221925644 and accuracy 0.9048\n",
      "current test loss 0.3409838930018687 and accuracy 0.9036\n",
      "current loss 0.31534103848654677 and accuracy 0.911\n",
      "current test loss 0.3180658394487933 and accuracy 0.9076\n",
      "current loss 0.2962172474210443 and accuracy 0.9161\n",
      "current test loss 0.3010777114305374 and accuracy 0.9135\n",
      "current loss 0.29834291955608344 and accuracy 0.9131\n",
      "current test loss 0.3051541101950976 and accuracy 0.9103\n",
      "triggering lr decay\n",
      "current loss 0.2803124710618726 and accuracy 0.9207\n",
      "current test loss 0.2856440994641469 and accuracy 0.9173\n",
      "current loss 0.27834303423718443 and accuracy 0.9214\n",
      "current test loss 0.28458435759817075 and accuracy 0.9201\n",
      "current loss 0.2837397702073949 and accuracy 0.9204\n",
      "current test loss 0.2866192111936714 and accuracy 0.9187\n",
      "triggering lr decay\n",
      "current loss 0.2755486023905225 and accuracy 0.9231\n",
      "current test loss 0.28344783048834976 and accuracy 0.921\n",
      "current loss 0.27111013796190736 and accuracy 0.9237\n",
      "current test loss 0.28171501017014305 and accuracy 0.9221\n",
      "current loss 0.2730213867726253 and accuracy 0.9233\n",
      "current test loss 0.28290021610473 and accuracy 0.9206\n",
      "triggering lr decay\n",
      "current loss 0.2701335616429062 and accuracy 0.9256\n",
      "current test loss 0.2792003600515067 and accuracy 0.9217\n",
      "current loss 0.2684760055675573 and accuracy 0.9259\n",
      "current test loss 0.2773563915292857 and accuracy 0.923\n",
      "current loss 0.2685238071285553 and accuracy 0.9256\n",
      "current test loss 0.27578533125066335 and accuracy 0.9203\n",
      "triggering lr decay\n",
      "current loss 0.26739707794995815 and accuracy 0.9244\n",
      "current test loss 0.2761196202295939 and accuracy 0.9227\n",
      "current loss 0.26872211527628936 and accuracy 0.9255\n",
      "current test loss 0.27600796985821324 and accuracy 0.9237\n",
      "triggering lr decay\n",
      "current loss 0.2673598743374656 and accuracy 0.9258\n",
      "current test loss 0.27545125274649657 and accuracy 0.9227\n",
      "current loss 0.2673312600637866 and accuracy 0.9262\n",
      "current test loss 0.27541291712507066 and accuracy 0.9225\n",
      "current loss 0.26725825491099175 and accuracy 0.9259\n",
      "current test loss 0.2764699522306905 and accuracy 0.9224\n",
      "current loss 0.2666966258940926 and accuracy 0.9261\n",
      "current test loss 0.2755953684566326 and accuracy 0.9212\n",
      "current loss 0.26677354059382213 and accuracy 0.9261\n",
      "current test loss 0.276301337838963 and accuracy 0.9224\n",
      "triggering lr decay\n",
      "current loss 0.26661502195667175 and accuracy 0.9256\n",
      "current test loss 0.27530250879989865 and accuracy 0.9225\n",
      "current loss 0.2665796988430576 and accuracy 0.926\n",
      "current test loss 0.275113074623123 and accuracy 0.9219\n",
      "current loss 0.26697700099271005 and accuracy 0.9266\n",
      "current test loss 0.2754786578374838 and accuracy 0.922\n",
      "triggering lr decay\n",
      "current loss 0.2667361193236298 and accuracy 0.9267\n",
      "current test loss 0.2750350533385347 and accuracy 0.922\n",
      "training on using lr decay_lr:0.0001\n"
     ]
    },
    {
     "data": {
      "application/vnd.jupyter.widget-view+json": {
       "model_id": "a7f8122b07d9406fa2470009aaa600ab",
       "version_major": 2,
       "version_minor": 0
      },
      "text/plain": [
       "  0%|          | 0/5 [00:00<?, ?it/s]"
      ]
     },
     "metadata": {},
     "output_type": "display_data"
    },
    {
     "name": "stdout",
     "output_type": "stream",
     "text": [
      "current loss 0.3678975536959056 and accuracy 0.8925\n",
      "current test loss 0.37547902551890205 and accuracy 0.8907\n",
      "current loss 0.3196067857249242 and accuracy 0.9062\n",
      "current test loss 0.3310988710510273 and accuracy 0.903\n",
      "current loss 0.35422329374363765 and accuracy 0.8972\n",
      "current test loss 0.36158016324114906 and accuracy 0.8964\n",
      "triggering lr decay\n",
      "current loss 0.29235238165243527 and accuracy 0.9181\n",
      "current test loss 0.30237561257125856 and accuracy 0.9145\n",
      "current loss 0.2900696088100905 and accuracy 0.9177\n",
      "current test loss 0.29490981931073545 and accuracy 0.9179\n",
      "current loss 0.2823406685081168 and accuracy 0.921\n",
      "current test loss 0.29141425542658467 and accuracy 0.9204\n",
      "current loss 0.2808518626087569 and accuracy 0.9214\n",
      "current test loss 0.29202593878598815 and accuracy 0.9166\n",
      "current loss 0.2773623954867122 and accuracy 0.9237\n",
      "current test loss 0.2906679454344796 and accuracy 0.9184\n",
      "current loss 0.2847295951826 and accuracy 0.9195\n",
      "current test loss 0.2900890017417584 and accuracy 0.9188\n",
      "triggering lr decay\n",
      "current loss 0.2743009207043177 and accuracy 0.9222\n",
      "current test loss 0.2829530587663886 and accuracy 0.9211\n",
      "current loss 0.275262895939339 and accuracy 0.922\n",
      "current test loss 0.28395004797283535 and accuracy 0.9191\n",
      "triggering lr decay\n",
      "current loss 0.27208921357249033 and accuracy 0.9231\n",
      "current test loss 0.2785498903141649 and accuracy 0.9223\n",
      "current loss 0.2702406803800097 and accuracy 0.9235\n",
      "current test loss 0.2781873641086643 and accuracy 0.9215\n",
      "current loss 0.2706308281338248 and accuracy 0.9239\n",
      "current test loss 0.2774762105262738 and accuracy 0.9227\n",
      "triggering lr decay\n",
      "current loss 0.26972064402057144 and accuracy 0.9245\n",
      "current test loss 0.2785688129860353 and accuracy 0.9224\n",
      "current loss 0.26956528018888076 and accuracy 0.9241\n",
      "current test loss 0.27810567887651877 and accuracy 0.9211\n",
      "current loss 0.2696141697527573 and accuracy 0.9247\n",
      "current test loss 0.2773830885651873 and accuracy 0.9222\n",
      "triggering lr decay\n",
      "current loss 0.2698082816315762 and accuracy 0.9252\n",
      "current test loss 0.2772942885608387 and accuracy 0.923\n",
      "triggering lr decay\n",
      "current loss 0.26956360634280485 and accuracy 0.9248\n",
      "current test loss 0.2767054270615731 and accuracy 0.922\n",
      "current loss 0.26909285981923114 and accuracy 0.925\n",
      "current test loss 0.2768706234727776 and accuracy 0.922\n",
      "current loss 0.2690927868830111 and accuracy 0.9244\n",
      "current test loss 0.2769884780967129 and accuracy 0.9223\n",
      "current loss 0.26926124407305163 and accuracy 0.9253\n",
      "current test loss 0.27701421468469073 and accuracy 0.9224\n",
      "triggering lr decay\n",
      "current loss 0.2689744449610336 and accuracy 0.9253\n",
      "current test loss 0.2768923447127827 and accuracy 0.9224\n",
      "current loss 0.26893852781108135 and accuracy 0.9248\n",
      "current test loss 0.2765412358291427 and accuracy 0.9224\n",
      "current loss 0.26885030555901823 and accuracy 0.9248\n",
      "current test loss 0.2765987682835639 and accuracy 0.9225\n",
      "training on using lr decay_lr:1e-05\n"
     ]
    },
    {
     "data": {
      "application/vnd.jupyter.widget-view+json": {
       "model_id": "5ad5c11fcc26486eb6132f2af34b8809",
       "version_major": 2,
       "version_minor": 0
      },
      "text/plain": [
       "  0%|          | 0/5 [00:00<?, ?it/s]"
      ]
     },
     "metadata": {},
     "output_type": "display_data"
    },
    {
     "name": "stdout",
     "output_type": "stream",
     "text": [
      "current loss 0.3456495424219374 and accuracy 0.9061\n",
      "current test loss 0.3550568872265287 and accuracy 0.9028\n",
      "current loss 0.3269304324604811 and accuracy 0.9068\n",
      "current test loss 0.33046060690383605 and accuracy 0.907\n",
      "current loss 0.30547416244279557 and accuracy 0.9135\n",
      "current test loss 0.31457345468344017 and accuracy 0.9097\n",
      "current loss 0.29789221283443357 and accuracy 0.9161\n",
      "current test loss 0.30316450232220366 and accuracy 0.9157\n",
      "current loss 0.30036198971867406 and accuracy 0.9151\n",
      "current test loss 0.3116316694686811 and accuracy 0.9127\n",
      "triggering lr decay\n",
      "current loss 0.28200719740939956 and accuracy 0.9202\n",
      "current test loss 0.29314593883328793 and accuracy 0.918\n",
      "current loss 0.27926180397083317 and accuracy 0.9223\n",
      "current test loss 0.2889474994647773 and accuracy 0.9191\n",
      "current loss 0.2786354355428824 and accuracy 0.9224\n",
      "current test loss 0.287318718283673 and accuracy 0.9194\n",
      "current loss 0.2752282180380051 and accuracy 0.9227\n",
      "current test loss 0.28317333338075373 and accuracy 0.9206\n",
      "current loss 0.2735032453162957 and accuracy 0.924\n",
      "current test loss 0.28444574929560557 and accuracy 0.9223\n",
      "current loss 0.2731096938822283 and accuracy 0.9237\n",
      "current test loss 0.28209213292492225 and accuracy 0.9202\n",
      "current loss 0.2779250140287211 and accuracy 0.923\n",
      "current test loss 0.2847103494111122 and accuracy 0.9179\n",
      "triggering lr decay\n",
      "current loss 0.26969815336977837 and accuracy 0.9259\n",
      "current test loss 0.28175745865565116 and accuracy 0.9203\n",
      "current loss 0.26792490384281714 and accuracy 0.9264\n",
      "current test loss 0.2786013947237745 and accuracy 0.922\n",
      "current loss 0.2725590824719531 and accuracy 0.9243\n",
      "current test loss 0.280582203347575 and accuracy 0.9211\n",
      "triggering lr decay\n",
      "current loss 0.2684861195821248 and accuracy 0.9262\n",
      "current test loss 0.27720531419743766 and accuracy 0.9229\n",
      "current loss 0.2664462674892903 and accuracy 0.9265\n",
      "current test loss 0.276223311594842 and accuracy 0.9229\n",
      "current loss 0.26626810621862584 and accuracy 0.9262\n",
      "current test loss 0.27639688061694917 and accuracy 0.9227\n",
      "current loss 0.26594228204926335 and accuracy 0.9256\n",
      "current test loss 0.2753750348265829 and accuracy 0.9214\n",
      "current loss 0.26541525184463144 and accuracy 0.9262\n",
      "current test loss 0.2752917046390487 and accuracy 0.9217\n",
      "current loss 0.2662003804944299 and accuracy 0.9253\n",
      "current test loss 0.27690915547366773 and accuracy 0.922\n",
      "triggering lr decay\n",
      "current loss 0.2647308056559212 and accuracy 0.9261\n",
      "current test loss 0.27450509377385257 and accuracy 0.9228\n",
      "current loss 0.26506283527340063 and accuracy 0.9259\n",
      "current test loss 0.2743970851249493 and accuracy 0.9229\n",
      "triggering lr decay\n",
      "current loss 0.2646080532489912 and accuracy 0.9269\n",
      "current test loss 0.2745418024772159 and accuracy 0.9227\n",
      "current loss 0.26456825275249846 and accuracy 0.9267\n",
      "current test loss 0.27386377529261174 and accuracy 0.923\n",
      "training on using lr decay_lr:1e-06\n"
     ]
    },
    {
     "data": {
      "application/vnd.jupyter.widget-view+json": {
       "model_id": "1b98314e078548d081aa5af12e5fc692",
       "version_major": 2,
       "version_minor": 0
      },
      "text/plain": [
       "  0%|          | 0/5 [00:00<?, ?it/s]"
      ]
     },
     "metadata": {},
     "output_type": "display_data"
    },
    {
     "name": "stdout",
     "output_type": "stream",
     "text": [
      "current loss 0.33492220147985147 and accuracy 0.9072\n",
      "current test loss 0.34802199549030394 and accuracy 0.9014\n",
      "current loss 0.3205512431010613 and accuracy 0.9105\n",
      "current test loss 0.331644748917435 and accuracy 0.9063\n",
      "current loss 0.30007325594644235 and accuracy 0.9163\n",
      "current test loss 0.3099432820818203 and accuracy 0.9118\n",
      "current loss 0.29565796924852583 and accuracy 0.9154\n",
      "current test loss 0.31250358201437956 and accuracy 0.9103\n",
      "current loss 0.29213806022233096 and accuracy 0.9194\n",
      "current test loss 0.3020899753532439 and accuracy 0.9142\n",
      "current loss 0.2862843967245895 and accuracy 0.9188\n",
      "current test loss 0.29421553413098034 and accuracy 0.9167\n",
      "current loss 0.29720318201297447 and accuracy 0.9166\n",
      "current test loss 0.3055813471759764 and accuracy 0.9107\n",
      "triggering lr decay\n",
      "current loss 0.27657728778051216 and accuracy 0.923\n",
      "current test loss 0.2850081921291425 and accuracy 0.9199\n",
      "current loss 0.27484962970654586 and accuracy 0.9236\n",
      "current test loss 0.28336432055717475 and accuracy 0.9198\n",
      "current loss 0.27487874569978327 and accuracy 0.9234\n",
      "current test loss 0.2837640515002026 and accuracy 0.9196\n",
      "triggering lr decay\n",
      "current loss 0.2706920746154864 and accuracy 0.9249\n",
      "current test loss 0.27833855213999414 and accuracy 0.9211\n",
      "current loss 0.27594861682919375 and accuracy 0.9228\n",
      "current test loss 0.2827022163376255 and accuracy 0.9199\n",
      "triggering lr decay\n",
      "current loss 0.2697117022802545 and accuracy 0.9239\n",
      "current test loss 0.27886764797778013 and accuracy 0.9206\n",
      "current loss 0.26714760784863123 and accuracy 0.9253\n",
      "current test loss 0.27616430791139684 and accuracy 0.9228\n",
      "current loss 0.2656015760945123 and accuracy 0.9259\n",
      "current test loss 0.27442093962460407 and accuracy 0.9232\n",
      "current loss 0.26614558522999493 and accuracy 0.9248\n",
      "current test loss 0.27448153158635935 and accuracy 0.922\n",
      "triggering lr decay\n",
      "current loss 0.26483398455606144 and accuracy 0.9259\n",
      "current test loss 0.27485754244183536 and accuracy 0.9225\n",
      "current loss 0.26556000325240503 and accuracy 0.9256\n",
      "current test loss 0.2749059949307371 and accuracy 0.9238\n",
      "triggering lr decay\n",
      "current loss 0.26452824797369284 and accuracy 0.9273\n",
      "current test loss 0.2743790921073749 and accuracy 0.9235\n",
      "current loss 0.26500856367046555 and accuracy 0.927\n",
      "current test loss 0.2740592140364661 and accuracy 0.9217\n",
      "triggering lr decay\n",
      "current loss 0.26461461404565895 and accuracy 0.9269\n",
      "current test loss 0.2741064715000566 and accuracy 0.9212\n",
      "current loss 0.2643930516149517 and accuracy 0.9266\n",
      "current test loss 0.27386710054946883 and accuracy 0.9218\n",
      "current loss 0.2643829906265751 and accuracy 0.9261\n",
      "current test loss 0.27359401805403377 and accuracy 0.9225\n",
      "current loss 0.26452957081746564 and accuracy 0.9266\n",
      "current test loss 0.2737593298144809 and accuracy 0.9218\n",
      "triggering lr decay\n",
      "current loss 0.2644304472970465 and accuracy 0.926\n",
      "current test loss 0.2736730953577673 and accuracy 0.9218\n",
      "training on using lr decay_lr:1e-07\n"
     ]
    },
    {
     "data": {
      "application/vnd.jupyter.widget-view+json": {
       "model_id": "69627623913d4ce4ac1c6a8b57b701cf",
       "version_major": 2,
       "version_minor": 0
      },
      "text/plain": [
       "  0%|          | 0/5 [00:00<?, ?it/s]"
      ]
     },
     "metadata": {},
     "output_type": "display_data"
    },
    {
     "name": "stdout",
     "output_type": "stream",
     "text": [
      "current loss 0.3525148836024144 and accuracy 0.9034\n",
      "current test loss 0.35241757503308796 and accuracy 0.9024\n",
      "current loss 0.3136784030806435 and accuracy 0.9141\n",
      "current test loss 0.3232356854509415 and accuracy 0.9109\n",
      "current loss 0.30282428044452275 and accuracy 0.9117\n",
      "current test loss 0.314150913811213 and accuracy 0.9091\n",
      "current loss 0.29668122319331114 and accuracy 0.9152\n",
      "current test loss 0.30251420575939697 and accuracy 0.9139\n",
      "current loss 0.28855473104200696 and accuracy 0.9207\n",
      "current test loss 0.3080858945202599 and accuracy 0.9131\n",
      "current loss 0.2956837733960635 and accuracy 0.9178\n",
      "current test loss 0.30322647262748925 and accuracy 0.9155\n",
      "triggering lr decay\n",
      "current loss 0.27367162261403083 and accuracy 0.9228\n",
      "current test loss 0.2855193841121772 and accuracy 0.9204\n",
      "current loss 0.27434140774514715 and accuracy 0.9228\n",
      "current test loss 0.285683036621783 and accuracy 0.9193\n",
      "triggering lr decay\n",
      "current loss 0.27161590592347107 and accuracy 0.924\n",
      "current test loss 0.2825189362923925 and accuracy 0.9206\n",
      "current loss 0.2720856299424916 and accuracy 0.9255\n",
      "current test loss 0.28024581083801114 and accuracy 0.9213\n",
      "triggering lr decay\n",
      "current loss 0.2692208153048822 and accuracy 0.9254\n",
      "current test loss 0.2781492533970673 and accuracy 0.9226\n",
      "current loss 0.26924519118285956 and accuracy 0.9251\n",
      "current test loss 0.2778753333088254 and accuracy 0.9217\n",
      "triggering lr decay\n",
      "current loss 0.26909384809007225 and accuracy 0.9254\n",
      "current test loss 0.2786868436665014 and accuracy 0.9216\n",
      "current loss 0.2688257529220029 and accuracy 0.925\n",
      "current test loss 0.27650491008058914 and accuracy 0.9225\n",
      "current loss 0.26751100035919073 and accuracy 0.9258\n",
      "current test loss 0.2769531327522045 and accuracy 0.9234\n",
      "current loss 0.2672759771720298 and accuracy 0.9252\n",
      "current test loss 0.27566243502498894 and accuracy 0.923\n",
      "current loss 0.26864231981525827 and accuracy 0.9249\n",
      "current test loss 0.27694081002973814 and accuracy 0.9234\n",
      "triggering lr decay\n",
      "current loss 0.26744327120759187 and accuracy 0.9258\n",
      "current test loss 0.27652505366398317 and accuracy 0.9225\n",
      "current loss 0.2676779925705095 and accuracy 0.9258\n",
      "current test loss 0.2759563165794616 and accuracy 0.9232\n",
      "triggering lr decay\n",
      "current loss 0.26669144842011305 and accuracy 0.9261\n",
      "current test loss 0.27557103378310277 and accuracy 0.9236\n",
      "current loss 0.2667134860070144 and accuracy 0.9254\n",
      "current test loss 0.2752165979726835 and accuracy 0.9228\n",
      "triggering lr decay\n",
      "current loss 0.2666148346316972 and accuracy 0.9261\n",
      "current test loss 0.27527422889170094 and accuracy 0.9231\n",
      "current loss 0.2665850970539957 and accuracy 0.9263\n",
      "current test loss 0.27540466075307024 and accuracy 0.9231\n",
      "current loss 0.26656792748118524 and accuracy 0.9261\n",
      "current test loss 0.27564220441290904 and accuracy 0.9232\n",
      "current loss 0.2665837489836374 and accuracy 0.9265\n",
      "current test loss 0.27546824459336694 and accuracy 0.9227\n",
      "triggering lr decay\n"
     ]
    }
   ],
   "source": [
    "dim_input = 28*28\n",
    "dim_output = 10\n",
    "\n",
    "for do_lr_decay in (False, True):\n",
    "    for do_momentum_SGD in (True, False):\n",
    "        for initial_lr in 1/np.power(10,np.arange(0,8)):\n",
    "            if do_momentum_SGD:\n",
    "                Opt = MomtenumSGD\n",
    "            else:\n",
    "                Opt = SGD\n",
    "            if do_lr_decay:\n",
    "                name = \"using lr decay\"\n",
    "                if do_momentum_SGD:\n",
    "                    name += \" and momentum SGD\"\n",
    "            elif do_momentum_SGD:\n",
    "                name = \"using momentum SGD\"\n",
    "            else:\n",
    "                name = \"vanilla\"\n",
    "            name += \"_lr:\" + str(initial_lr)\n",
    "            if name in linear_histories:\n",
    "                print(\"skipping\",name)\n",
    "                continue;\n",
    "            print(\"training on\",name)\n",
    "            linear_network = LinearNetwork(dim_input, dim_output, name=name)\n",
    "            linear_optimizer = Opt(linear_network.parameters(), 0.01, lrDecay = do_lr_decay)\n",
    "            linear_history = training_loop(linear_network, linear_optimizer, train_data, dev_data, n_epochs=5)\n",
    "            linear_histories[name] = (linear_history, linear_network)\n",
    "        "
   ]
  },
  {
   "cell_type": "code",
   "execution_count": 189,
   "metadata": {},
   "outputs": [],
   "source": [
    "with open('linear_histories.pickle', 'wb') as handle:\n",
    "    pickle.dump(linear_histories, handle, protocol=pickle.HIGHEST_PROTOCOL)"
   ]
  },
  {
   "cell_type": "code",
   "execution_count": 105,
   "metadata": {},
   "outputs": [
    {
     "data": {
      "image/png": "[encoded data removed]",
      "text/plain": [
       "<Figure size 432x288 with 1 Axes>"
      ]
     },
     "metadata": {
      "needs_background": "light"
     },
     "output_type": "display_data"
    },
    {
     "data": {
      "image/png": "[encoded data removed]",
      "text/plain": [
       "<Figure size 432x288 with 1 Axes>"
      ]
     },
     "metadata": {
      "needs_background": "light"
     },
     "output_type": "display_data"
    },
    {
     "data": {
      "image/png": "[encoded data removed]",
      "text/plain": [
       "<Figure size 432x288 with 1 Axes>"
      ]
     },
     "metadata": {
      "needs_background": "light"
     },
     "output_type": "display_data"
    },
    {
     "data": {
      "image/png": "[encoded data removed]",
      "text/plain": [
       "<Figure size 432x288 with 1 Axes>"
      ]
     },
     "metadata": {
      "needs_background": "light"
     },
     "output_type": "display_data"
    }
   ],
   "source": [
    "plot_loss_and_accuracy(linear_history_vanilla, linear_network_vanilla)\n",
    "plot_loss_and_accuracy(linear_history_lr_decay, linear_network_lr_decay)"
   ]
  },
  {
   "cell_type": "markdown",
   "metadata": {},
   "source": [
    "After you finished the linear network, you can move to a deep network!"
   ]
  },
  {
   "cell_type": "code",
   "execution_count": 121,
   "metadata": {},
   "outputs": [],
   "source": [
    "class DeepNetwork(Module):\n",
    "    def __init__(self, dim_input, dim_output, hidden_dim, n_layers, use_tanh=False, name = \"\"):\n",
    "        self.W = ModuleList()\n",
    "        self.b = ModuleList()\n",
    "        self.n_layers = n_layers\n",
    "        self.hidden_dim = hidden_dim\n",
    "        self.name = name\n",
    "        self.activation = relu   # relu by default, will change if use_tanh=True\n",
    "        if use_tanh:\n",
    "            self.activation = tanh\n",
    "\n",
    "        # the first hidden layer, takes the input data x as input\n",
    "        first = LinearNetwork(dim_input, hidden_dim)\n",
    "        self.W.append(first.W)\n",
    "        self.b.append(first.b)\n",
    "\n",
    "        # add all other hidden layers, range(n_layers-1) because we already added a hidden layer\n",
    "        for i in range(n_layers-1):\n",
    "            hidden = LinearNetwork(hidden_dim, hidden_dim)\n",
    "            self.W.append(hidden.W)\n",
    "            self.b.append(hidden.b)\n",
    "        \n",
    "        # the last layer (not hidden, has no activation function), output the logits vector \n",
    "        last = LinearNetwork(hidden_dim, dim_output)\n",
    "        # output_proj, output_bias will not be stored with the other W, b because they require no activation function during the forward pass\n",
    "        self.output_proj = last.W\n",
    "        self.output_bias = last.b\n",
    "        \n",
    "        # initialize the parameters\n",
    "        self.init_parameters()\n",
    "        \n",
    "    def init_parameters(self):\n",
    "\n",
    "        for i in range(len(self.W)):\n",
    "            glorot_init(self.W[i].data)\n",
    "            zero_init(self.b[i].data)\n",
    "\n",
    "        # inititlize output_proj & output_bias because they're not stored in self.W, self.b\n",
    "        glorot_init(self.output_proj.data)\n",
    "        zero_init(self.output_bias.data)\n",
    "\n",
    "    def forward(self, x):\n",
    "        z = x\n",
    "        # forward trough the hidden layers\n",
    "        for W, b in zip(self.W, self.b):\n",
    "            z = self.activation(affine_transform(W, b, z))\n",
    "            \n",
    "        # forward trough the last layer (linear, no activation function)\n",
    "        output = affine_transform(self.output_proj, self.output_bias, z)\n",
    "        return output\n",
    "        "
   ]
  },
  {
   "cell_type": "code",
   "execution_count": 124,
   "metadata": {},
   "outputs": [
    {
     "data": {
      "image/png": "[encoded data removed]",
      "text/plain": [
       "<Figure size 432x288 with 1 Axes>"
      ]
     },
     "metadata": {
      "needs_background": "light"
     },
     "output_type": "display_data"
    },
    {
     "data": {
      "image/png": "[encoded data removed]",
      "text/plain": [
       "<Figure size 432x288 with 1 Axes>"
      ]
     },
     "metadata": {
      "needs_background": "light"
     },
     "output_type": "display_data"
    }
   ],
   "source": [
    "plot_loss_and_accuracy(histories['using momentum SGD'][0],histories['using momentum SGD'][1])"
   ]
  },
  {
   "cell_type": "code",
   "execution_count": 280,
   "metadata": {},
   "outputs": [],
   "source": [
    "deep_histories_neurons_per_layer = deep_histories"
   ]
  },
  {
   "cell_type": "code",
   "execution_count": null,
   "metadata": {
    "scrolled": true
   },
   "outputs": [
    {
     "name": "stdout",
     "output_type": "stream",
     "text": [
      "training on using lr decay and momentum SGDrelu_25\n"
     ]
    },
    {
     "data": {
      "application/vnd.jupyter.widget-view+json": {
       "model_id": "9a7719a4b04e42a18820b7d8d347670e",
       "version_major": 2,
       "version_minor": 0
      },
      "text/plain": [
       "  0%|          | 0/5 [00:00<?, ?it/s]"
      ]
     },
     "metadata": {},
     "output_type": "display_data"
    },
    {
     "name": "stdout",
     "output_type": "stream",
     "text": [
      "current loss 0.29655543215269037 and accuracy 0.9085\n",
      "current test loss 0.31032225410966047 and accuracy 0.9027\n",
      "current loss 0.2210906330553208 and accuracy 0.937\n",
      "current test loss 0.22901236928629287 and accuracy 0.9314\n",
      "current loss 0.2490382625357383 and accuracy 0.9309\n",
      "current test loss 0.2565044502273002 and accuracy 0.9246\n",
      "triggering lr decay\n",
      "current loss 0.17491260584551943 and accuracy 0.9488\n",
      "current test loss 0.1765489844410479 and accuracy 0.9459\n",
      "current loss 0.15823963151884868 and accuracy 0.9552\n",
      "current test loss 0.16655464273623669 and accuracy 0.949\n",
      "current loss 0.19437060552014832 and accuracy 0.9396\n",
      "current test loss 0.19256611060982023 and accuracy 0.9372\n",
      "triggering lr decay\n",
      "current loss 0.15058108023690822 and accuracy 0.9578\n",
      "current test loss 0.1509566631965598 and accuracy 0.9543\n",
      "current loss 0.14604285840403614 and accuracy 0.9581\n",
      "current test loss 0.14530089762817178 and accuracy 0.9551\n",
      "current loss 0.13454432984241899 and accuracy 0.962\n",
      "current test loss 0.1362604180909892 and accuracy 0.9581\n",
      "current loss 0.1340191592192241 and accuracy 0.9605\n",
      "current test loss 0.13821044370196808 and accuracy 0.9575\n",
      "current loss 0.1362867341470254 and accuracy 0.9606\n",
      "current test loss 0.1338617758003716 and accuracy 0.9573\n",
      "triggering lr decay\n",
      "current loss 0.1299657197804662 and accuracy 0.962\n",
      "current test loss 0.13034426037243638 and accuracy 0.9572\n",
      "current loss 0.12893100864481497 and accuracy 0.9632\n",
      "current test loss 0.1299470383523477 and accuracy 0.9593\n",
      "current loss 0.1352208702279629 and accuracy 0.9621\n",
      "current test loss 0.13419219120133052 and accuracy 0.9596\n",
      "triggering lr decay\n",
      "current loss 0.1281059186690904 and accuracy 0.9633\n",
      "current test loss 0.12864102440464703 and accuracy 0.959\n",
      "current loss 0.12823536798032184 and accuracy 0.9631\n",
      "current test loss 0.12596918976824087 and accuracy 0.9597\n",
      "triggering lr decay\n",
      "current loss 0.12498802806276496 and accuracy 0.9641\n",
      "current test loss 0.12496825735903797 and accuracy 0.9606\n",
      "current loss 0.1238621181358584 and accuracy 0.9634\n",
      "current test loss 0.12331120612614979 and accuracy 0.9596\n",
      "current loss 0.12307115942477563 and accuracy 0.9645\n",
      "current test loss 0.1230787618916134 and accuracy 0.9596\n",
      "current loss 0.12249626109664968 and accuracy 0.9651\n",
      "current test loss 0.12327568379272588 and accuracy 0.961\n",
      "current loss 0.12371487522428602 and accuracy 0.9644\n",
      "current test loss 0.12328006338216513 and accuracy 0.9612\n",
      "triggering lr decay\n",
      "current loss 0.12295548425056081 and accuracy 0.9648\n",
      "current test loss 0.12191446630271821 and accuracy 0.9612\n",
      "current loss 0.1242861173609866 and accuracy 0.9638\n",
      "current test loss 0.1244722900909895 and accuracy 0.9597\n",
      "triggering lr decay\n",
      "current loss 0.12279054461194255 and accuracy 0.9644\n",
      "current test loss 0.12318594357840083 and accuracy 0.9608\n",
      "current loss 0.12273270062370326 and accuracy 0.9641\n",
      "current test loss 0.12238140065128103 and accuracy 0.9608\n",
      "training on using lr decay and momentum SGDtanh_25\n"
     ]
    },
    {
     "data": {
      "application/vnd.jupyter.widget-view+json": {
       "model_id": "ca62b1708ad34340803e90bdba85f1c2",
       "version_major": 2,
       "version_minor": 0
      },
      "text/plain": [
       "  0%|          | 0/5 [00:00<?, ?it/s]"
      ]
     },
     "metadata": {},
     "output_type": "display_data"
    },
    {
     "name": "stdout",
     "output_type": "stream",
     "text": [
      "current loss 0.31240323960206556 and accuracy 0.9045\n",
      "current test loss 0.34239202236638827 and accuracy 0.8941\n",
      "current loss 0.22910073996031025 and accuracy 0.9326\n",
      "current test loss 0.24955336847812024 and accuracy 0.9268\n",
      "current loss 0.21796502718586083 and accuracy 0.9341\n",
      "current test loss 0.22964922291802842 and accuracy 0.929\n",
      "current loss 0.22027154150683081 and accuracy 0.9362\n",
      "current test loss 0.22404764867076557 and accuracy 0.9306\n",
      "triggering lr decay\n",
      "current loss 0.18340727346199825 and accuracy 0.9474\n"
     ]
    }
   ],
   "source": [
    "dim_input = 28*28\n",
    "dim_output = 10\n",
    "\n",
    "do_lr_decay = True\n",
    "do_momentum_SGD = True\n",
    "for neurons_per_layer in (25,75):\n",
    "    for do_tanh in (False, True):\n",
    "        if do_momentum_SGD:\n",
    "            Opt = MomtenumSGD\n",
    "        else:\n",
    "            Opt = SGD\n",
    "        if do_lr_decay:\n",
    "            name = \"using lr decay\"\n",
    "            if do_momentum_SGD:\n",
    "                name += \" and momentum SGD\"\n",
    "        elif do_momentum_SGD:\n",
    "            name = \"using momentum SGD\"\n",
    "        else:\n",
    "            name = \"vanilla\"\n",
    "        if do_tanh:\n",
    "            name += \"tanh\"\n",
    "        else:\n",
    "            name += \"relu\"\n",
    "        name += \"_\"+str(neurons_per_layer)\n",
    "        if name in histories: continue;\n",
    "        print(\"training on\",name)\n",
    "        deep_network = DeepNetwork(dim_input, dim_output, neurons_per_layer, 2,name=name, use_tanh=do_tanh)\n",
    "        deep_optimizer = Opt(deep_network.parameters(), 0.01, lrDecay = do_lr_decay)\n",
    "        deep_history = training_loop(deep_network, deep_optimizer, train_data, dev_data, n_epochs=5)\n",
    "        deep_histories_neurons_per_layer[name] = (deep_history, deep_network)\n",
    "        "
   ]
  },
  {
   "cell_type": "code",
   "execution_count": 167,
   "metadata": {},
   "outputs": [
    {
     "name": "stdout",
     "output_type": "stream",
     "text": [
      "Evaluation on the test set: loss=0.094 accuracy=0.972\n",
      "Evaluation on the test set: loss=0.111 accuracy=0.968\n",
      "Evaluation on the test set: loss=0.066 accuracy=0.979\n",
      "Evaluation on the test set: loss=0.075 accuracy=0.977\n"
     ]
    },
    {
     "data": {
      "image/png": "[encoded data removed]",
      "text/plain": [
       "<Figure size 432x288 with 1 Axes>"
      ]
     },
     "metadata": {
      "needs_background": "light"
     },
     "output_type": "display_data"
    },
    {
     "data": {
      "image/png": "[encoded data removed]",
      "text/plain": [
       "<Figure size 432x288 with 1 Axes>"
      ]
     },
     "metadata": {
      "needs_background": "light"
     },
     "output_type": "display_data"
    },
    {
     "data": {
      "image/png": "[encoded data removed]",
      "text/plain": [
       "<Figure size 432x288 with 1 Axes>"
      ]
     },
     "metadata": {
      "needs_background": "light"
     },
     "output_type": "display_data"
    },
    {
     "data": {
      "image/png": "[encoded data removed]",
      "text/plain": [
       "<Figure size 432x288 with 1 Axes>"
      ]
     },
     "metadata": {
      "needs_background": "light"
     },
     "output_type": "display_data"
    },
    {
     "data": {
      "image/png": "[encoded data removed]",
      "text/plain": [
       "<Figure size 432x288 with 1 Axes>"
      ]
     },
     "metadata": {
      "needs_background": "light"
     },
     "output_type": "display_data"
    },
    {
     "data": {
      "image/png": "[encoded data removed]",
      "text/plain": [
       "<Figure size 432x288 with 1 Axes>"
      ]
     },
     "metadata": {
      "needs_background": "light"
     },
     "output_type": "display_data"
    },
    {
     "data": {
      "image/png": "[encoded data removed]",
      "text/plain": [
       "<Figure size 432x288 with 1 Axes>"
      ]
     },
     "metadata": {
      "needs_background": "light"
     },
     "output_type": "display_data"
    },
    {
     "data": {
      "image/png": "[encoded data removed]",
      "text/plain": [
       "<Figure size 432x288 with 1 Axes>"
      ]
     },
     "metadata": {
      "needs_background": "light"
     },
     "output_type": "display_data"
    }
   ],
   "source": [
    "for key in histories.keys():\n",
    "    (deep_history, deep_network) = histories[key]\n",
    "    test_loss, test_acc = evaluate(deep_network, test_data)\n",
    "    print(f'Evaluation on the test set: loss={test_loss:.3f} accuracy={test_acc:.3f}')\n",
    "    plot_loss_and_accuracy(deep_history, deep_network)"
   ]
  },
  {
   "cell_type": "code",
   "execution_count": 79,
   "metadata": {},
   "outputs": [
    {
     "data": {
      "image/png": "[encoded data removed]",
      "text/plain": [
       "<Figure size 432x288 with 1 Axes>"
      ]
     },
     "metadata": {
      "needs_background": "light"
     },
     "output_type": "display_data"
    },
    {
     "data": {
      "image/png": "[encoded data removed]",
      "text/plain": [
       "<Figure size 432x288 with 1 Axes>"
      ]
     },
     "metadata": {
      "needs_background": "light"
     },
     "output_type": "display_data"
    }
   ],
   "source": [
    "plot_loss_and_accuracy(deep_history, deep_network)"
   ]
  },
  {
   "cell_type": "markdown",
   "metadata": {},
   "source": [
    "## Bonus\n",
    "\n",
    "You can try to implement a momentum SGD optimizer! Note that you have to keep track of the velocity for each parameter in the optimizer.\n"
   ]
  }
 ],
 "metadata": {
  "kernelspec": {
   "display_name": "Python 3",
   "language": "python",
   "name": "python3"
  },
  "language_info": {
   "codemirror_mode": {
    "name": "ipython",
    "version": 3
   },
   "file_extension": ".py",
   "mimetype": "text/x-python",
   "name": "python",
   "nbconvert_exporter": "python",
   "pygments_lexer": "ipython3",
   "version": "3.10.4"
  }
 },
 "nbformat": 4,
 "nbformat_minor": 2
}
